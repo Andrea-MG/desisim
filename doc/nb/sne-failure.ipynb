{
 "cells": [
  {
   "cell_type": "markdown",
   "metadata": {},
   "source": [
    "# Make Template + Supernova\n",
    "\n",
    "Test insertion of SNe in `desisim.templates.GALAXY`.\n",
    "\n",
    "For now it will fail because metadata needed by the `GALAXY` is missing."
   ]
  },
  {
   "cell_type": "code",
   "execution_count": 2,
   "metadata": {},
   "outputs": [],
   "source": [
    "import numpy as np\n",
    "import matplotlib as mpl\n",
    "import matplotlib.pyplot as plt\n",
    "\n",
    "from desisim.templates import BGS\n",
    "\n",
    "mpl.rc('font', size=14)"
   ]
  },
  {
   "cell_type": "markdown",
   "metadata": {},
   "source": [
    "## Generate BGS Galaxy\n",
    "\n",
    "Just generate a vanilla galaxy from the BGS templates."
   ]
  },
  {
   "cell_type": "code",
   "execution_count": 3,
   "metadata": {},
   "outputs": [
    {
     "name": "stdout",
     "output_type": "stream",
     "text": [
      "INFO:io.py:955:read_basis_templates: Reading /Users/sybenzvi/Documents/DESI/spectro/templates/basis_templates/v3.0/bgs_templates_v2.2.fits\n"
     ]
    },
    {
     "name": "stderr",
     "output_type": "stream",
     "text": [
      "/Users/sybenzvi/anaconda/envs/desi/lib/python3.6/site-packages/speclite/filters.py:1466: FutureWarning: Using a non-tuple sequence for multidimensional indexing is deprecated; use `arr[tuple(seq)]` instead of `arr[seq]`. In the future this will be interpreted as an array index, `arr[np.array(seq)]`, which will result either in an error or a different result.\n",
      "  values_no_units = values_no_units[values_slice]\n"
     ]
    }
   ],
   "source": [
    "bgs_obj = BGS()\n",
    "flux, wave, meta, objmeta = bgs_obj.make_templates(nmodel=1, zrange=(0.1,0.1), seed=1)"
   ]
  },
  {
   "cell_type": "code",
   "execution_count": 5,
   "metadata": {},
   "outputs": [
    {
     "data": {
      "image/png": "[encoded data removed]",
      "text/plain": [
       "<matplotlib.figure.Figure at 0x126d54fd0>"
      ]
     },
     "metadata": {},
     "output_type": "display_data"
    }
   ],
   "source": [
    "fig, ax = plt.subplots(1,1, figsize=(7,4))\n",
    "ax.plot(wave, flux[0])\n",
    "ax.set(xlabel='wavelength [$\\AA$]',\n",
    "       ylabel='flux')\n",
    "fig.tight_layout();"
   ]
  },
  {
   "cell_type": "markdown",
   "metadata": {},
   "source": [
    "## Insert BGS + SN Ia\n",
    "\n",
    "Attempt to insert a Type Ia supernova into a BGS spectrum. This will fail for now."
   ]
  },
  {
   "cell_type": "code",
   "execution_count": 6,
   "metadata": {},
   "outputs": [
    {
     "name": "stdout",
     "output_type": "stream",
     "text": [
      "INFO:io.py:955:read_basis_templates: Reading /Users/sybenzvi/Documents/DESI/spectro/templates/basis_templates/v3.0/bgs_templates_v2.2.fits\n",
      "INFO:io.py:955:read_basis_templates: Reading /Users/sybenzvi/Documents/DESI/spectro/templates/basis_templates/v3.0/sne_templates_v1.1.fits\n"
     ]
    },
    {
     "ename": "NameError",
     "evalue": "name 'SNEmeta' is not defined",
     "output_type": "error",
     "traceback": [
      "\u001b[0;31m---------------------------------------------------------------------------\u001b[0m",
      "\u001b[0;31mNameError\u001b[0m                                 Traceback (most recent call last)",
      "\u001b[0;32m<ipython-input-6-1e84415f7840>\u001b[0m in \u001b[0;36m<module>\u001b[0;34m()\u001b[0m\n\u001b[1;32m      1\u001b[0m \u001b[0mbgs_obj\u001b[0m \u001b[0;34m=\u001b[0m \u001b[0mBGS\u001b[0m\u001b[0;34m(\u001b[0m\u001b[0madd_SNeIa\u001b[0m\u001b[0;34m=\u001b[0m\u001b[0;32mTrue\u001b[0m\u001b[0;34m)\u001b[0m\u001b[0;34m\u001b[0m\u001b[0m\n\u001b[1;32m      2\u001b[0m flux, wave, meta, objmeta = bgs_obj.make_templates(nmodel=1, zrange=(0.1,0.1), \n\u001b[0;32m----> 3\u001b[0;31m                                                    sne_fluxratiorange=(1,1), sne_filter='decam2014r', seed=1)\n\u001b[0m\u001b[1;32m      4\u001b[0m \u001b[0mplt\u001b[0m\u001b[0;34m.\u001b[0m\u001b[0mplot\u001b[0m\u001b[0;34m(\u001b[0m\u001b[0mwave\u001b[0m\u001b[0;34m,\u001b[0m \u001b[0mflux\u001b[0m\u001b[0;34m[\u001b[0m\u001b[0;36m0\u001b[0m\u001b[0;34m]\u001b[0m\u001b[0;34m)\u001b[0m\u001b[0;34m\u001b[0m\u001b[0m\n",
      "\u001b[0;32m~/Documents/DESI/code/desisim/py/desisim/templates.py\u001b[0m in \u001b[0;36mmake_templates\u001b[0;34m(self, nmodel, zrange, magrange, oiiihbrange, logvdisp_meansig, minhbetaflux, sne_fluxratiorange, sne_filter, redshift, mag, vdisp, seed, input_meta, input_snemeta, nocolorcuts, nocontinuum, agnlike, novdisp, south, restframe, verbose)\u001b[0m\n\u001b[1;32m   1091\u001b[0m                                             \u001b[0mseed\u001b[0m\u001b[0;34m=\u001b[0m\u001b[0mseed\u001b[0m\u001b[0;34m,\u001b[0m \u001b[0minput_meta\u001b[0m\u001b[0;34m=\u001b[0m\u001b[0minput_meta\u001b[0m\u001b[0;34m,\u001b[0m \u001b[0minput_snemeta\u001b[0m\u001b[0;34m=\u001b[0m\u001b[0minput_snemeta\u001b[0m\u001b[0;34m,\u001b[0m\u001b[0;34m\u001b[0m\u001b[0m\n\u001b[1;32m   1092\u001b[0m                                             \u001b[0mnocolorcuts\u001b[0m\u001b[0;34m=\u001b[0m\u001b[0mnocolorcuts\u001b[0m\u001b[0;34m,\u001b[0m \u001b[0mnocontinuum\u001b[0m\u001b[0;34m=\u001b[0m\u001b[0mnocontinuum\u001b[0m\u001b[0;34m,\u001b[0m \u001b[0magnlike\u001b[0m\u001b[0;34m=\u001b[0m\u001b[0magnlike\u001b[0m\u001b[0;34m,\u001b[0m\u001b[0;34m\u001b[0m\u001b[0m\n\u001b[0;32m-> 1093\u001b[0;31m                                             novdisp=novdisp, south=south, restframe=restframe, verbose=verbose)\n\u001b[0m\u001b[1;32m   1094\u001b[0m         \u001b[0;32mreturn\u001b[0m \u001b[0mresult\u001b[0m\u001b[0;34m\u001b[0m\u001b[0m\n\u001b[1;32m   1095\u001b[0m \u001b[0;34m\u001b[0m\u001b[0m\n",
      "\u001b[0;32m~/Documents/DESI/code/desisim/py/desisim/templates.py\u001b[0m in \u001b[0;36mmake_galaxy_templates\u001b[0;34m(self, nmodel, zrange, magrange, oiiihbrange, logvdisp_meansig, minlineflux, sne_fluxratiorange, sne_filter, seed, redshift, mag, vdisp, input_meta, input_snemeta, nocolorcuts, nocontinuum, agnlike, novdisp, south, restframe, verbose)\u001b[0m\n\u001b[1;32m    725\u001b[0m             \u001b[0;32melse\u001b[0m\u001b[0;34m:\u001b[0m\u001b[0;34m\u001b[0m\u001b[0m\n\u001b[1;32m    726\u001b[0m                 \u001b[0;32mfrom\u001b[0m \u001b[0mdesisim\u001b[0m\u001b[0;34m.\u001b[0m\u001b[0mio\u001b[0m \u001b[0;32mimport\u001b[0m \u001b[0mempty_snemetatable\u001b[0m\u001b[0;34m\u001b[0m\u001b[0m\n\u001b[0;32m--> 727\u001b[0;31m                 \u001b[0msnemeta\u001b[0m \u001b[0;34m=\u001b[0m \u001b[0mempty_snemetatable\u001b[0m\u001b[0;34m(\u001b[0m\u001b[0mnmodel\u001b[0m\u001b[0;34m)\u001b[0m\u001b[0;34m\u001b[0m\u001b[0m\n\u001b[0m\u001b[1;32m    728\u001b[0m \u001b[0;34m\u001b[0m\u001b[0m\n\u001b[1;32m    729\u001b[0m                 \u001b[0msne_fluxratio\u001b[0m \u001b[0;34m=\u001b[0m \u001b[0mrand\u001b[0m\u001b[0;34m.\u001b[0m\u001b[0muniform\u001b[0m\u001b[0;34m(\u001b[0m\u001b[0msne_fluxratiorange\u001b[0m\u001b[0;34m[\u001b[0m\u001b[0;36m0\u001b[0m\u001b[0;34m]\u001b[0m\u001b[0;34m,\u001b[0m \u001b[0msne_fluxratiorange\u001b[0m\u001b[0;34m[\u001b[0m\u001b[0;36m1\u001b[0m\u001b[0;34m]\u001b[0m\u001b[0;34m,\u001b[0m \u001b[0mnmodel\u001b[0m\u001b[0;34m)\u001b[0m\u001b[0;34m\u001b[0m\u001b[0m\n",
      "\u001b[0;32m~/Documents/DESI/code/desisim/py/desisim/io.py\u001b[0m in \u001b[0;36mempty_snemetatable\u001b[0;34m(nmodel)\u001b[0m\n\u001b[1;32m   1234\u001b[0m     snemeta.add_column(Column(name='SNE_EPOCH', length=nmodel, dtype='f4',\n\u001b[1;32m   1235\u001b[0m                               data=np.zeros(nmodel)-1, unit='days'))\n\u001b[0;32m-> 1236\u001b[0;31m     \u001b[0mSNEmeta\u001b[0m\u001b[0;34m.\u001b[0m\u001b[0madd_column\u001b[0m\u001b[0;34m(\u001b[0m\u001b[0mColumn\u001b[0m\u001b[0;34m(\u001b[0m\u001b[0mname\u001b[0m\u001b[0;34m=\u001b[0m\u001b[0;34m'SNE_FILTER'\u001b[0m\u001b[0;34m,\u001b[0m \u001b[0mlength\u001b[0m\u001b[0;34m=\u001b[0m\u001b[0mnmodel\u001b[0m\u001b[0;34m,\u001b[0m \u001b[0mdtype\u001b[0m\u001b[0;34m=\u001b[0m\u001b[0;34m'U15'\u001b[0m\u001b[0;34m)\u001b[0m\u001b[0;34m)\u001b[0m \u001b[0;31m# normalization filter\u001b[0m\u001b[0;34m\u001b[0m\u001b[0m\n\u001b[0m\u001b[1;32m   1237\u001b[0m \u001b[0;34m\u001b[0m\u001b[0m\n\u001b[1;32m   1238\u001b[0m     \u001b[0;32mreturn\u001b[0m \u001b[0msnemeta\u001b[0m\u001b[0;34m\u001b[0m\u001b[0m\n",
      "\u001b[0;31mNameError\u001b[0m: name 'SNEmeta' is not defined"
     ]
    }
   ],
   "source": [
    "bgs_obj = BGS(add_SNeIa=True)\n",
    "flux, wave, meta, objmeta = bgs_obj.make_templates(nmodel=1, zrange=(0.1,0.1), \n",
    "                                                   sne_fluxratiorange=(1,1), sne_filter='decam2014r', seed=1)\n",
    "plt.plot(wave, flux[0])"
   ]
  },
  {
   "cell_type": "code",
   "execution_count": null,
   "metadata": {},
   "outputs": [],
   "source": []
  }
 ],
 "metadata": {
  "kernelspec": {
   "display_name": "Python [conda env:desi]",
   "language": "python",
   "name": "conda-env-desi-py"
  },
  "language_info": {
   "codemirror_mode": {
    "name": "ipython",
    "version": 3
   },
   "file_extension": ".py",
   "mimetype": "text/x-python",
   "name": "python",
   "nbconvert_exporter": "python",
   "pygments_lexer": "ipython3",
   "version": "3.6.5"
  }
 },
 "nbformat": 4,
 "nbformat_minor": 2
}
