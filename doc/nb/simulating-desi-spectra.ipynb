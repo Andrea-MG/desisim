{
 "cells": [
  {
   "cell_type": "markdown",
   "metadata": {},
   "source": [
    "# Simulating DESI Spectra\n",
    "\n",
    "The goal of this notebook is to demonstrate how to generate some simple DESI spectra using the *quickgen* utility.  For simplicity we will only generate 1D spectra and skip the more computationally intensive (yet still instructive!) step of extracting 1D spectra from simulated 2D spectra (i.e., so-called \"pixel-level simulations\").\n",
    "\n",
    "For additional (albeit somewhat outdated) information and documentation about *quickgen* see  \n",
    "https://desi.lbl.gov/DocDB/cgi-bin/private/ShowDocument?docid=1429\n",
    "\n",
    "If you identify any errors or have requests for additional functionality please create a new issue on  \n",
    "https://github.com/desihub/desisim/issues\n",
    "or send a note to <desi-data@desi.lbl.gov>."
   ]
  },
  {
   "cell_type": "markdown",
   "metadata": {},
   "source": [
    "## Getting started.\n",
    "\n",
    "First, import all the package dependencies."
   ]
  },
  {
   "cell_type": "code",
   "execution_count": 1,
   "metadata": {
    "collapsed": false,
    "deletable": true,
    "editable": true
   },
   "outputs": [],
   "source": [
    "import os\n",
    "import numpy as np\n",
    "\n",
    "import matplotlib.pyplot as plt\n",
    "from astropy.io import fits\n",
    "from astropy.table import Table"
   ]
  },
  {
   "cell_type": "code",
   "execution_count": 2,
   "metadata": {
    "collapsed": false
   },
   "outputs": [
    {
     "name": "stdout",
     "output_type": "stream",
     "text": [
      "Populating the interactive namespace from numpy and matplotlib\n"
     ]
    }
   ],
   "source": [
    "%pylab inline"
   ]
  },
  {
   "cell_type": "code",
   "execution_count": 3,
   "metadata": {
    "collapsed": false
   },
   "outputs": [
    {
     "name": "stdout",
     "output_type": "stream",
     "text": [
      "WARNING:log.py:19:get_logger: desispec.log is deprecated, please use desiutil.log.\n",
      "WARNING:log.py:19:get_logger: desispec.log is deprecated, please use desiutil.log.\n",
      "WARNING:log.py:19:get_logger: desispec.log is deprecated, please use desiutil.log.\n"
     ]
    }
   ],
   "source": [
    "import desispec.io\n",
    "import desisim.io\n",
    "from desisim.obs import new_exposure\n",
    "from desisim.scripts import quickgen\n",
    "from desispec.scripts import makebricks\n",
    "\n",
    "from desiutil.log import get_logger\n",
    "log = get_logger()"
   ]
  },
  {
   "cell_type": "markdown",
   "metadata": {},
   "source": [
    "Make sure we have all the right environment variables set (assuming the bash shell).  If any of these environment variables are missing please set them in your *.bashrc* file (and then restart this notebook) or create them for just this notebook session using the *%set_env* magic command, as we demonstrate below."
   ]
  },
  {
   "cell_type": "code",
   "execution_count": 4,
   "metadata": {
    "collapsed": false
   },
   "outputs": [],
   "source": [
    "def check_env():\n",
    "    for env in ('DESIMODEL', 'DESI_ROOT', 'DESI_SPECTRO_SIM', 'DESI_SPECTRO_DATA', \n",
    "            'DESI_SPECTRO_REDUX', 'SPECPROD', 'PIXPROD'):\n",
    "        if env in os.environ:\n",
    "            print('{} environment set to {}'.format(env, os.getenv(env)))\n",
    "        else:\n",
    "            print('Required environment variable {} not set!'.format(env))"
   ]
  },
  {
   "cell_type": "code",
   "execution_count": 5,
   "metadata": {
    "collapsed": false
   },
   "outputs": [
    {
     "name": "stdout",
     "output_type": "stream",
     "text": [
      "DESIMODEL environment set to /Users/sbailey/desi/git/desimodel/svn/trunk\n",
      "DESI_ROOT environment set to /data/desi\n",
      "DESI_SPECTRO_SIM environment set to /data/desi/spectro/sim\n",
      "DESI_SPECTRO_DATA environment set to /data/desi/spectro/data\n",
      "DESI_SPECTRO_REDUX environment set to /data/desi/spectro/redux\n",
      "SPECPROD environment set to debug\n",
      "PIXPROD environment set to debug\n"
     ]
    }
   ],
   "source": [
    "check_env()"
   ]
  },
  {
   "cell_type": "markdown",
   "metadata": {},
   "source": [
    "Let's reassign the *\\$SPECPROD* environment to something other than \"dailytest\" so that we don't conflict with the outputs of the standard DESI integration test.  In addition, we need to make raw data input *\\$DESI_SPECTO_DATA* match *\\$DESI_SPECTRO_SIM/\\$PIXPROD* where the simulated data will be written."
   ]
  },
  {
   "cell_type": "code",
   "execution_count": 6,
   "metadata": {
    "collapsed": false
   },
   "outputs": [
    {
     "name": "stdout",
     "output_type": "stream",
     "text": [
      "env: SPECPROD=example\n",
      "env: PIXPROD=example\n",
      "env: DESI_SPECTRO_DATA=/data/desi/spectro/sim/example/\n",
      "Simulated raw data will be written to /data/desi/spectro/sim/example/\n",
      "Pipeline will read raw data from /data/desi/spectro/sim/example/\n",
      "    (without knowing that it was simulated)\n",
      "Pipeline will write processed data to /data/desi/spectro/redux/example\n"
     ]
    }
   ],
   "source": [
    "%set_env SPECPROD=example\n",
    "%set_env PIXPROD=example\n",
    "rawdata_dir = desisim.io.simdir()\n",
    "%set_env DESI_SPECTRO_DATA=$rawdata_dir\n",
    "\n",
    "print('Simulated raw data will be written to '+desisim.io.simdir())\n",
    "print('Pipeline will read raw data from '+desispec.io.rawdata_root())\n",
    "print('    (without knowing that it was simulated)')\n",
    "print('Pipeline will write processed data to '+desispec.io.specprod_root())"
   ]
  },
  {
   "cell_type": "markdown",
   "metadata": {},
   "source": [
    "## Specify the parameters of the simulation.\n",
    "\n",
    "Next, specify the number and spectral type distribution of spectra we want to simulate, and the random seed.  Setting the seed here (which can be any number at all!) ensures that your simulations are reproducible.  Let's also explicitly set the *night* of the \"observations\" (the default is to use the current date) and the *expid* or exposure ID number (which would allow you to simulate more than one DESI exposure).\n",
    "\n",
    "The *flavor* option is used to choose the correct sky-brightness model and it also determines the distribution of targets for a given flavor.  For example, *flavor='dark'* returns the right relative sampling density of ELGs, LRGs, and QSOs.  The other available (science target) options for *flavor* are 'dark', 'gray', 'grey', 'bright', 'bgs', 'mws', 'lrg', 'elg', 'qso', and 'std'.  (You can also set flavor to either 'arc' or 'flat' but that would be boring!)"
   ]
  },
  {
   "cell_type": "code",
   "execution_count": 7,
   "metadata": {
    "collapsed": true
   },
   "outputs": [],
   "source": [
    "nspec = 50\n",
    "seed = 555\n",
    "flavor = 'dark'\n",
    "night = '20170615'\n",
    "expid = 0"
   ]
  },
  {
   "cell_type": "code",
   "execution_count": 8,
   "metadata": {
    "collapsed": false
   },
   "outputs": [
    {
     "name": "stdout",
     "output_type": "stream",
     "text": [
      "/data/desi/spectro/sim/example/20170615\n"
     ]
    }
   ],
   "source": [
    "simdir = desisim.io.simdir(night=night)\n",
    "print(simdir)"
   ]
  },
  {
   "cell_type": "markdown",
   "metadata": {},
   "source": [
    "## Generate the fibermap and truth tables.\n",
    "\n",
    "The first step is to generate the *fibermap* and *simspec* files needed by *quickgen*.  The *fibermap* table contains (simulated) information about the position of each target in the DESI focal plane, while the *simspec* table holds the \"truth\" spectra and the intrinsic properties of each object (redshift, noiseless photometry, [OII] flux, etc.).\n",
    "\n",
    "Note that the *tileid* and *exptime* (exposure time) optional inputs are shown here for demonstration purposes but do not need to be explicitly set.  In particular, the default exposure time is based on the value specified in the *$DESIMODEL/data/desi.yaml* parameter file.\n",
    "\n",
    "The *fibermap* object is an astropy Table with lots of goodies while the *truth* object is a dictionary that we won't use anymore (we'll instead use the *simspec* table; see below).  The fibermap data model is described at  \n",
    "http://desidatamodel.readthedocs.io/en/latest/DESI_SPECTRO_DATA/NIGHT/fibermap-EXPID.html"
   ]
  },
  {
   "cell_type": "code",
   "execution_count": 9,
   "metadata": {
    "collapsed": false
   },
   "outputs": [
    {
     "name": "stdout",
     "output_type": "stream",
     "text": [
      "INFO:io.py:625:read_basis_templates: Reading /data/desi/spectro/templates/basis_templates/v2.3/lrg_templates_v1.3.fits\n",
      "INFO:io.py:625:read_basis_templates: Reading /data/desi/spectro/templates/basis_templates/v2.3/lrg_templates_v1.3.fits\n",
      "INFO:io.py:625:read_basis_templates: Reading /data/desi/spectro/templates/basis_templates/v2.3/star_templates_v2.1.fits\n",
      "INFO:io.py:625:read_basis_templates: Reading /data/desi/spectro/templates/basis_templates/v2.3/star_templates_v2.1.fits\n",
      "INFO:io.py:625:read_basis_templates: Reading /data/desi/spectro/templates/basis_templates/v2.3/star_templates_v2.1.fits\n",
      "INFO:io.py:625:read_basis_templates: Reading /data/desi/spectro/templates/basis_templates/v2.3/elg_templates_v2.0.fits\n",
      "INFO:io.py:625:read_basis_templates: Reading /data/desi/spectro/templates/basis_templates/v2.3/elg_templates_v2.0.fits\n",
      "INFO:obs.py:226:new_exposure: skyfile /Users/sbailey/desi/git/desimodel/svn/trunk/data/spectra/spec-sky.dat\n",
      "INFO:obs.py:297:new_exposure: Wrote /data/desi/spectro/sim/example/20170615/fibermap-00000000.fits\n",
      "INFO:obs.py:305:new_exposure: Wrote /data/desi/spectro/sim/example/20170615/simspec-00000000.fits\n"
     ]
    }
   ],
   "source": [
    "fibermap, truth = new_exposure(flavor=flavor, nspec=nspec, seed=seed, night=night, \n",
    "                               expid=expid, tileid=None, exptime=None)"
   ]
  },
  {
   "cell_type": "markdown",
   "metadata": {},
   "source": [
    "Let's see what got written to the raw data directory as a result of that last command:"
   ]
  },
  {
   "cell_type": "code",
   "execution_count": 10,
   "metadata": {
    "collapsed": false
   },
   "outputs": [
    {
     "name": "stdout",
     "output_type": "stream",
     "text": [
      "/data/desi/spectro/sim/example/\r\n",
      "/data/desi/spectro/sim/example//20170615\r\n",
      "/data/desi/spectro/sim/example//20170615/fibermap-00000000.fits\r\n",
      "/data/desi/spectro/sim/example//20170615/simspec-00000000.fits\r\n",
      "/data/desi/spectro/sim/example//etc\r\n",
      "/data/desi/spectro/sim/example//etc/obslog.sqlite\r\n"
     ]
    }
   ],
   "source": [
    "rawdata_dir = desispec.io.rawdata_root()\n",
    "!find $rawdata_dir | sort"
   ]
  },
  {
   "cell_type": "markdown",
   "metadata": {},
   "source": [
    "## Generating your own spectra ##\n",
    "\n",
    "`new_exposure` is a convenience function for generating random typical exposures of various types for testing, but it isn't intended for every possible analysis.  If you want to use your own mix of objects, you just need to write your own fibermap and simspec files following that format instead of calling `new_exposure`.\n",
    "\n",
    "The *simspec* and *fibermap* data models are described at  \n",
    "* http://desidatamodel.readthedocs.io/en/latest/DESI_SPECTRO_SIM/PIXPROD/NIGHT/simspec-EXPID.html\n",
    "* http://desidatamodel.readthedocs.io/en/latest/DESI_SPECTRO_DATA/NIGHT/fibermap-EXPID.html\n",
    "\n",
    "**TODO**: update the datamodel documentation to match what is actually written!\n",
    "\n",
    "**NOTE**: the simspec file format may change in the near future, so structure your code to separate generating spectra from the code for writing these particular formats."
   ]
  },
  {
   "cell_type": "markdown",
   "metadata": {},
   "source": [
    "Finally, even though we have the *fibermap* table in hand, the code below demonstrates how it and the *simspec* table can be read from on-disk.  In particular, the simspec METADATA HDU contains an extensive (and useful!) metadata table.\n",
    "\n",
    "In general code should not generate filepaths by hand, but rather call `desispec.io.findfile` to find the file it needs.  If you\n",
    "need to override the standard environment variable locations, you can use the `outdir` option,\n",
    "while still letting it construct the canonical filename for each type of file.\n",
    "\n"
   ]
  },
  {
   "cell_type": "code",
   "execution_count": 11,
   "metadata": {
    "collapsed": false
   },
   "outputs": [],
   "source": [
    "fiberfile = desispec.io.findfile('fibermap', night=night, expid=expid)\n",
    "simspecfile = desisim.io.findfile('simspec', night=night, expid=expid)"
   ]
  },
  {
   "cell_type": "code",
   "execution_count": 12,
   "metadata": {
    "collapsed": false
   },
   "outputs": [
    {
     "name": "stdout",
     "output_type": "stream",
     "text": [
      "INFO:<ipython-input-12-55ef607f5bdd>:1:<module>: Reading fibermap file /data/desi/spectro/sim/example/20170615/fibermap-00000000.fits\n",
      "Filename: /data/desi/spectro/sim/example/20170615/fibermap-00000000.fits\n",
      "No.    Name         Type      Cards   Dimensions   Format\n",
      "0    PRIMARY     PrimaryHDU       6   ()              \n",
      "1    FIBERMAP    BinTableHDU     98   50R x 26C    [10A, 20A, 8A, K, K, K, K, 5E, 50A, J, J, J, J, J, J, E, D, D, D, D, D, D, D, D, E, E]   \n"
     ]
    }
   ],
   "source": [
    "log.info('Reading fibermap file {}'.format(fiberfile))\n",
    "hdu = fits.open(fiberfile)\n",
    "hdu.info()\n",
    "fibermap = Table(hdu['FIBERMAP'].data)\n",
    "hdu.close()"
   ]
  },
  {
   "cell_type": "code",
   "execution_count": 13,
   "metadata": {
    "collapsed": false
   },
   "outputs": [
    {
     "data": {
      "text/html": [
       "&lt;Row index=3&gt;\n",
       "<table id=\"table4531425856\">\n",
       "<thead><tr><th>OBJTYPE</th><th>TARGETCAT</th><th>BRICKNAME</th><th>TARGETID</th><th>DESI_TARGET</th><th>BGS_TARGET</th><th>MWS_TARGET</th><th>MAG [5]</th><th>FILTER [5]</th><th>SPECTROID</th><th>POSITIONER</th><th>LOCATION</th><th>DEVICE_LOC</th><th>PETAL_LOC</th><th>FIBER</th><th>LAMBDAREF</th><th>RA_TARGET</th><th>DEC_TARGET</th><th>RA_OBS</th><th>DEC_OBS</th><th>X_TARGET</th><th>Y_TARGET</th><th>X_FVCOBS</th><th>Y_FVCOBS</th><th>Y_FVCERR</th><th>X_FVCERR</th></tr></thead>\n",
       "<thead><tr><th>str10</th><th>str20</th><th>str8</th><th>int64</th><th>int64</th><th>int64</th><th>int64</th><th>float32</th><th>str10</th><th>int32</th><th>int32</th><th>int32</th><th>int32</th><th>int32</th><th>int32</th><th>float32</th><th>float64</th><th>float64</th><th>float64</th><th>float64</th><th>float64</th><th>float64</th><th>float64</th><th>float64</th><th>float32</th><th>float32</th></tr></thead>\n",
       "<tr><td>SKY</td><td></td><td>3350p205</td><td>4183104322407110374</td><td>4294967296</td><td>0</td><td>0</td><td>0.0 .. 0.0</td><td>..</td><td>0</td><td>82</td><td>82</td><td>82</td><td>0</td><td>3</td><td>5400.0</td><td>335.167583443</td><td>20.5840708185</td><td>335.167583443</td><td>20.5840708185</td><td>-31.5795923296</td><td>-172.635369698</td><td>-31.5795923296</td><td>-172.635369698</td><td>0.0</td><td>0.0</td></tr>\n",
       "</table>"
      ],
      "text/plain": [
       "<Row index=3>\n",
       "OBJTYPE TARGETCAT BRICKNAME       TARGETID      DESI_TARGET BGS_TARGET MWS_TARGET  MAG [5]   FILTER [5] SPECTROID POSITIONER LOCATION DEVICE_LOC PETAL_LOC FIBER LAMBDAREF   RA_TARGET     DEC_TARGET      RA_OBS       DEC_OBS       X_TARGET       Y_TARGET       X_FVCOBS       Y_FVCOBS    Y_FVCERR X_FVCERR\n",
       " str10    str20      str8          int64           int64      int64      int64     float32     str10      int32     int32     int32     int32      int32   int32  float32     float64       float64       float64       float64       float64        float64        float64        float64     float32  float32 \n",
       "------- --------- --------- ------------------- ----------- ---------- ---------- ---------- ---------- --------- ---------- -------- ---------- --------- ----- --------- ------------- ------------- ------------- ------------- -------------- -------------- -------------- -------------- -------- --------\n",
       "    SKY            3350p205 4183104322407110374  4294967296          0          0 0.0 .. 0.0        ..          0         82       82         82         0     3    5400.0 335.167583443 20.5840708185 335.167583443 20.5840708185 -31.5795923296 -172.635369698 -31.5795923296 -172.635369698      0.0      0.0"
      ]
     },
     "execution_count": 13,
     "metadata": {},
     "output_type": "execute_result"
    }
   ],
   "source": [
    "fibermap[3]"
   ]
  },
  {
   "cell_type": "code",
   "execution_count": 14,
   "metadata": {
    "collapsed": false
   },
   "outputs": [
    {
     "name": "stdout",
     "output_type": "stream",
     "text": [
      "INFO:<ipython-input-14-f05bf983fedc>:1:<module>: Reading simspec file /data/desi/spectro/sim/example/20170615/simspec-00000000.fits.\n",
      "Filename: /data/desi/spectro/sim/example/20170615/simspec-00000000.fits\n",
      "No.    Name         Type      Cards   Dimensions   Format\n",
      "0    PRIMARY     PrimaryHDU      15   ()              \n",
      "1    WAVE        ImageHDU         9   (31901,)     float64   \n",
      "2    FLUX        ImageHDU         9   (31901, 50)   float32   \n",
      "3    SKYFLUX     ImageHDU         8   (31901,)     float32   \n",
      "4    WAVE_B      ImageHDU         9   (12326,)     float64   \n",
      "5    PHOT_B      ImageHDU         8   (12326, 50)   float32   \n",
      "6    SKYPHOT_B   ImageHDU         7   (12326,)     float32   \n",
      "7    WAVE_R      ImageHDU         9   (11205,)     float64   \n",
      "8    PHOT_R      ImageHDU         8   (11205, 50)   float32   \n",
      "9    SKYPHOT_R   ImageHDU         7   (11205,)     float32   \n",
      "10   WAVE_Z      ImageHDU         9   (12765,)     float64   \n",
      "11   PHOT_Z      ImageHDU         8   (12765, 50)   float32   \n",
      "12   SKYPHOT_Z   ImageHDU         7   (12765,)     float32   \n",
      "13   METADATA    BinTableHDU     61   50R x 24C    [10A, 10A, J, K, E, E, 6E, 2E, E, E, E, E, E, E, E, E, E, E, E, E, E, E, E, E]   \n"
     ]
    }
   ],
   "source": [
    "log.info('Reading simspec file {}.'.format(simspecfile))\n",
    "hdu = fits.open(simspecfile)\n",
    "hdu.info()\n",
    "meta = Table(hdu['METADATA'].data)\n",
    "hdu.close()"
   ]
  },
  {
   "cell_type": "code",
   "execution_count": 15,
   "metadata": {
    "collapsed": false
   },
   "outputs": [
    {
     "data": {
      "text/html": [
       "&lt;Table length=3&gt;\n",
       "<table id=\"table4370546640\" class=\"table-striped table-bordered table-condensed\">\n",
       "<thead><tr><th>OBJTYPE</th><th>SUBTYPE</th><th>TEMPLATEID</th><th>SEED</th><th>REDSHIFT</th><th>MAG</th><th>DECAM_FLUX [6]</th><th>WISE_FLUX [2]</th><th>OIIFLUX</th><th>HBETAFLUX</th><th>EWOII</th><th>EWHBETA</th><th>D4000</th><th>VDISP</th><th>OIIDOUBLET</th><th>OIIIHBETA</th><th>OIIHBETA</th><th>NIIHBETA</th><th>SIIHBETA</th><th>ZMETAL</th><th>AGE</th><th>TEFF</th><th>LOGG</th><th>FEH</th></tr></thead>\n",
       "<thead><tr><th>str10</th><th>str10</th><th>int32</th><th>int64</th><th>float32</th><th>float32</th><th>float32</th><th>float32</th><th>float32</th><th>float32</th><th>float32</th><th>float32</th><th>float32</th><th>float32</th><th>float32</th><th>float32</th><th>float32</th><th>float32</th><th>float32</th><th>float32</th><th>float32</th><th>float32</th><th>float32</th><th>float32</th></tr></thead>\n",
       "<tr><td>ELG</td><td></td><td>3512</td><td>3244113739</td><td>1.25838</td><td>22.937</td><td>0.441517 .. 1.32143</td><td>2.19795 .. 1.99019</td><td>8.25246e-17</td><td>-1.0</td><td>73.3845</td><td>-1.0</td><td>1.00652</td><td>68.2661</td><td>0.733237</td><td>-0.0850786</td><td>0.275525</td><td>-0.248196</td><td>-0.19466</td><td>-1.0</td><td>-1.0</td><td>-1.0</td><td>-1.0</td><td>-1.0</td></tr>\n",
       "<tr><td>ELG</td><td></td><td>4951</td><td>3952505139</td><td>0.820804</td><td>22.6349</td><td>0.616534 .. 1.59198</td><td>2.13285 .. 1.34848</td><td>4.69683e-17</td><td>-1.0</td><td>25.1577</td><td>-1.0</td><td>1.03366</td><td>40.1724</td><td>0.757255</td><td>-0.00885063</td><td>0.630011</td><td>-0.265495</td><td>-0.230491</td><td>-1.0</td><td>-1.0</td><td>-1.0</td><td>-1.0</td><td>-1.0</td></tr>\n",
       "<tr><td>ELG</td><td></td><td>6928</td><td>369720621</td><td>1.11619</td><td>21.8746</td><td>1.64478 .. 2.487</td><td>2.91573 .. 2.2421</td><td>1.45983e-16</td><td>-1.0</td><td>48.7059</td><td>-1.0</td><td>0.990213</td><td>40.1724</td><td>0.698619</td><td>-0.00354248</td><td>0.468131</td><td>-0.177077</td><td>-0.244851</td><td>-1.0</td><td>-1.0</td><td>-1.0</td><td>-1.0</td><td>-1.0</td></tr>\n",
       "</table>"
      ],
      "text/plain": [
       "<Table length=3>\n",
       "OBJTYPE SUBTYPE TEMPLATEID    SEED    ...   AGE     TEFF    LOGG    FEH  \n",
       " str10   str10    int32      int64    ... float32 float32 float32 float32\n",
       "------- ------- ---------- ---------- ... ------- ------- ------- -------\n",
       "    ELG               3512 3244113739 ...    -1.0    -1.0    -1.0    -1.0\n",
       "    ELG               4951 3952505139 ...    -1.0    -1.0    -1.0    -1.0\n",
       "    ELG               6928  369720621 ...    -1.0    -1.0    -1.0    -1.0"
      ]
     },
     "execution_count": 15,
     "metadata": {},
     "output_type": "execute_result"
    }
   ],
   "source": [
    "meta[:3]"
   ]
  },
  {
   "cell_type": "markdown",
   "metadata": {},
   "source": [
    "Here's a fun simple plot of the redshift histogram distributions.  Now you try!"
   ]
  },
  {
   "cell_type": "code",
   "execution_count": 16,
   "metadata": {
    "collapsed": false,
    "scrolled": true
   },
   "outputs": [
    {
     "data": {
      "text/plain": [
       "(-0.2, 1.6220408082008364)"
      ]
     },
     "execution_count": 16,
     "metadata": {},
     "output_type": "execute_result"
    },
    {
     "data": {
      "image/png": "[encoded data removed]",
      "text/plain": [
       "<matplotlib.figure.Figure at 0x111604f28>"
      ]
     },
     "metadata": {},
     "output_type": "display_data"
    }
   ],
   "source": [
    "allobjtype = meta['OBJTYPE']\n",
    "redlim = (-0.2, 1.1*meta['REDSHIFT'].max())\n",
    "fig, ax = plt.subplots()\n",
    "for objtype in sorted(set(allobjtype)):\n",
    "    indx = objtype == allobjtype\n",
    "    hh = ax.hist(meta['REDSHIFT'][indx], bins=nspec//3, \n",
    "                 label=objtype, alpha=0.5, range=redlim)\n",
    "ax.set_xlabel('Redshift')\n",
    "ax.set_ylabel('Number of Simulated Spectra')\n",
    "ax.legend(loc='upper right', ncol=3)\n",
    "ax.margins(0.2)\n",
    "ax.set_xlim(redlim)"
   ]
  },
  {
   "cell_type": "markdown",
   "metadata": {},
   "source": [
    "## Setting up a production directory ##\n",
    "\n",
    "Before proceeding with simulating noisy output spectra, we will call `desi_pipe`\n",
    "to setup a production directory hierarchy.  We'll tell it to skip several\n",
    "of the initial steps since we will use `quickgen` to directly simulate\n",
    "extracted and calibrated spectra instead of generating pixel-level raw data.\n",
    "\n",
    "The following code is equivalent to calling the command line\n",
    "```\n",
    "desi_pipe --fakeboot --fakepsf --fakepix\n",
    "```"
   ]
  },
  {
   "cell_type": "code",
   "execution_count": 17,
   "metadata": {
    "collapsed": false
   },
   "outputs": [
    {
     "name": "stdout",
     "output_type": "stream",
     "text": [
      "Working with production /data/desi/spectro/redux/example :\n",
      "  Updating plans ...\n"
     ]
    },
    {
     "name": "stderr",
     "output_type": "stream",
     "text": [
      "/Users/sbailey/anaconda/envs/desi/lib/python3.5/site-packages/matplotlib/__init__.py:1401: UserWarning:  This call to matplotlib.use() has no effect\n",
      "because the backend has already been chosen;\n",
      "matplotlib.use() must be called *before* pylab, matplotlib.pyplot,\n",
      "or matplotlib.backends is imported for the first time.\n",
      "\n",
      "  warnings.warn(_use_error_msg)\n"
     ]
    },
    {
     "ename": "KeyError",
     "evalue": "'r0'",
     "output_type": "error",
     "traceback": [
      "\u001b[0;31m---------------------------------------------------------------------------\u001b[0m",
      "\u001b[0;31mKeyError\u001b[0m                                  Traceback (most recent call last)",
      "\u001b[0;32m<ipython-input-17-6319d2d14e00>\u001b[0m in \u001b[0;36m<module>\u001b[0;34m()\u001b[0m\n\u001b[1;32m      1\u001b[0m \u001b[0;32mfrom\u001b[0m \u001b[0mdesispec\u001b[0m\u001b[0;34m.\u001b[0m\u001b[0mscripts\u001b[0m \u001b[0;32mimport\u001b[0m \u001b[0mpipe_prod\u001b[0m\u001b[0;34m\u001b[0m\u001b[0m\n\u001b[1;32m      2\u001b[0m \u001b[0margs\u001b[0m \u001b[0;34m=\u001b[0m \u001b[0mpipe_prod\u001b[0m\u001b[0;34m.\u001b[0m\u001b[0mparse\u001b[0m\u001b[0;34m(\u001b[0m\u001b[0;34m[\u001b[0m\u001b[0;34m'--fakeboot'\u001b[0m\u001b[0;34m,\u001b[0m \u001b[0;34m'--fakepsf'\u001b[0m\u001b[0;34m,\u001b[0m \u001b[0;34m'--fakepix'\u001b[0m\u001b[0;34m]\u001b[0m\u001b[0;34m)\u001b[0m\u001b[0;34m\u001b[0m\u001b[0m\n\u001b[0;32m----> 3\u001b[0;31m \u001b[0mpipe_prod\u001b[0m\u001b[0;34m.\u001b[0m\u001b[0mmain\u001b[0m\u001b[0;34m(\u001b[0m\u001b[0margs\u001b[0m\u001b[0;34m)\u001b[0m\u001b[0;34m\u001b[0m\u001b[0m\n\u001b[0m",
      "\u001b[0;32m/Users/sbailey/desi/git/desispec/py/desispec/scripts/pipe_prod.py\u001b[0m in \u001b[0;36mmain\u001b[0;34m(args)\u001b[0m\n\u001b[1;32m    326\u001b[0m     \u001b[0mprint\u001b[0m\u001b[0;34m(\u001b[0m\u001b[0;34m\"  Updating plans ...\"\u001b[0m\u001b[0;34m)\u001b[0m\u001b[0;34m\u001b[0m\u001b[0m\n\u001b[1;32m    327\u001b[0m     expnightcount, allpix = pipe.create_prod(nightstr=args.nights, \n\u001b[0;32m--> 328\u001b[0;31m         extra=extra, specs=specs, fakepix=args.fakepix, hpxnside=args.nside)\n\u001b[0m\u001b[1;32m    329\u001b[0m     \u001b[0mtotcount\u001b[0m \u001b[0;34m=\u001b[0m \u001b[0;34m{\u001b[0m\u001b[0;34m}\u001b[0m\u001b[0;34m\u001b[0m\u001b[0m\n\u001b[1;32m    330\u001b[0m     \u001b[0mtotcount\u001b[0m\u001b[0;34m[\u001b[0m\u001b[0;34m\"flat\"\u001b[0m\u001b[0;34m]\u001b[0m \u001b[0;34m=\u001b[0m \u001b[0;36m0\u001b[0m\u001b[0;34m\u001b[0m\u001b[0m\n",
      "\u001b[0;32m/Users/sbailey/desi/git/desispec/py/desispec/pipeline/plan.py\u001b[0m in \u001b[0;36mcreate_prod\u001b[0;34m(nightstr, extra, specs, fakepix, hpxnside)\u001b[0m\n\u001b[1;32m    182\u001b[0m             \u001b[0mos\u001b[0m\u001b[0;34m.\u001b[0m\u001b[0mmakedirs\u001b[0m\u001b[0;34m(\u001b[0m\u001b[0mnlog\u001b[0m\u001b[0;34m)\u001b[0m\u001b[0;34m\u001b[0m\u001b[0m\n\u001b[1;32m    183\u001b[0m \u001b[0;34m\u001b[0m\u001b[0m\n\u001b[0;32m--> 184\u001b[0;31m         \u001b[0mgrph\u001b[0m\u001b[0;34m,\u001b[0m \u001b[0mexpcount\u001b[0m\u001b[0;34m,\u001b[0m \u001b[0mnpix\u001b[0m \u001b[0;34m=\u001b[0m \u001b[0mgraph_night\u001b[0m\u001b[0;34m(\u001b[0m\u001b[0mnt\u001b[0m\u001b[0;34m,\u001b[0m \u001b[0mspecs\u001b[0m\u001b[0;34m,\u001b[0m \u001b[0mfakepix\u001b[0m\u001b[0;34m,\u001b[0m \u001b[0mhpxnside\u001b[0m\u001b[0;34m)\u001b[0m\u001b[0;34m\u001b[0m\u001b[0m\n\u001b[0m\u001b[1;32m    185\u001b[0m \u001b[0;34m\u001b[0m\u001b[0m\n\u001b[1;32m    186\u001b[0m         \u001b[0;32mfor\u001b[0m \u001b[0mpix\u001b[0m \u001b[0;32min\u001b[0m \u001b[0mnpix\u001b[0m\u001b[0;34m:\u001b[0m\u001b[0;34m\u001b[0m\u001b[0m\n",
      "\u001b[0;32m/Users/sbailey/desi/git/desispec/py/desispec/pipeline/plan.py\u001b[0m in \u001b[0;36mgraph_night\u001b[0;34m(rawnight, specs, fakepix, hpxnside)\u001b[0m\n\u001b[1;32m    505\u001b[0m         \u001b[0mcam\u001b[0m \u001b[0;34m=\u001b[0m \u001b[0;34m\"{}{}\"\u001b[0m\u001b[0;34m.\u001b[0m\u001b[0mformat\u001b[0m\u001b[0;34m(\u001b[0m\u001b[0mband\u001b[0m\u001b[0;34m,\u001b[0m \u001b[0mspec\u001b[0m\u001b[0;34m)\u001b[0m\u001b[0;34m\u001b[0m\u001b[0m\n\u001b[1;32m    506\u001b[0m         \u001b[0mflatid\u001b[0m \u001b[0;34m=\u001b[0m \u001b[0;32mNone\u001b[0m\u001b[0;34m\u001b[0m\u001b[0m\n\u001b[0;32m--> 507\u001b[0;31m         \u001b[0;32mfor\u001b[0m \u001b[0mfid\u001b[0m \u001b[0;32min\u001b[0m \u001b[0msorted\u001b[0m\u001b[0;34m(\u001b[0m\u001b[0mflatexpid\u001b[0m\u001b[0;34m[\u001b[0m\u001b[0mcam\u001b[0m\u001b[0;34m]\u001b[0m\u001b[0;34m)\u001b[0m\u001b[0;34m:\u001b[0m\u001b[0;34m\u001b[0m\u001b[0m\n\u001b[0m\u001b[1;32m    508\u001b[0m             \u001b[0;32mif\u001b[0m \u001b[0;34m(\u001b[0m\u001b[0mflatid\u001b[0m \u001b[0;32mis\u001b[0m \u001b[0;32mNone\u001b[0m\u001b[0;34m)\u001b[0m\u001b[0;34m:\u001b[0m\u001b[0;34m\u001b[0m\u001b[0m\n\u001b[1;32m    509\u001b[0m                 \u001b[0mflatid\u001b[0m \u001b[0;34m=\u001b[0m \u001b[0mfid\u001b[0m\u001b[0;34m\u001b[0m\u001b[0m\n",
      "\u001b[0;31mKeyError\u001b[0m: 'r0'"
     ]
    }
   ],
   "source": [
    "from desispec.scripts import pipe_prod\n",
    "args = pipe_prod.parse(['--fakeboot', '--fakepsf', '--fakepix'])\n",
    "pipe_prod.main(args)"
   ]
  },
  {
   "cell_type": "code",
   "execution_count": 18,
   "metadata": {
    "collapsed": false
   },
   "outputs": [
    {
     "name": "stdout",
     "output_type": "stream",
     "text": [
      "DESI_SPECTRO_DATA=/data/desi/spectro/sim/example/\n",
      "DESI_SPECTRO_REDUX=/data/desi/spectro/redux\n",
      "SPECPROD=example\n",
      "/data/desi/spectro/sim/example/\r\n",
      "/data/desi/spectro/sim/example//20170615\r\n",
      "/data/desi/spectro/sim/example//20170615/fibermap-00000000.fits\r\n",
      "/data/desi/spectro/sim/example//20170615/simspec-00000000.fits\r\n",
      "/data/desi/spectro/sim/example//etc\r\n",
      "/data/desi/spectro/sim/example//etc/obslog.sqlite\r\n"
     ]
    }
   ],
   "source": [
    "#- What went wrong?  Check environments and files\n",
    "for var in ['DESI_SPECTRO_DATA', 'DESI_SPECTRO_REDUX', 'SPECPROD']:\n",
    "    print('{}={}'.format(var, os.getenv(var)))\n",
    "\n",
    "rawdir = os.path.join(os.getenv('DESI_SPECTRO_DATA'))\n",
    "!find $rawdir | sort"
   ]
  },
  {
   "cell_type": "markdown",
   "metadata": {},
   "source": [
    "## Simulating spectra using quickgen.\n",
    "\n",
    "We're now ready to simulate DESI spectra using *quickgen*!  Since we're calling *quickgen* from within this notebook (rather than from the command line in a terminal) we have to parse the *simspec* and *fibermap* filename inputs first.\n",
    "\n",
    "*quickgen* generates four types of files and writes them to the *\\$DESI_SPECTRO_REDUX/\\$SPECPROD/exposures* directory: *calib*, *sky*, *cframe*, and *frame* files.  We will use the *cframe*, or calibrated frame files, which contain the flux-calibrated and sky-subtracted DESI spectra.  The data model and the other files and their contents are documented here:  \n",
    "http://desidatamodel.readthedocs.io/en/latest/DESI_SPECTRO_REDUX/PRODNAME/exposures/NIGHT/EXPID/index.html\n",
    "\n",
    "The following code calls the equivalent of the command line:\n",
    "```\n",
    "quickgen --simspec {simspecfile} --fibermap {fiberfile}\n",
    "```"
   ]
  },
  {
   "cell_type": "code",
   "execution_count": 19,
   "metadata": {
    "collapsed": false
   },
   "outputs": [
    {
     "name": "stdout",
     "output_type": "stream",
     "text": [
      "INFO:quickgen.py:242:main: Reading fibermap file /data/desi/spectro/sim/example/20170615/fibermap-00000000.fits\n",
      "INFO:quickgen.py:275:main: Initializing SpecSim with config desi\n",
      "INFO:quickgen.py:281:main: Reading input file /data/desi/spectro/sim/example/20170615/simspec-00000000.fits\n",
      "INFO:quickgen.py:310:main: Only 50 spectra in input file\n",
      "INFO:quickgen.py:672:main: Writing files for channel:b, spectrograph:0, spectra:0 to 50\n",
      "INFO:quickgen.py:699:main: Wrote file /data/desi/spectro/redux/example/exposures/20170615/00000000/frame-b0-00000000.fits\n",
      "INFO:quickgen.py:717:main: Wrote file /data/desi/spectro/redux/example/exposures/20170615/00000000/cframe-b0-00000000.fits\n",
      "INFO:quickgen.py:732:main: Wrote file /data/desi/spectro/redux/example/exposures/20170615/00000000/sky-b0-00000000.fits\n",
      "INFO:quickgen.py:753:main: Wrote file /data/desi/spectro/redux/example/exposures/20170615/00000000/calib-b0-00000000.fits\n",
      "INFO:quickgen.py:672:main: Writing files for channel:r, spectrograph:0, spectra:0 to 50\n"
     ]
    },
    {
     "name": "stderr",
     "output_type": "stream",
     "text": [
      "WARNING: VerifyWarning: Card is too long, comment will be truncated. [astropy.io.fits.card]\n"
     ]
    },
    {
     "name": "stdout",
     "output_type": "stream",
     "text": [
      "INFO:quickgen.py:699:main: Wrote file /data/desi/spectro/redux/example/exposures/20170615/00000000/frame-r0-00000000.fits\n",
      "INFO:quickgen.py:717:main: Wrote file /data/desi/spectro/redux/example/exposures/20170615/00000000/cframe-r0-00000000.fits\n",
      "INFO:quickgen.py:732:main: Wrote file /data/desi/spectro/redux/example/exposures/20170615/00000000/sky-r0-00000000.fits\n",
      "INFO:quickgen.py:753:main: Wrote file /data/desi/spectro/redux/example/exposures/20170615/00000000/calib-r0-00000000.fits\n",
      "INFO:quickgen.py:672:main: Writing files for channel:z, spectrograph:0, spectra:0 to 50\n",
      "INFO:quickgen.py:699:main: Wrote file /data/desi/spectro/redux/example/exposures/20170615/00000000/frame-z0-00000000.fits\n",
      "INFO:quickgen.py:717:main: Wrote file /data/desi/spectro/redux/example/exposures/20170615/00000000/cframe-z0-00000000.fits\n",
      "INFO:quickgen.py:732:main: Wrote file /data/desi/spectro/redux/example/exposures/20170615/00000000/sky-z0-00000000.fits\n",
      "INFO:quickgen.py:753:main: Wrote file /data/desi/spectro/redux/example/exposures/20170615/00000000/calib-z0-00000000.fits\n"
     ]
    }
   ],
   "source": [
    "args = quickgen.parse([\n",
    "    '--simspec', simspecfile,\n",
    "    '--fibermap', fiberfile\n",
    "])\n",
    "quickgen.main(args)"
   ]
  },
  {
   "cell_type": "markdown",
   "metadata": {},
   "source": [
    "Next, let's combine and reorganize the individual *cframe* files into *spectra* files grouped on the sky.\n",
    "\n",
    "**TODO**: Add the spectra files to the desidatamodel\n",
    "\n",
    "**TODO**: Proceed with calling desi_group_spectra, but first we need to production generation above."
   ]
  },
  {
   "cell_type": "code",
   "execution_count": null,
   "metadata": {
    "collapsed": true
   },
   "outputs": [],
   "source": []
  }
 ],
 "metadata": {
  "anaconda-cloud": {},
  "kernelspec": {
   "display_name": "Python [default]",
   "language": "python",
   "name": "python3"
  },
  "language_info": {
   "codemirror_mode": {
    "name": "ipython",
    "version": 3
   },
   "file_extension": ".py",
   "mimetype": "text/x-python",
   "name": "python",
   "nbconvert_exporter": "python",
   "pygments_lexer": "ipython3",
   "version": "3.5.2"
  }
 },
 "nbformat": 4,
 "nbformat_minor": 2
}
