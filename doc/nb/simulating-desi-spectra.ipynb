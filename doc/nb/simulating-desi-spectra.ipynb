{
 "cells": [
  {
   "cell_type": "markdown",
   "metadata": {},
   "source": [
    "# Simulating DESI Spectra\n",
    "\n",
    "The goal of this notebook is to demonstrate how to generate some simple DESI spectra using the *quickgen* utility.\n",
    "\n",
    "For additional (albeit somewhat outdated) information and documentation about *quickgen* see  \n",
    "https://desi.lbl.gov/DocDB/cgi-bin/private/ShowDocument?docid=1429\n",
    "\n",
    "If you identify any errors or have requests for additional functionality please create a new issue on  \n",
    "https://github.com/desihub/desisim/issues\n",
    "or send a note to <desi-data@desi.lbl.gov>."
   ]
  },
  {
   "cell_type": "markdown",
   "metadata": {},
   "source": [
    "## Getting started.\n",
    "\n",
    "First, import all the package dependencies."
   ]
  },
  {
   "cell_type": "code",
   "execution_count": 25,
   "metadata": {
    "collapsed": false,
    "deletable": true,
    "editable": true
   },
   "outputs": [],
   "source": [
    "import os\n",
    "import numpy as np\n",
    "\n",
    "import matplotlib.pyplot as plt\n",
    "from astropy.io import fits\n",
    "from astropy.table import Table"
   ]
  },
  {
   "cell_type": "code",
   "execution_count": 2,
   "metadata": {
    "collapsed": false
   },
   "outputs": [
    {
     "name": "stdout",
     "output_type": "stream",
     "text": [
      "Populating the interactive namespace from numpy and matplotlib\n"
     ]
    }
   ],
   "source": [
    "%pylab inline"
   ]
  },
  {
   "cell_type": "code",
   "execution_count": 18,
   "metadata": {
    "collapsed": false
   },
   "outputs": [],
   "source": [
    "import desispec.io\n",
    "import desisim.io\n",
    "from desisim.obs import new_exposure\n",
    "from desisim.scripts import quickgen\n",
    "\n",
    "from desiutil.log import get_logger\n",
    "log = get_logger()"
   ]
  },
  {
   "cell_type": "markdown",
   "metadata": {},
   "source": [
    "Make sure we have all the right environment variables set (assuming the bash shell).  If any of these environment variables are missing please set them in your *.bashrc* file (and then restart this notebook) or create them for just this notebook session using the *%env* magic command, as we demonstrate below."
   ]
  },
  {
   "cell_type": "code",
   "execution_count": 30,
   "metadata": {
    "collapsed": false
   },
   "outputs": [],
   "source": [
    "def check_env():\n",
    "    for env in ('DESIMODEL', 'DESI_ROOT', 'DESI_SPECTRO_SIM', 'DESI_SPECTRO_DATA', \n",
    "            'DESI_SPECTRO_REDUX', 'SPECPROD', 'PIXPROD'):\n",
    "        if env in os.environ:\n",
    "            print('{} environment set to {}'.format(env, os.getenv(env)))\n",
    "        else:\n",
    "            print('Required environment variable {} not set!'.format(env))"
   ]
  },
  {
   "cell_type": "code",
   "execution_count": 31,
   "metadata": {
    "collapsed": false
   },
   "outputs": [
    {
     "name": "stdout",
     "output_type": "stream",
     "text": [
      "DESIMODEL environment set to /Users/ioannis/repos/desihub/desimodel\n",
      "DESI_ROOT environment set to /Users/ioannis/research/projects/desi\n",
      "DESI_SPECTRO_SIM environment set to /Users/ioannis/research/projects/desi/spectro/sim\n",
      "DESI_SPECTRO_DATA environment set to /Users/ioannis/research/projects/desi/spectro/data\n",
      "DESI_SPECTRO_REDUX environment set to /Users/ioannis/research/projects/desi/spectro/redux\n",
      "SPECPROD environment set to example\n",
      "PIXPROD environment set to example\n"
     ]
    }
   ],
   "source": [
    "check_env()"
   ]
  },
  {
   "cell_type": "markdown",
   "metadata": {},
   "source": [
    "Let's reassign the *SPECPROD* and *PIXPROD* environments to something other than \"dailytest\" so that we don't conflict with the outputs of the standard DESI integration test."
   ]
  },
  {
   "cell_type": "code",
   "execution_count": 6,
   "metadata": {
    "collapsed": false
   },
   "outputs": [
    {
     "name": "stdout",
     "output_type": "stream",
     "text": [
      "env: SPECPROD=example\n",
      "env: PIXPROD=example\n"
     ]
    }
   ],
   "source": [
    "%env SPECPROD=example\n",
    "%env PIXPROD=example"
   ]
  },
  {
   "cell_type": "markdown",
   "metadata": {},
   "source": [
    "## Specify the parameters of the simulation.\n",
    "\n",
    "Next, specify the number and spectral type distribution of spectra we want to simulate, and the random seed.  Setting the seed here (which can be any number at all!) ensures that your simulations are reproducible.  Let's also explicitly set the *night* of the \"observations\" (the default is to use the current date) and the *expid* or exposure ID number (which would allow you to simulate more than one DESI exposure).\n",
    "\n",
    "The *flavor* option is used to choose the correct sky-brightness model and it also determines the distribution of targets for a given flavor.  For example, *flavor='dark'* returns the right relative sampling density of ELGs, LRGs, and QSOs.  The other available (science target) options for *flavor* are 'dark', 'gray', 'grey', 'bright', 'bgs', 'mws', 'lrg', 'elg', 'qso', and 'std'.  (You can also set flavor to either 'arc' or 'flat' but that would be boring!)"
   ]
  },
  {
   "cell_type": "code",
   "execution_count": 48,
   "metadata": {
    "collapsed": true
   },
   "outputs": [],
   "source": [
    "nspec = 50\n",
    "seed = 555\n",
    "flavor = 'dark'\n",
    "night = '20170615'\n",
    "expid = 0"
   ]
  },
  {
   "cell_type": "code",
   "execution_count": 99,
   "metadata": {
    "collapsed": false
   },
   "outputs": [
    {
     "name": "stdout",
     "output_type": "stream",
     "text": [
      "/Users/ioannis/research/projects/desi/spectro/sim/example/20170615\n"
     ]
    }
   ],
   "source": [
    "simdir = desisim.io.simdir(night=night)\n",
    "print(simdir)"
   ]
  },
  {
   "cell_type": "markdown",
   "metadata": {},
   "source": [
    "## Generate the fibermap and truth tables.\n",
    "\n",
    "The first step is to generate the *fibermap* and *simspec* files needed by *quickgen*.  The *fibermap* table contains (simulated) information about the position of each target in the DESI focal plane, while the *simspec* table holds the \"truth\" spectra and the intrinsic properties of each object (redshift, noiseless photometry, [OII] flux, etc.).\n",
    "\n",
    "Note that the *tileid* and *exptime* (exposure time) optional inputs are shown here for demonstration purposes but do not need to be explicitly set.  In particular, the default exposure time is based on the value specified in the *$DESIMODEL/data/desi.yaml* parameter file.\n",
    "\n",
    "The *fibermap* object is an astropy Table with lots of goodies while the *truth* object is a dictionary that we won't use anymore (we'll instead use the *simspec* table; see below).  The fibermap data model is described at  \n",
    "http://desidatamodel.readthedocs.io/en/latest/DESI_SPECTRO_DATA/NIGHT/fibermap-EXPID.html"
   ]
  },
  {
   "cell_type": "code",
   "execution_count": 8,
   "metadata": {
    "collapsed": false
   },
   "outputs": [
    {
     "name": "stdout",
     "output_type": "stream",
     "text": [
      "INFO:io.py:625:read_basis_templates: Reading /Users/ioannis/research/projects/desi/spectro/templates/basis_templates/v2.3/star_templates_v2.1.fits\n",
      "INFO:io.py:625:read_basis_templates: Reading /Users/ioannis/research/projects/desi/spectro/templates/basis_templates/v2.3/star_templates_v2.1.fits\n",
      "INFO:io.py:625:read_basis_templates: Reading /Users/ioannis/research/projects/desi/spectro/templates/basis_templates/v2.3/star_templates_v2.1.fits\n",
      "INFO:io.py:625:read_basis_templates: Reading /Users/ioannis/research/projects/desi/spectro/templates/basis_templates/v2.3/star_templates_v2.1.fits\n",
      "INFO:io.py:625:read_basis_templates: Reading /Users/ioannis/research/projects/desi/spectro/templates/basis_templates/v2.3/elg_templates_v2.0.fits\n",
      "INFO:io.py:625:read_basis_templates: Reading /Users/ioannis/research/projects/desi/spectro/templates/basis_templates/v2.3/elg_templates_v2.0.fits\n",
      "INFO:io.py:625:read_basis_templates: Reading /Users/ioannis/research/projects/desi/spectro/templates/basis_templates/v2.3/elg_templates_v2.0.fits\n",
      "INFO:io.py:625:read_basis_templates: Reading /Users/ioannis/research/projects/desi/spectro/templates/basis_templates/v2.3/elg_templates_v2.0.fits\n",
      "INFO:io.py:625:read_basis_templates: Reading /Users/ioannis/research/projects/desi/spectro/templates/basis_templates/v2.3/lrg_templates_v1.3.fits\n",
      "INFO:io.py:625:read_basis_templates: Reading /Users/ioannis/research/projects/desi/spectro/templates/basis_templates/v2.3/lrg_templates_v1.3.fits\n",
      "INFO:io.py:625:read_basis_templates: Reading /Users/ioannis/research/projects/desi/spectro/templates/basis_templates/v2.3/star_templates_v2.1.fits\n",
      "INFO:io.py:625:read_basis_templates: Reading /Users/ioannis/research/projects/desi/spectro/templates/basis_templates/v2.3/star_templates_v2.1.fits\n",
      "INFO:io.py:625:read_basis_templates: Reading /Users/ioannis/research/projects/desi/spectro/templates/basis_templates/v2.3/lrg_templates_v1.3.fits\n",
      "INFO:io.py:625:read_basis_templates: Reading /Users/ioannis/research/projects/desi/spectro/templates/basis_templates/v2.3/elg_templates_v2.0.fits\n",
      "INFO:io.py:625:read_basis_templates: Reading /Users/ioannis/research/projects/desi/spectro/templates/basis_templates/v2.3/lrg_templates_v1.3.fits\n",
      "INFO:obs.py:226:new_exposure: skyfile /Users/ioannis/repos/desihub/desimodel/data/spectra/spec-sky.dat\n",
      "INFO:obs.py:297:new_exposure: Wrote /Users/ioannis/research/projects/desi/spectro/sim/example/20170615/fibermap-00000000.fits\n",
      "INFO:obs.py:305:new_exposure: Wrote /Users/ioannis/research/projects/desi/spectro/sim/example/20170615/simspec-00000000.fits\n"
     ]
    }
   ],
   "source": [
    "fibermap, truth = new_exposure(flavor=flavor, nspec=nspec, seed=seed, night=night, \n",
    "                               expid=expid, tileid=None, exptime=None)"
   ]
  },
  {
   "cell_type": "markdown",
   "metadata": {},
   "source": [
    "Finally, even though we have the *fibermap* table in hand, the code below demonstrates how it and the *simspec* table can be read from on-disk.  The *simspec* data model is described at  \n",
    "http://desidatamodel.readthedocs.io/en/latest/DESI_SPECTRO_SIM/PIXPROD/NIGHT/simspec-EXPID.html\n",
    "In particular, HDU=13 contains an extensive (and useful!) metadata table."
   ]
  },
  {
   "cell_type": "code",
   "execution_count": 107,
   "metadata": {
    "collapsed": false
   },
   "outputs": [],
   "source": [
    "fiberfile = desispec.io.meta.findfile('fibermap', night=night, expid=expid, outdir=simdir)\n",
    "simspecfile = desisim.io.findfile('simspec', night=night, expid=expid, outdir=simdir)"
   ]
  },
  {
   "cell_type": "code",
   "execution_count": 108,
   "metadata": {
    "collapsed": false
   },
   "outputs": [
    {
     "name": "stdout",
     "output_type": "stream",
     "text": [
      "INFO:<ipython-input-108-59b7db187c0a>:1:<module>: Reading fibermap file /Users/ioannis/research/projects/desi/spectro/sim/example/20170615/fibermap-00000000.fits\n",
      "Filename: /Users/ioannis/research/projects/desi/spectro/sim/example/20170615/fibermap-00000000.fits\n",
      "No.    Name         Type      Cards   Dimensions   Format\n",
      "  0  PRIMARY     PrimaryHDU       6   ()      \n",
      "  1  FIBERMAP    BinTableHDU     98   50R x 26C   [10A, 20A, 8A, K, K, K, K, 5E, 50A, J, K, J, J, J, J, E, D, D, D, D, D, D, D, D, E, E]   \n"
     ]
    }
   ],
   "source": [
    "log.info('Reading fibermap file {}'.format(fiberfile))\n",
    "hdu = fits.open(fiberfile)\n",
    "hdu.info()\n",
    "fibermap = Table(hdu[1].data)\n",
    "hdu.close()"
   ]
  },
  {
   "cell_type": "code",
   "execution_count": 109,
   "metadata": {
    "collapsed": false
   },
   "outputs": [
    {
     "data": {
      "text/html": [
       "&lt;Row index=3&gt;\n",
       "<table id=\"table4800756592\">\n",
       "<thead><tr><th>OBJTYPE</th><th>TARGETCAT</th><th>BRICKNAME</th><th>TARGETID</th><th>DESI_TARGET</th><th>BGS_TARGET</th><th>MWS_TARGET</th><th>MAG [5]</th><th>FILTER [5]</th><th>SPECTROID</th><th>POSITIONER</th><th>LOCATION</th><th>DEVICE_LOC</th><th>PETAL_LOC</th><th>FIBER</th><th>LAMBDAREF</th><th>RA_TARGET</th><th>DEC_TARGET</th><th>RA_OBS</th><th>DEC_OBS</th><th>X_TARGET</th><th>Y_TARGET</th><th>X_FVCOBS</th><th>Y_FVCOBS</th><th>Y_FVCERR</th><th>X_FVCERR</th></tr></thead>\n",
       "<thead><tr><th>str10</th><th>str20</th><th>str8</th><th>int64</th><th>int64</th><th>int64</th><th>int64</th><th>float32</th><th>str10</th><th>int32</th><th>int64</th><th>int32</th><th>int32</th><th>int32</th><th>int32</th><th>float32</th><th>float64</th><th>float64</th><th>float64</th><th>float64</th><th>float64</th><th>float64</th><th>float64</th><th>float64</th><th>float32</th><th>float32</th></tr></thead>\n",
       "<tr><td>ELG</td><td></td><td>3350p205</td><td>3561499325993422263</td><td>2</td><td>0</td><td>0</td><td>23.2547 .. 22.5634</td><td>DECAM_G .. WISE_W2</td><td>0</td><td>82</td><td>82</td><td>82</td><td>0</td><td>3</td><td>5400.0</td><td>335.167583443</td><td>20.5840708185</td><td>335.167583443</td><td>20.5840708185</td><td>-31.5795923296</td><td>-172.635369698</td><td>-31.5795923296</td><td>-172.635369698</td><td>0.0</td><td>0.0</td></tr>\n",
       "</table>"
      ],
      "text/plain": [
       "<Row index=3>\n",
       "OBJTYPE TARGETCAT BRICKNAME       TARGETID      DESI_TARGET BGS_TARGET MWS_TARGET      MAG [5]           FILTER [5]     SPECTROID POSITIONER LOCATION DEVICE_LOC PETAL_LOC FIBER LAMBDAREF   RA_TARGET     DEC_TARGET      RA_OBS       DEC_OBS       X_TARGET       Y_TARGET       X_FVCOBS       Y_FVCOBS    Y_FVCERR X_FVCERR\n",
       " str10    str20      str8          int64           int64      int64      int64         float32             str10          int32     int64     int32     int32      int32   int32  float32     float64       float64       float64       float64       float64        float64        float64        float64     float32  float32 \n",
       "------- --------- --------- ------------------- ----------- ---------- ---------- ------------------ ------------------ --------- ---------- -------- ---------- --------- ----- --------- ------------- ------------- ------------- ------------- -------------- -------------- -------------- -------------- -------- --------\n",
       "    ELG            3350p205 3561499325993422263           2          0          0 23.2547 .. 22.5634 DECAM_G .. WISE_W2         0         82       82         82         0     3    5400.0 335.167583443 20.5840708185 335.167583443 20.5840708185 -31.5795923296 -172.635369698 -31.5795923296 -172.635369698      0.0      0.0"
      ]
     },
     "execution_count": 109,
     "metadata": {},
     "output_type": "execute_result"
    }
   ],
   "source": [
    "fibermap[3]"
   ]
  },
  {
   "cell_type": "code",
   "execution_count": 110,
   "metadata": {
    "collapsed": false
   },
   "outputs": [
    {
     "name": "stdout",
     "output_type": "stream",
     "text": [
      "INFO:<ipython-input-110-079a1c11142f>:1:<module>: Reading simspec file /Users/ioannis/research/projects/desi/spectro/sim/example/20170615/simspec-00000000.fits.\n",
      "Filename: /Users/ioannis/research/projects/desi/spectro/sim/example/20170615/simspec-00000000.fits\n",
      "No.    Name         Type      Cards   Dimensions   Format\n",
      "  0  PRIMARY     PrimaryHDU      15   ()      \n",
      "  1  WAVE        ImageHDU         9   (31901,)   float64   \n",
      "  2  FLUX        ImageHDU         9   (31901, 50)   float32   \n",
      "  3  SKYFLUX     ImageHDU         8   (31901,)   float32   \n",
      "  4  WAVE_B      ImageHDU         9   (12326,)   float64   \n",
      "  5  PHOT_B      ImageHDU         8   (12326, 50)   float32   \n",
      "  6  SKYPHOT_B   ImageHDU         7   (12326,)   float32   \n",
      "  7  WAVE_R      ImageHDU         9   (11205,)   float64   \n",
      "  8  PHOT_R      ImageHDU         8   (11205, 50)   float32   \n",
      "  9  SKYPHOT_R   ImageHDU         7   (11205,)   float32   \n",
      " 10  WAVE_Z      ImageHDU         9   (12765,)   float64   \n",
      " 11  PHOT_Z      ImageHDU         8   (12765, 50)   float32   \n",
      " 12  SKYPHOT_Z   ImageHDU         7   (12765,)   float32   \n",
      " 13  METADATA    BinTableHDU     61   50R x 24C   [10A, 10A, J, K, E, E, 6E, 2E, E, E, E, E, E, E, E, E, E, E, E, E, E, E, E, E]   \n"
     ]
    }
   ],
   "source": [
    "log.info('Reading simspec file {}.'.format(simspecfile))\n",
    "hdu = fits.open(simspecfile)\n",
    "hdu.info()\n",
    "meta = Table(hdu[13].data)\n",
    "hdu.close()"
   ]
  },
  {
   "cell_type": "code",
   "execution_count": 111,
   "metadata": {
    "collapsed": false
   },
   "outputs": [
    {
     "data": {
      "text/html": [
       "&lt;Table length=3&gt;\n",
       "<table id=\"table4797028000\" class=\"table-striped table-bordered table-condensed\">\n",
       "<thead><tr><th>OBJTYPE</th><th>SUBTYPE</th><th>TEMPLATEID</th><th>SEED</th><th>REDSHIFT</th><th>MAG</th><th>DECAM_FLUX [6]</th><th>WISE_FLUX [2]</th><th>OIIFLUX</th><th>HBETAFLUX</th><th>EWOII</th><th>EWHBETA</th><th>D4000</th><th>VDISP</th><th>OIIDOUBLET</th><th>OIIIHBETA</th><th>OIIHBETA</th><th>NIIHBETA</th><th>SIIHBETA</th><th>ZMETAL</th><th>AGE</th><th>TEFF</th><th>LOGG</th><th>FEH</th></tr></thead>\n",
       "<thead><tr><th>str10</th><th>str10</th><th>int32</th><th>int64</th><th>float32</th><th>float32</th><th>float32</th><th>float32</th><th>float32</th><th>float32</th><th>float32</th><th>float32</th><th>float32</th><th>float32</th><th>float32</th><th>float32</th><th>float32</th><th>float32</th><th>float32</th><th>float32</th><th>float32</th><th>float32</th><th>float32</th><th>float32</th></tr></thead>\n",
       "<tr><td>SKY</td><td></td><td>-1</td><td>-1</td><td>0.0</td><td>-1.0</td><td>0.0 .. 0.0</td><td>0.0 .. 0.0</td><td>-1.0</td><td>-1.0</td><td>-1.0</td><td>-1.0</td><td>-1.0</td><td>-1.0</td><td>-1.0</td><td>-1.0</td><td>-1.0</td><td>-1.0</td><td>-1.0</td><td>-1.0</td><td>-1.0</td><td>-1.0</td><td>-1.0</td><td>-1.0</td></tr>\n",
       "<tr><td>ELG</td><td></td><td>6752</td><td>3244113739</td><td>1.53694</td><td>23.2023</td><td>0.233109 .. 1.47868</td><td>4.03679 .. 4.40491</td><td>5.45512e-17</td><td>-1.0</td><td>50.9816</td><td>-1.0</td><td>1.09257</td><td>49.0409</td><td>0.733237</td><td>-0.0850786</td><td>0.275525</td><td>-0.248196</td><td>-0.19466</td><td>-1.0</td><td>-1.0</td><td>-1.0</td><td>-1.0</td><td>-1.0</td></tr>\n",
       "<tr><td>LRG</td><td></td><td>18</td><td>3244113739</td><td>0.877407</td><td>20.256</td><td>0.114243 .. 9.0901</td><td>29.0752 .. 20.158</td><td>-1.0</td><td>-1.0</td><td>-1.0</td><td>-1.0</td><td>1.50574</td><td>183.679</td><td>-1.0</td><td>-1.0</td><td>-1.0</td><td>-1.0</td><td>-1.0</td><td>0.0096</td><td>2.81838</td><td>-1.0</td><td>-1.0</td><td>-1.0</td></tr>\n",
       "</table>"
      ],
      "text/plain": [
       "<Table length=3>\n",
       "OBJTYPE SUBTYPE TEMPLATEID    SEED    ...   AGE     TEFF    LOGG    FEH  \n",
       " str10   str10    int32      int64    ... float32 float32 float32 float32\n",
       "------- ------- ---------- ---------- ... ------- ------- ------- -------\n",
       "    SKY                 -1         -1 ...    -1.0    -1.0    -1.0    -1.0\n",
       "    ELG               6752 3244113739 ...    -1.0    -1.0    -1.0    -1.0\n",
       "    LRG                 18 3244113739 ... 2.81838    -1.0    -1.0    -1.0"
      ]
     },
     "execution_count": 111,
     "metadata": {},
     "output_type": "execute_result"
    }
   ],
   "source": [
    "meta[:3]"
   ]
  },
  {
   "cell_type": "markdown",
   "metadata": {},
   "source": [
    "Here's a fun simple plot of the redshift histogram distributions.  Now you try!"
   ]
  },
  {
   "cell_type": "code",
   "execution_count": 86,
   "metadata": {
    "collapsed": false
   },
   "outputs": [
    {
     "data": {
      "text/plain": [
       "(-0.2, 1.7113039016723635)"
      ]
     },
     "execution_count": 86,
     "metadata": {},
     "output_type": "execute_result"
    },
    {
     "data": {
      "image/png": "[encoded data removed]",
      "text/plain": [
       "<matplotlib.figure.Figure at 0x11eb1b4a8>"
      ]
     },
     "metadata": {},
     "output_type": "display_data"
    }
   ],
   "source": [
    "allobjtype = meta['OBJTYPE']\n",
    "redlim = (-0.2, 1.1*meta['REDSHIFT'].max())\n",
    "fig, ax = plt.subplots()\n",
    "for objtype in sorted(set(allobjtype)):\n",
    "    indx = objtype == allobjtype\n",
    "    hh = ax.hist(meta['REDSHIFT'][indx], bins=nspec//3, \n",
    "                 label=objtype, alpha=0.5, range=redlim)\n",
    "ax.set_xlabel('Redshift')\n",
    "ax.set_ylabel('Number of Simulated Spectra')\n",
    "ax.legend(loc='upper right', ncol=3)\n",
    "ax.margins(0.2)\n",
    "ax.set_xlim(redlim)"
   ]
  },
  {
   "cell_type": "markdown",
   "metadata": {},
   "source": [
    "## Simulating spectra using quickgen.\n",
    "\n",
    "We're now ready to simulate DESI spectra using *quickgen*.  Since we're calling *quickgen* from within the notebook (rather than from the command line in a terminal) we have to parse the *simspec* and *fibermap* inputs first."
   ]
  },
  {
   "cell_type": "code",
   "execution_count": 113,
   "metadata": {
    "collapsed": false
   },
   "outputs": [
    {
     "name": "stdout",
     "output_type": "stream",
     "text": [
      "WARNING:log.py:19:get_logger: desispec.log is deprecated, please use desiutil.log.\n",
      "Namespace(add_SNeIa=False, airmass=1.25, brickname=None, config='desi', exptime=None, fibermap='/Users/ioannis/research/projects/desi/spectro/data/20170615/fibermap-00000000.fits', frameonly=False, moon_angle=None, moon_phase=None, moon_zenith=None, nspec=100, nstart=0, objtype=None, outdir='.', outdir_truth=None, rmagrange_bgs=(15.0, 19.5), seed=0, simspec='/Users/ioannis/research/projects/desi/spectro/sim/example/20170615/simspec-00000000.fits', sne_rfluxratiorange=(0.1, 1.0), spectrograph=None, verbose=False, zrange_bgs=(0.01, 0.4), zrange_elg=(0.6, 1.6), zrange_lrg=(0.5, 1.1), zrange_qso=(0.5, 4.0))\n"
     ]
    }
   ],
   "source": [
    "args = quickgen.parse([\n",
    "    '--simspec', simspecfile,\n",
    "    '--fibermap', fiberfile\n",
    "])\n",
    "print(args)\n",
    "#quickgen.main(args)    "
   ]
  },
  {
   "cell_type": "code",
   "execution_count": null,
   "metadata": {
    "collapsed": false,
    "deletable": true,
    "editable": true
   },
   "outputs": [],
   "source": [
    "# Generate fibermap and simspec files.\n",
    "lensdir = priors['LENSDIR']\n",
    "for ii in range(nexp):\n",
    "    fibermap, truth = new_lensing_exposure(priors, exptime=priors['EXPTIME'][ii], night=priors['NIGHT'],\n",
    "                                           tileid=priors['TILEID'], expid=priors['EXPID'][ii], seed=seed, \n",
    "                                           outdir=lensdir)\n",
    "    # Write out truth table of the source.\n",
    "    metafile = os.path.join(lensdir, priors['NIGHT'], 'meta-source-{:08d}.fits'.format(priors['EXPID'][ii]))\n",
    "    truth['META_SOURCE'].write(metafile, overwrite=True)\n",
    "    \n",
    "    metafile = os.path.join(lensdir, priors['NIGHT'], 'meta-lens-{:08d}.fits'.format(priors['EXPID'][ii]))\n",
    "    truth['META'].write(metafile, overwrite=True)"
   ]
  },
  {
   "cell_type": "code",
   "execution_count": null,
   "metadata": {
    "collapsed": false,
    "deletable": true,
    "editable": true
   },
   "outputs": [],
   "source": [
    "# Run quickgen\n",
    "lensdir = priors['LENSDIR']\n",
    "night = priors['NIGHT']\n",
    "for ii in range(nexp):\n",
    "    expid = priors['EXPID'][ii]\n",
    "    quickgen.main(quickgen.parse([\n",
    "        '--simspec', os.path.join(lensdir, night, 'simspec-{:08d}.fits'.format(expid)), \n",
    "        '--fibermap', os.path.join(lensdir, night, 'fibermap-{:08d}.fits'.format(expid))\n",
    "    ]))\n"
   ]
  },
  {
   "cell_type": "code",
   "execution_count": null,
   "metadata": {
    "collapsed": false,
    "deletable": true,
    "editable": true
   },
   "outputs": [],
   "source": [
    "# Make bricks from cframe files.\n",
    "from desispec.scripts import makebricks\n",
    "makebricks.main(makebricks.parse(['--night', priors['NIGHT'], '--verbose']))"
   ]
  },
  {
   "cell_type": "code",
   "execution_count": null,
   "metadata": {
    "collapsed": false
   },
   "outputs": [],
   "source": [
    "from glob import glob\n",
    "\n",
    "# Get the list of bricks\n",
    "bricks = glob(os.path.join(lensdir, 'bricks', '*'))\n",
    "print(bricks)\n"
   ]
  },
  {
   "cell_type": "code",
   "execution_count": null,
   "metadata": {
    "collapsed": false,
    "deletable": true,
    "editable": true
   },
   "outputs": [],
   "source": [
    "# Figure out redshift fitting.\n",
    "from desispec.scripts import zfind\n",
    "from glob import glob\n",
    "\n",
    "# Get the list of bricks\n",
    "bricks = glob(os.path.join(lensdir, 'bricks', '*'))\n",
    "print(bricks)\n",
    "\n",
    "nproc = 4\n",
    "zrange = [0.4, 0.6]\n",
    "\n",
    "for bb in list(set(bricks)):\n",
    "    print(bb)\n",
    "    #brickfiles = [os.path.join(lensdir, 'bricks', bb, 'brick-{}-{}.fits'.format(ch, bb)) for ch in ['b', 'r', 'z']]\n",
    "    #print(brickfiles)\n",
    "    zargs = zfind.parse([\n",
    "        '--brick', bb, \n",
    "        '--nproc', '{}'.format(nproc),\n",
    "        '--zrange-galaxy', '{}'.format(zrange[0]), '{}'.format(zrange[1]), \n",
    "        #'--zspec', \n",
    "        #'--qafile', os.path.join(lensdir, 'bricks', bb, 'qa-zbest-{}.pdf'.format(bb)),\n",
    "        #'--outfile', os.path.join(lensdir, 'zbest-{}.fits'.format(exp))\n",
    "        '--objtype', 'LRG'])\n",
    "    zfind.main(zargs)\n"
   ]
  },
  {
   "cell_type": "code",
   "execution_count": null,
   "metadata": {
    "collapsed": false,
    "deletable": true,
    "editable": true
   },
   "outputs": [],
   "source": [
    "#set the brick name and take the zbest file for the specified brick\n",
    "thisbrick = '3587m005'\n",
    "zfile = os.path.join(lensdir, 'bricks', thisbrick, 'zbest-{}.fits'.format(thisbrick))\n",
    "zbest = Table(fitsio.read(zfile, ext=1))\n",
    "print(zbest)\n",
    "\n",
    "#Create the table for the set brick \n",
    "simfile = os.path.join(lensdir, priors['NIGHT'], 'simspec-{:08d}.fits'.format(priors['EXPID'][0]))\n",
    "sim1 = read_simspec(simfile)\n",
    "print(Table(sim1.metadata))\n",
    "\n"
   ]
  },
  {
   "cell_type": "code",
   "execution_count": null,
   "metadata": {
    "collapsed": true,
    "deletable": true,
    "editable": true
   },
   "outputs": [],
   "source": [
    "# Below here requires hacking....\n"
   ]
  },
  {
   "cell_type": "code",
   "execution_count": null,
   "metadata": {
    "collapsed": false,
    "deletable": true,
    "editable": true,
    "scrolled": true
   },
   "outputs": [],
   "source": [
    "# Read the simspec file to get trueflux.\n",
    "simfile = os.path.join(lensdir, 'simspec-{:08d}.fits'.format(0))\n",
    "sim = read_simspec(simfile)\n",
    "\n",
    "simfile1 = os.path.join(lensdir, 'simspec-{:08d}.fits'.format(1))\n",
    "sim1 = read_simspec(simfile1)"
   ]
  },
  {
   "cell_type": "code",
   "execution_count": null,
   "metadata": {
    "collapsed": true,
    "deletable": true,
    "editable": true
   },
   "outputs": [],
   "source": []
  },
  {
   "cell_type": "code",
   "execution_count": null,
   "metadata": {
    "collapsed": false,
    "deletable": true,
    "editable": true
   },
   "outputs": [],
   "source": [
    "#ploting the lens for the three color cuts: blue, red, and near infrared \n",
    "for channel in ('b', 'r', 'z'):\n",
    "    ff = desispec.io.read_frame(os.path.join(lensdir, 'cframe-{}0-{:08d}.fits'.format(channel, 0)))\n",
    "    plt.plot(ff.wave, ff.flux[0, :])\n",
    "    \n",
    "    ff_test = desispec.io.read_frame(os.path.join(lensdir, 'cframe-{}0-{:08d}.fits'.format(channel, 1)))\n",
    "    plt.plot(ff_test.wave, ff_test.flux[0, :])\n",
    "\n",
    "plt.plot(sim.wave['brz'], sim.flux[0, :], color='k')\n",
    "plt.ylim(-4, 10)    \n",
    "plt.show()\n",
    "\n",
    "for channel in ('b', 'r', 'z'):\n",
    "    ff = desispec.io.read_frame(os.path.join(lensdir, 'cframe-{}0-{:08d}.fits'.format(channel, 0)))\n",
    "    ff_test = desispec.io.read_frame(os.path.join(lensdir, 'cframe-{}0-{:08d}.fits'.format(channel, 1)))\n",
    "    plt.plot(ff.wave, ff.flux[0, :] * np.sqrt(ff.ivar[0, :]))\n",
    "    plt.plot(ff_test.wave, ff_test.flux[0, :] * np.sqrt(ff_test.ivar[0, :]))\n",
    "plt.xlim(6000, 7000)\n",
    "plt.ylim(0, 25)\n",
    "plt.show()\n",
    "\n"
   ]
  },
  {
   "cell_type": "code",
   "execution_count": null,
   "metadata": {
    "collapsed": true,
    "deletable": true,
    "editable": true
   },
   "outputs": [],
   "source": []
  }
 ],
 "metadata": {
  "anaconda-cloud": {},
  "kernelspec": {
   "display_name": "Python 3",
   "language": "python",
   "name": "python3"
  },
  "language_info": {
   "codemirror_mode": {
    "name": "ipython",
    "version": 3
   },
   "file_extension": ".py",
   "mimetype": "text/x-python",
   "name": "python",
   "nbconvert_exporter": "python",
   "pygments_lexer": "ipython3",
   "version": "3.5.2"
  }
 },
 "nbformat": 4,
 "nbformat_minor": 2
}
