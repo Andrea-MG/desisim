{
 "cells": [
  {
   "cell_type": "markdown",
   "metadata": {},
   "source": [
    "# Building LRG Templates\n",
    "\n",
    "The goal of this notebook is to use observations of a large number of luminous red galaxies (LRGs) with DECaLS/DR3 *grzW1W2* photometry and ancillary spectroscopic redshifts to generate a set of spectroscopic templates suitable for spectroscopic simulations, targeting investigations, and other DESI-related projects.\n",
    "\n",
    "The parent sample consists of 2,511,248 LRGs selected from the official DECaLS/DR3.1 target catalog `targets-dr3.1-0.14.0.fits` using the selection criterion\n",
    "```python\n",
    "DESI_TARGET & desi_mask.LRG != 0\n",
    "```\n",
    "\n",
    "Subsequently, Rongpu Zhou (Pittsburgh) assembled spectroscopic redshifts for the sample from SDSS/Main, SDSS/BOSS, AGES, DEEP2, and VIPERS, supplemented with COSMOS medium-band photometric redshifts, yielding precise redshifts for 62,177 objects (2.4% of the parent sample).  Using these data, Zhou used a random forest technique (described elsewhere) to compute photometric redshifts for the complete sample, producing the catalog `dr3.1-0.14.0-lrg-rf-photoz-0.2.fits`, which we use as input into the generation of the spectral templates.\n",
    "\n",
    "Specifically, we adopt the following procedure:\n",
    "  1.  We focus exclusively on the subset of LRGs with spectroscopic redshifts since we find that the training sample is fairly representative of the full sample in the four-dimensional space of *g-r*, *r-z*, *z*-band magnitude, and redshift.  (Future versions of these templates may utilize the random forest photometric redshifts.)\n",
    "  2. We \n",
    "\n",
    "Previously, the LRG templates were simple stellar populations (SSPs) spanning a range of age and stellar metallicity but not explicitly tied to survey data.  Here, we improve upon these templates in two ways.  First, \n",
    "\n",
    "John Moustakas\n",
    "Siena College\n",
    "2017 September 21"
   ]
  },
  {
   "cell_type": "code",
   "execution_count": 9,
   "metadata": {
    "collapsed": true
   },
   "outputs": [],
   "source": [
    "import numpy as np\n",
    "import matplotlib.pyplot as plt\n",
    "\n",
    "from astropy.table import Table"
   ]
  },
  {
   "cell_type": "code",
   "execution_count": 10,
   "metadata": {
    "collapsed": true
   },
   "outputs": [],
   "source": [
    "%matplotlib inline"
   ]
  },
  {
   "cell_type": "code",
   "execution_count": 7,
   "metadata": {},
   "outputs": [
    {
     "data": {
      "text/html": [
       "&lt;Table length=3&gt;\n",
       "<table id=\"table4466642896\" class=\"table-striped table-bordered table-condensed\">\n",
       "<thead><tr><th>ISEDFIT_ID</th><th>RA</th><th>DEC</th><th>Z</th><th>MAGGIES [5]</th><th>IVARMAGGIES [5]</th><th>BESTMAGGIES [5]</th><th>CHUNKINDX</th><th>MODELINDX</th><th>DELAYED</th><th>BURSTTYPE</th><th>CHI2</th><th>TOTALMASS</th><th>TOTALMASS_ERR</th><th>MSTAR</th><th>AGE</th><th>SFRAGE</th><th>TAU</th><th>ZMETAL</th><th>AV</th><th>MU</th><th>OIIIHB</th><th>NLYC</th><th>SFR</th><th>SFR100</th><th>B100</th><th>B1000</th><th>EWOII</th><th>EWOIIIHB</th><th>EWNIIHA</th><th>NBURST</th><th>TRUNCTAU</th><th>TBURST</th><th>DTBURST</th><th>FBURST</th><th>MSTAR_50</th><th>AGE_50</th><th>SFRAGE_50</th><th>TAU_50</th><th>ZMETAL_50</th><th>AV_50</th><th>MU_50</th><th>OIIIHB_50</th><th>SFR_50</th><th>SFR100_50</th><th>B100_50</th><th>B1000_50</th><th>EWOII_50</th><th>EWOIIIHB_50</th><th>EWNIIHA_50</th><th>MSTAR_AVG</th><th>AGE_AVG</th><th>SFRAGE_AVG</th><th>TAU_AVG</th><th>ZMETAL_AVG</th><th>AV_AVG</th><th>MU_AVG</th><th>OIIIHB_AVG</th><th>SFR_AVG</th><th>SFR100_AVG</th><th>B100_AVG</th><th>B1000_AVG</th><th>EWOII_AVG</th><th>EWOIIIHB_AVG</th><th>EWNIIHA_AVG</th><th>MSTAR_ERR</th><th>AGE_ERR</th><th>SFRAGE_ERR</th><th>TAU_ERR</th><th>ZMETAL_ERR</th><th>AV_ERR</th><th>MU_ERR</th><th>OIIIHB_ERR</th><th>SFR_ERR</th><th>SFR100_ERR</th><th>B100_ERR</th><th>B1000_ERR</th><th>EWOII_ERR</th><th>EWOIIIHB_ERR</th><th>EWNIIHA_ERR</th></tr></thead>\n",
       "<thead><tr><th>int32</th><th>float64</th><th>float64</th><th>float32</th><th>float32</th><th>float32</th><th>float32</th><th>int16</th><th>int16</th><th>int32</th><th>int32</th><th>float32</th><th>float32</th><th>float32</th><th>float32</th><th>float32</th><th>float32</th><th>float32</th><th>float32</th><th>float32</th><th>float32</th><th>float32</th><th>float32</th><th>float32</th><th>float32</th><th>float32</th><th>float32</th><th>float32</th><th>float32</th><th>float32</th><th>int16</th><th>float32</th><th>float32</th><th>float32</th><th>float32</th><th>float32</th><th>float32</th><th>float32</th><th>float32</th><th>float32</th><th>float32</th><th>float32</th><th>float32</th><th>float32</th><th>float32</th><th>float32</th><th>float32</th><th>float32</th><th>float32</th><th>float32</th><th>float32</th><th>float32</th><th>float32</th><th>float32</th><th>float32</th><th>float32</th><th>float32</th><th>float32</th><th>float32</th><th>float32</th><th>float32</th><th>float32</th><th>float32</th><th>float32</th><th>float32</th><th>float32</th><th>float32</th><th>float32</th><th>float32</th><th>float32</th><th>float32</th><th>float32</th><th>float32</th><th>float32</th><th>float32</th><th>float32</th><th>float32</th><th>float32</th><th>float32</th><th>float32</th></tr></thead>\n",
       "<tr><td>0</td><td>7.10186257679</td><td>-3.84164260827</td><td>0.493305</td><td>1.7658e-09 .. 2.19342e-08</td><td>2.10202e+20 .. 1.63934e+17</td><td>1.95907e-09 .. 2.72933e-08</td><td>0</td><td>3005</td><td>1</td><td>1</td><td>3.4034</td><td>3.79652e+11</td><td>2.49584e+09</td><td>11.3572</td><td>8.43379</td><td>8.25055</td><td>0.0916157</td><td>0.00775165</td><td>0.208418</td><td>0.506265</td><td>-1.0</td><td>52.1077</td><td>-3.42061</td><td>-3.42061</td><td>-15.0</td><td>-15.0</td><td>-1.0</td><td>-1.0</td><td>-1.0</td><td>0</td><td>-1.0</td><td>-1.0</td><td>-1.0</td><td>-1.0</td><td>11.3304</td><td>7.99743</td><td>6.93651</td><td>0.124043</td><td>0.00873057</td><td>0.314216</td><td>0.357754</td><td>-1.0</td><td>-3.42019</td><td>-3.42019</td><td>-15.0</td><td>-13.4455</td><td>-1.0</td><td>-1.0</td><td>-1.0</td><td>11.319</td><td>7.49219</td><td>6.91142</td><td>0.290627</td><td>0.0089476</td><td>0.36689</td><td>0.349315</td><td>-1.0</td><td>-2.85242</td><td>-3.17479</td><td>-10.7666</td><td>-10.4481</td><td>-1.0</td><td>-1.0</td><td>-1.0</td><td>0.059242</td><td>0.856211</td><td>0.86443</td><td>0.199598</td><td>0.00219014</td><td>0.323897</td><td>0.0918706</td><td>0.0</td><td>0.735066</td><td>0.493306</td><td>2.93409</td><td>3.00125</td><td>0.0</td><td>0.0</td><td>0.0</td></tr>\n",
       "<tr><td>1</td><td>7.23270630501</td><td>-3.73900323383</td><td>0.596124</td><td>1.21947e-09 .. 3.73271e-08</td><td>3.41204e+20 .. 1.61952e+17</td><td>1.38542e-09 .. 4.38815e-08</td><td>0</td><td>1746</td><td>1</td><td>1</td><td>4.81293</td><td>7.38799e+11</td><td>3.82096e+09</td><td>11.6527</td><td>6.85219</td><td>6.73449</td><td>0.0588457</td><td>0.0144248</td><td>0.174484</td><td>0.521158</td><td>-1.0</td><td>52.1897</td><td>-3.13147</td><td>-3.13147</td><td>-15.0</td><td>-15.0</td><td>-1.0</td><td>-1.0</td><td>-1.0</td><td>0</td><td>-1.0</td><td>-1.0</td><td>-1.0</td><td>-1.0</td><td>11.6497</td><td>6.91977</td><td>6.72835</td><td>0.100916</td><td>0.0144248</td><td>0.406731</td><td>0.254227</td><td>-1.0</td><td>-3.12706</td><td>-3.13482</td><td>-15.0</td><td>-15.0</td><td>-1.0</td><td>-1.0</td><td>-1.0</td><td>11.6523</td><td>7.06551</td><td>6.69376</td><td>0.185881</td><td>0.0141004</td><td>0.372666</td><td>0.320061</td><td>-1.0</td><td>-2.96507</td><td>-3.12227</td><td>-12.9086</td><td>-12.6098</td><td>-1.0</td><td>-1.0</td><td>-1.0</td><td>0.0230553</td><td>0.353224</td><td>0.365486</td><td>0.113796</td><td>0.00143068</td><td>0.188852</td><td>0.0777556</td><td>0.0</td><td>0.249084</td><td>0.024488</td><td>2.43004</td><td>2.54153</td><td>0.0</td><td>0.0</td><td>0.0</td></tr>\n",
       "<tr><td>2</td><td>7.25075960888</td><td>-3.69038082861</td><td>0.417064</td><td>4.01967e-09 .. 6.68506e-08</td><td>2.36941e+20 .. 1.39383e+17</td><td>4.22141e-09 .. 6.91748e-08</td><td>0</td><td>1845</td><td>1</td><td>1</td><td>6.53943</td><td>6.02214e+11</td><td>1.78635e+09</td><td>11.5653</td><td>6.58946</td><td>6.50841</td><td>0.0405254</td><td>0.0174149</td><td>0.206621</td><td>0.421606</td><td>-1.0</td><td>52.0855</td><td>-3.22025</td><td>-3.22025</td><td>-15.0</td><td>-15.0</td><td>-1.0</td><td>-1.0</td><td>-1.0</td><td>0</td><td>-1.0</td><td>-1.0</td><td>-1.0</td><td>-1.0</td><td>11.5563</td><td>7.2391</td><td>6.6888</td><td>0.24461</td><td>0.0164273</td><td>0.243011</td><td>0.256191</td><td>-1.0</td><td>-3.21876</td><td>-3.21876</td><td>-11.2897</td><td>-10.2249</td><td>-1.0</td><td>-1.0</td><td>-1.0</td><td>11.5557</td><td>7.30037</td><td>6.7142</td><td>0.293187</td><td>0.0166676</td><td>0.341988</td><td>0.296434</td><td>-1.0</td><td>-2.72534</td><td>-2.99061</td><td>-10.4868</td><td>-9.94606</td><td>-1.0</td><td>-1.0</td><td>-1.0</td><td>0.0325592</td><td>0.668907</td><td>0.633558</td><td>0.180791</td><td>0.00261316</td><td>0.233652</td><td>0.0862318</td><td>0.0</td><td>0.667253</td><td>0.419559</td><td>2.87642</td><td>2.94797</td><td>0.0</td><td>0.0</td><td>0.0</td></tr>\n",
       "</table>"
      ],
      "text/plain": [
       "<Table length=3>\n",
       "ISEDFIT_ID       RA           DEC       ... EWOII_ERR EWOIIIHB_ERR EWNIIHA_ERR\n",
       "  int32       float64       float64     ...  float32    float32      float32  \n",
       "---------- ------------- -------------- ... --------- ------------ -----------\n",
       "         0 7.10186257679 -3.84164260827 ...       0.0          0.0         0.0\n",
       "         1 7.23270630501 -3.73900323383 ...       0.0          0.0         0.0\n",
       "         2 7.25075960888 -3.69038082861 ...       0.0          0.0         0.0"
      ]
     },
     "execution_count": 7,
     "metadata": {},
     "output_type": "execute_result"
    }
   ],
   "source": [
    "cat = Table.read('legacysurvey_lrg_ckc14z_kroupa01_charlot_sfhgrid01.fits.gz')\n",
    "cat[:3]"
   ]
  },
  {
   "cell_type": "code",
   "execution_count": 8,
   "metadata": {},
   "outputs": [
    {
     "data": {
      "text/html": [
       "&lt;Table length=3&gt;\n",
       "<table id=\"table4642100168\" class=\"table-striped table-bordered table-condensed\">\n",
       "<thead><tr><th>ISEDFIT_ID</th><th>Z</th><th>MAGGIES [5]</th><th>IVARMAGGIES [5]</th><th>CHI2</th><th>FLAM_1500</th><th>CFLUX_3727</th><th>KCORRECT [3]</th><th>ABSMAG [3]</th><th>IVARABSMAG [3]</th><th>SYNTH_ABSMAG [3]</th><th>ABSMAG_FILTERLIST [3]</th></tr></thead>\n",
       "<thead><tr><th>int32</th><th>float32</th><th>float32</th><th>float32</th><th>float32</th><th>float32</th><th>float32</th><th>float32</th><th>float32</th><th>float32</th><th>float32</th><th>str11</th></tr></thead>\n",
       "<tr><td>0</td><td>0.493305</td><td>1.7658e-09 .. 2.19342e-08</td><td>2.10202e+20 .. 1.63934e+17</td><td>3.4034</td><td>8.62409e-19</td><td>1.93438e-17</td><td>0.0124708 .. 0.0714089</td><td>-22.1503 .. -23.2998</td><td>8778.52 .. 9104.59</td><td>-22.1392 .. -23.3014</td><td>decam_g.par .. decam_z.par</td></tr>\n",
       "<tr><td>1</td><td>0.596124</td><td>1.21947e-09 .. 3.73271e-08</td><td>3.41204e+20 .. 1.61952e+17</td><td>4.81293</td><td>6.44898e-19</td><td>1.93495e-17</td><td>0.415429 .. 0.191121</td><td>-22.7973 .. -24.0572</td><td>9283.86 .. 18576.3</td><td>-22.7938 .. -24.0487</td><td>decam_g.par .. decam_z.par</td></tr>\n",
       "<tr><td>2</td><td>0.417064</td><td>4.01967e-09 .. 6.68506e-08</td><td>2.36941e+20 .. 1.39383e+17</td><td>6.53943</td><td>1.18799e-18</td><td>3.28199e-17</td><td>-0.168682 .. 0.111303</td><td>-22.5102 .. -23.7975</td><td>51005.0 .. 36417.2</td><td>-22.5025 .. -23.7953</td><td>decam_g.par .. decam_z.par</td></tr>\n",
       "</table>"
      ],
      "text/plain": [
       "<Table length=3>\n",
       "ISEDFIT_ID    Z     ...   SYNTH_ABSMAG [3]     ABSMAG_FILTERLIST [3]   \n",
       "  int32    float32  ...       float32                  str11           \n",
       "---------- -------- ... -------------------- --------------------------\n",
       "         0 0.493305 ... -22.1392 .. -23.3014 decam_g.par .. decam_z.par\n",
       "         1 0.596124 ... -22.7938 .. -24.0487 decam_g.par .. decam_z.par\n",
       "         2 0.417064 ... -22.5025 .. -23.7953 decam_g.par .. decam_z.par"
      ]
     },
     "execution_count": 8,
     "metadata": {},
     "output_type": "execute_result"
    }
   ],
   "source": [
    "kcorr = Table.read('legacysurvey_lrg_ckc14z_kroupa01_charlot_sfhgrid01_kcorr.z0.0.fits.gz')\n",
    "kcorr[:3]"
   ]
  },
  {
   "cell_type": "code",
   "execution_count": 11,
   "metadata": {
    "collapsed": true
   },
   "outputs": [],
   "source": [
    "Mg, Mr, Mz = kcorr['ABSMAG'][:, 0], kcorr['ABSMAG'][:, 1], kcorr['ABSMAG'][:, 2]"
   ]
  },
  {
   "cell_type": "code",
   "execution_count": 17,
   "metadata": {},
   "outputs": [
    {
     "data": {
      "text/plain": [
       "<matplotlib.text.Text at 0x11364bf98>"
      ]
     },
     "execution_count": 17,
     "metadata": {},
     "output_type": "execute_result"
    },
    {
     "data": {
      "image/png": "[encoded data removed]",
      "text/plain": [
       "<matplotlib.figure.Figure at 0x1135656a0>"
      ]
     },
     "metadata": {},
     "output_type": "display_data"
    }
   ],
   "source": [
    "fig, ax = plt.subplots()\n",
    "ax.scatter(Mr-Mz, Mg-Mr, alpha=0.3, s=5)\n",
    "ax.set_xlabel(r'$^{0.0}(r - z)$')\n",
    "ax.set_ylabel(r'$^{0.0}(g - r)$')"
   ]
  },
  {
   "cell_type": "code",
   "execution_count": 22,
   "metadata": {},
   "outputs": [
    {
     "data": {
      "text/plain": [
       "<matplotlib.text.Text at 0x1160c2f28>"
      ]
     },
     "execution_count": 22,
     "metadata": {},
     "output_type": "execute_result"
    },
    {
     "data": {
      "image/png": "[encoded data removed]",
      "text/plain": [
       "<matplotlib.figure.Figure at 0x116125e10>"
      ]
     },
     "metadata": {},
     "output_type": "display_data"
    }
   ],
   "source": [
    "fig, ax = plt.subplots()\n",
    "_ = ax.hist(kcorr['Z'], bins=100, normed=True)\n",
    "ax.set_xlabel('Redshift')\n",
    "ax.set_ylabel('Number of Galaxies')"
   ]
  },
  {
   "cell_type": "code",
   "execution_count": null,
   "metadata": {
    "collapsed": true
   },
   "outputs": [],
   "source": []
  }
 ],
 "metadata": {
  "kernelspec": {
   "display_name": "Python 3",
   "language": "python",
   "name": "python3"
  },
  "language_info": {
   "codemirror_mode": {
    "name": "ipython",
    "version": 3
   },
   "file_extension": ".py",
   "mimetype": "text/x-python",
   "name": "python",
   "nbconvert_exporter": "python",
   "pygments_lexer": "ipython3",
   "version": "3.5.3"
  }
 },
 "nbformat": 4,
 "nbformat_minor": 2
}
