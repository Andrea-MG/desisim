{
 "cells": [
  {
   "cell_type": "markdown",
   "metadata": {},
   "source": [
    "# Transient Models\n",
    "\n",
    "Example of randomly grabbing transient models by type from the `desisim.transients` module.\n",
    "\n",
    "Transient models can also be accessed by name, which is demonstrated below."
   ]
  },
  {
   "cell_type": "code",
   "execution_count": 1,
   "metadata": {},
   "outputs": [],
   "source": [
    "import numpy as np\n",
    "import matplotlib.pyplot as plt\n",
    "from astropy import units as u\n",
    "\n",
    "from desisim.transients import transients"
   ]
  },
  {
   "cell_type": "markdown",
   "metadata": {},
   "source": [
    "## Plotting Script\n",
    "\n",
    "Given a transient model and a matplotlib Axes object, plot the flux vs. wavelength at peak flux, always defined to be at time 0."
   ]
  },
  {
   "cell_type": "code",
   "execution_count": 2,
   "metadata": {},
   "outputs": [],
   "source": [
    "def plot_transient(tr, ax):\n",
    "    wlmin = np.maximum(2500., tr.minwave().value)\n",
    "    wlmax = np.minimum(9500., tr.maxwave().value)\n",
    "    wl = np.arange(wlmin, wlmax, 1.) * u.Angstrom\n",
    "    t = 0*u.day\n",
    "    ax.plot(wl, tr.flux(0*u.day, wl),\n",
    "            label='{} ({})'.format(tr.model, tr.type))\n",
    "    ax.set(xlabel=r'wavelength [$\\AA$]',\n",
    "           ylabel=r'flux [arb. units]')\n",
    "    ax.legend(fontsize=10)"
   ]
  },
  {
   "cell_type": "code",
   "execution_count": 4,
   "metadata": {},
   "outputs": [
    {
     "data": {
      "text/plain": [
       "{'Ia': ['hsiao',\n",
       "  'nugent-sn1a',\n",
       "  'nugent-sn91t',\n",
       "  'nugent-sn91bg',\n",
       "  'salt2-extended'],\n",
       " 'Ib': ['s11-2005hl',\n",
       "  's11-2005hm',\n",
       "  's11-2006jo',\n",
       "  'snana-2004gv',\n",
       "  'snana-2006ep',\n",
       "  'snana-2007y',\n",
       "  'snana-2004ib',\n",
       "  'snana-2005hm',\n",
       "  'snana-2007nc'],\n",
       " 'Ib/c': ['nugent-sn1bc'],\n",
       " 'Ic': ['s11-2006fo',\n",
       "  'snana-2004fe',\n",
       "  'snana-2004gq',\n",
       "  'snana-sdss004012',\n",
       "  'snana-2006fo',\n",
       "  'snana-sdss014475',\n",
       "  'snana-2006lc',\n",
       "  'snana-04d1la',\n",
       "  'snana-04d4jv'],\n",
       " 'IIn': ['nugent-sn2n', 'snana-2006ez', 'snana-2006ix'],\n",
       " 'IIP': ['nugent-sn2p',\n",
       "  's11-2005lc',\n",
       "  's11-2005gi',\n",
       "  's11-2006jl',\n",
       "  'snana-2004hx',\n",
       "  'snana-2005gi',\n",
       "  'snana-2006gq',\n",
       "  'snana-2006kn',\n",
       "  'snana-2006jl',\n",
       "  'snana-2006iw',\n",
       "  'snana-2006kv',\n",
       "  'snana-2006ns',\n",
       "  'snana-2007iz',\n",
       "  'snana-2007nr',\n",
       "  'snana-2007kw',\n",
       "  'snana-2007ky',\n",
       "  'snana-2007lj',\n",
       "  'snana-2007lb',\n",
       "  'snana-2007ll',\n",
       "  'snana-2007nw',\n",
       "  'snana-2007ld',\n",
       "  'snana-2007md',\n",
       "  'snana-2007lz',\n",
       "  'snana-2007lx',\n",
       "  'snana-2007og',\n",
       "  'snana-2007nv',\n",
       "  'snana-2007pg'],\n",
       " 'IIL': ['nugent-sn2l'],\n",
       " 'IIL/P': ['s11-2004hx'],\n",
       " 'II-pec': ['snana-2007ms']}"
      ]
     },
     "execution_count": 4,
     "metadata": {},
     "output_type": "execute_result"
    }
   ],
   "source": [
    "transients.get_type_dict()"
   ]
  },
  {
   "cell_type": "markdown",
   "metadata": {},
   "source": [
    "## Available Models\n",
    "\n",
    "List transient models. Then pick one and plot it."
   ]
  },
  {
   "cell_type": "code",
   "execution_count": null,
   "metadata": {},
   "outputs": [],
   "source": [
    "print(transients)"
   ]
  },
  {
   "cell_type": "code",
   "execution_count": null,
   "metadata": {},
   "outputs": [],
   "source": [
    "fig, ax = plt.subplots(1,1, figsize=(6,4), tight_layout=True)\n",
    "model = transients.get_model('hsiao')\n",
    "plot_transient(model, ax)"
   ]
  },
  {
   "cell_type": "markdown",
   "metadata": {},
   "source": [
    "## Model Random Access\n",
    "\n",
    "You can grab a model by type. The `desisim.transients` model will randomly select one of the avaialable models of that type. Types are just strings, and if you try one that is not available in the model you'll just get an exception.\n",
    "\n",
    "Below, loop over several types, randomly select a model from each, and plot the spectrum from t0 (max light) for that model."
   ]
  },
  {
   "cell_type": "code",
   "execution_count": null,
   "metadata": {},
   "outputs": [],
   "source": [
    "types = ['Ia', 'Ib', 'Ib/c', 'Ic', 'IIn', 'IIP', 'IIL', 'IIL/P', 'II-pec']\n",
    "ntype = len(types)"
   ]
  },
  {
   "cell_type": "code",
   "execution_count": null,
   "metadata": {},
   "outputs": [],
   "source": [
    "ncol = 3\n",
    "nrow = int(np.ceil(ntype / ncol))\n",
    "fig, axes = plt.subplots(nrow, ncol, figsize=(4*ncol, 3*nrow), tight_layout=True)\n",
    "axes = axes.flatten()\n",
    "\n",
    "for t, ax in zip(types, axes):\n",
    "    s = transients.get_type(t)\n",
    "    print(vars(s))\n",
    "    plot_transient(s, ax)"
   ]
  },
  {
   "cell_type": "code",
   "execution_count": null,
   "metadata": {},
   "outputs": [],
   "source": []
  }
 ],
 "metadata": {
  "kernelspec": {
   "display_name": "Python [conda env:desi] *",
   "language": "python",
   "name": "conda-env-desi-py"
  },
  "language_info": {
   "codemirror_mode": {
    "name": "ipython",
    "version": 3
   },
   "file_extension": ".py",
   "mimetype": "text/x-python",
   "name": "python",
   "nbconvert_exporter": "python",
   "pygments_lexer": "ipython3",
   "version": "3.7.4"
  }
 },
 "nbformat": 4,
 "nbformat_minor": 2
}
