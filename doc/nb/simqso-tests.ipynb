{
 "cells": [
  {
   "cell_type": "markdown",
   "metadata": {},
   "source": [
    "# Tests of simqso\n",
    "\n",
    "This notebook is a sandbox notebook for testing various aspects of simqso."
   ]
  },
  {
   "cell_type": "code",
   "execution_count": 1,
   "metadata": {
    "collapsed": true
   },
   "outputs": [],
   "source": [
    "from desisim.templates import SIMQSO\n",
    "qq = SIMQSO()"
   ]
  },
  {
   "cell_type": "code",
   "execution_count": 2,
   "metadata": {},
   "outputs": [
    {
     "name": "stdout",
     "output_type": "stream",
     "text": [
      "CPU times: user 3.59 s, sys: 72.4 ms, total: 3.67 s\n",
      "Wall time: 3.73 s\n"
     ]
    }
   ],
   "source": [
    "%time flux1, wave1, meta1, qmeta1 = qq.make_templates(5, seed=123, return_qsometa=True)"
   ]
  },
  {
   "cell_type": "code",
   "execution_count": 3,
   "metadata": {},
   "outputs": [
    {
     "name": "stdout",
     "output_type": "stream",
     "text": [
      "CPU times: user 3.21 s, sys: 53.5 ms, total: 3.27 s\n",
      "Wall time: 3.33 s\n"
     ]
    }
   ],
   "source": [
    "%time flux2, wave2, meta2, qmeta2 = qq.make_templates(input_meta=meta1, input_qsometa=qmeta1, return_qsometa=True)"
   ]
  },
  {
   "cell_type": "code",
   "execution_count": 4,
   "metadata": {},
   "outputs": [
    {
     "data": {
      "text/html": [
       "&lt;Table length=5&gt;\n",
       "<table id=\"table4436552280\" class=\"table-striped table-bordered table-condensed\">\n",
       "<thead><tr><th>OBJTYPE</th><th>SUBTYPE</th><th>TEMPLATEID</th><th>SEED</th><th>REDSHIFT</th><th>MAG</th><th>FLUX_G</th><th>FLUX_R</th><th>FLUX_Z</th><th>FLUX_W1</th><th>FLUX_W2</th><th>OIIFLUX</th><th>HBETAFLUX</th><th>EWOII</th><th>EWHBETA</th><th>D4000</th><th>VDISP</th><th>OIIDOUBLET</th><th>OIIIHBETA</th><th>OIIHBETA</th><th>NIIHBETA</th><th>SIIHBETA</th><th>ZMETAL</th><th>AGE</th><th>TEFF</th><th>LOGG</th><th>FEH</th></tr></thead>\n",
       "<thead><tr><th></th><th></th><th></th><th></th><th></th><th>mag</th><th>nanomaggies</th><th>nanomaggies</th><th>nanomaggies</th><th>nanomaggies</th><th>nanomaggies</th><th>erg / (cm2 s)</th><th>erg / (cm2 s)</th><th>Angstrom</th><th>Angstrom</th><th></th><th>km / s</th><th></th><th>dex</th><th>dex</th><th>dex</th><th>dex</th><th></th><th>Gyr</th><th>K</th><th>m / s2</th><th></th></tr></thead>\n",
       "<thead><tr><th>str10</th><th>str10</th><th>int64</th><th>int64</th><th>float32</th><th>float32</th><th>float32</th><th>float32</th><th>float32</th><th>float32</th><th>float32</th><th>float32</th><th>float32</th><th>float32</th><th>float32</th><th>float32</th><th>float32</th><th>float32</th><th>float32</th><th>float32</th><th>float32</th><th>float32</th><th>float32</th><th>float32</th><th>float32</th><th>float32</th><th>float32</th></tr></thead>\n",
       "<tr><td>QSO</td><td>LYA</td><td>0</td><td>2489768049</td><td>2.9181</td><td>21.0712</td><td>2.62601</td><td>3.72841</td><td>5.15247</td><td>13.8301</td><td>20.216</td><td>-1.0</td><td>-1.0</td><td>-1.0</td><td>-1.0</td><td>-1.0</td><td>-1.0</td><td>-1.0</td><td>-1.0</td><td>-1.0</td><td>-1.0</td><td>-1.0</td><td>-1.0</td><td>-1.0</td><td>-1.0</td><td>-1.0</td><td>-1.0</td></tr>\n",
       "<tr><td>QSO</td><td>LYA</td><td>1</td><td>2489768049</td><td>3.01703</td><td>20.2215</td><td>7.20326</td><td>8.15488</td><td>7.63277</td><td>7.88002</td><td>10.2964</td><td>-1.0</td><td>-1.0</td><td>-1.0</td><td>-1.0</td><td>-1.0</td><td>-1.0</td><td>-1.0</td><td>-1.0</td><td>-1.0</td><td>-1.0</td><td>-1.0</td><td>-1.0</td><td>-1.0</td><td>-1.0</td><td>-1.0</td><td>-1.0</td></tr>\n",
       "<tr><td>QSO</td><td>LYA</td><td>2</td><td>2489768049</td><td>2.21892</td><td>21.3603</td><td>2.72426</td><td>2.85675</td><td>4.51482</td><td>10.2367</td><td>16.5935</td><td>-1.0</td><td>-1.0</td><td>-1.0</td><td>-1.0</td><td>-1.0</td><td>-1.0</td><td>-1.0</td><td>-1.0</td><td>-1.0</td><td>-1.0</td><td>-1.0</td><td>-1.0</td><td>-1.0</td><td>-1.0</td><td>-1.0</td><td>-1.0</td></tr>\n",
       "<tr><td>QSO</td><td>LYA</td><td>3</td><td>2489768049</td><td>3.2301</td><td>21.5748</td><td>1.90613</td><td>2.34462</td><td>2.15278</td><td>3.63474</td><td>5.16752</td><td>-1.0</td><td>-1.0</td><td>-1.0</td><td>-1.0</td><td>-1.0</td><td>-1.0</td><td>-1.0</td><td>-1.0</td><td>-1.0</td><td>-1.0</td><td>-1.0</td><td>-1.0</td><td>-1.0</td><td>-1.0</td><td>-1.0</td><td>-1.0</td></tr>\n",
       "<tr><td>QSO</td><td>LYA</td><td>4</td><td>2065586814</td><td>1.93824</td><td>20.6497</td><td>5.28026</td><td>5.49709</td><td>6.91884</td><td>14.3462</td><td>22.0883</td><td>-1.0</td><td>-1.0</td><td>-1.0</td><td>-1.0</td><td>-1.0</td><td>-1.0</td><td>-1.0</td><td>-1.0</td><td>-1.0</td><td>-1.0</td><td>-1.0</td><td>-1.0</td><td>-1.0</td><td>-1.0</td><td>-1.0</td><td>-1.0</td></tr>\n",
       "</table>"
      ],
      "text/plain": [
       "<Table length=5>\n",
       "OBJTYPE SUBTYPE TEMPLATEID    SEED    ...   AGE     TEFF    LOGG    FEH  \n",
       "                                      ...   Gyr      K     m / s2        \n",
       " str10   str10    int64      int64    ... float32 float32 float32 float32\n",
       "------- ------- ---------- ---------- ... ------- ------- ------- -------\n",
       "    QSO     LYA          0 2489768049 ...    -1.0    -1.0    -1.0    -1.0\n",
       "    QSO     LYA          1 2489768049 ...    -1.0    -1.0    -1.0    -1.0\n",
       "    QSO     LYA          2 2489768049 ...    -1.0    -1.0    -1.0    -1.0\n",
       "    QSO     LYA          3 2489768049 ...    -1.0    -1.0    -1.0    -1.0\n",
       "    QSO     LYA          4 2065586814 ...    -1.0    -1.0    -1.0    -1.0"
      ]
     },
     "execution_count": 4,
     "metadata": {},
     "output_type": "execute_result"
    }
   ],
   "source": [
    "meta1"
   ]
  },
  {
   "cell_type": "code",
   "execution_count": 5,
   "metadata": {},
   "outputs": [
    {
     "data": {
      "text/html": [
       "&lt;Table length=5&gt;\n",
       "<table id=\"table4436552560\" class=\"table-striped table-bordered table-condensed\">\n",
       "<thead><tr><th>OBJTYPE</th><th>SUBTYPE</th><th>TEMPLATEID</th><th>SEED</th><th>REDSHIFT</th><th>MAG</th><th>FLUX_G</th><th>FLUX_R</th><th>FLUX_Z</th><th>FLUX_W1</th><th>FLUX_W2</th><th>OIIFLUX</th><th>HBETAFLUX</th><th>EWOII</th><th>EWHBETA</th><th>D4000</th><th>VDISP</th><th>OIIDOUBLET</th><th>OIIIHBETA</th><th>OIIHBETA</th><th>NIIHBETA</th><th>SIIHBETA</th><th>ZMETAL</th><th>AGE</th><th>TEFF</th><th>LOGG</th><th>FEH</th></tr></thead>\n",
       "<thead><tr><th></th><th></th><th></th><th></th><th></th><th>mag</th><th>nanomaggies</th><th>nanomaggies</th><th>nanomaggies</th><th>nanomaggies</th><th>nanomaggies</th><th>erg / (cm2 s)</th><th>erg / (cm2 s)</th><th>Angstrom</th><th>Angstrom</th><th></th><th>km / s</th><th></th><th>dex</th><th>dex</th><th>dex</th><th>dex</th><th></th><th>Gyr</th><th>K</th><th>m / s2</th><th></th></tr></thead>\n",
       "<thead><tr><th>str10</th><th>str10</th><th>int64</th><th>int64</th><th>float32</th><th>float32</th><th>float32</th><th>float32</th><th>float32</th><th>float32</th><th>float32</th><th>float32</th><th>float32</th><th>float32</th><th>float32</th><th>float32</th><th>float32</th><th>float32</th><th>float32</th><th>float32</th><th>float32</th><th>float32</th><th>float32</th><th>float32</th><th>float32</th><th>float32</th><th>float32</th></tr></thead>\n",
       "<tr><td>QSO</td><td>LYA</td><td>0</td><td>2489768049</td><td>2.9181</td><td>21.0721</td><td>2.80069</td><td>3.72524</td><td>4.42753</td><td>10.2059</td><td>16.9257</td><td>-1.0</td><td>-1.0</td><td>-1.0</td><td>-1.0</td><td>-1.0</td><td>-1.0</td><td>-1.0</td><td>-1.0</td><td>-1.0</td><td>-1.0</td><td>-1.0</td><td>-1.0</td><td>-1.0</td><td>-1.0</td><td>-1.0</td><td>-1.0</td></tr>\n",
       "<tr><td>QSO</td><td>LYA</td><td>1</td><td>2489768049</td><td>3.01703</td><td>20.2216</td><td>6.75939</td><td>8.15414</td><td>8.55779</td><td>15.959</td><td>24.7406</td><td>-1.0</td><td>-1.0</td><td>-1.0</td><td>-1.0</td><td>-1.0</td><td>-1.0</td><td>-1.0</td><td>-1.0</td><td>-1.0</td><td>-1.0</td><td>-1.0</td><td>-1.0</td><td>-1.0</td><td>-1.0</td><td>-1.0</td><td>-1.0</td></tr>\n",
       "<tr><td>QSO</td><td>LYA</td><td>2</td><td>2489768049</td><td>2.21892</td><td>21.3603</td><td>3.08668</td><td>2.85675</td><td>3.69636</td><td>4.69248</td><td>7.53454</td><td>-1.0</td><td>-1.0</td><td>-1.0</td><td>-1.0</td><td>-1.0</td><td>-1.0</td><td>-1.0</td><td>-1.0</td><td>-1.0</td><td>-1.0</td><td>-1.0</td><td>-1.0</td><td>-1.0</td><td>-1.0</td><td>-1.0</td><td>-1.0</td></tr>\n",
       "<tr><td>QSO</td><td>LYA</td><td>3</td><td>2489768049</td><td>3.2301</td><td>21.5752</td><td>1.91517</td><td>2.34379</td><td>2.19371</td><td>4.43147</td><td>6.01558</td><td>-1.0</td><td>-1.0</td><td>-1.0</td><td>-1.0</td><td>-1.0</td><td>-1.0</td><td>-1.0</td><td>-1.0</td><td>-1.0</td><td>-1.0</td><td>-1.0</td><td>-1.0</td><td>-1.0</td><td>-1.0</td><td>-1.0</td><td>-1.0</td></tr>\n",
       "<tr><td>QSO</td><td>LYA</td><td>4</td><td>2065586814</td><td>1.93824</td><td>20.6498</td><td>5.17356</td><td>5.49647</td><td>6.91769</td><td>14.3453</td><td>22.087</td><td>-1.0</td><td>-1.0</td><td>-1.0</td><td>-1.0</td><td>-1.0</td><td>-1.0</td><td>-1.0</td><td>-1.0</td><td>-1.0</td><td>-1.0</td><td>-1.0</td><td>-1.0</td><td>-1.0</td><td>-1.0</td><td>-1.0</td><td>-1.0</td></tr>\n",
       "</table>"
      ],
      "text/plain": [
       "<Table length=5>\n",
       "OBJTYPE SUBTYPE TEMPLATEID    SEED    ...   AGE     TEFF    LOGG    FEH  \n",
       "                                      ...   Gyr      K     m / s2        \n",
       " str10   str10    int64      int64    ... float32 float32 float32 float32\n",
       "------- ------- ---------- ---------- ... ------- ------- ------- -------\n",
       "    QSO     LYA          0 2489768049 ...    -1.0    -1.0    -1.0    -1.0\n",
       "    QSO     LYA          1 2489768049 ...    -1.0    -1.0    -1.0    -1.0\n",
       "    QSO     LYA          2 2489768049 ...    -1.0    -1.0    -1.0    -1.0\n",
       "    QSO     LYA          3 2489768049 ...    -1.0    -1.0    -1.0    -1.0\n",
       "    QSO     LYA          4 2065586814 ...    -1.0    -1.0    -1.0    -1.0"
      ]
     },
     "execution_count": 5,
     "metadata": {},
     "output_type": "execute_result"
    }
   ],
   "source": [
    "meta2"
   ]
  },
  {
   "cell_type": "code",
   "execution_count": 6,
   "metadata": {},
   "outputs": [
    {
     "data": {
      "text/html": [
       "&lt;Table length=5&gt;\n",
       "<table id=\"table4435160592\" class=\"table-striped table-bordered table-condensed\">\n",
       "<thead><tr><th>TEMPLATEID</th><th>APPMAG</th><th>ABSMAG</th><th>SLOPES [5]</th><th>EMLINES [62,3]</th></tr></thead>\n",
       "<thead><tr><th>int64</th><th>float32</th><th>float32</th><th>float32</th><th>float32</th></tr></thead>\n",
       "<tr><td>0</td><td>21.0729</td><td>-23.9567</td><td>-2.0321 .. -1.24335</td><td>1034.51 .. 299.575</td></tr>\n",
       "<tr><td>1</td><td>20.2226</td><td>-25.0347</td><td>-1.40131 .. -0.926745</td><td>1034.26 .. 324.277</td></tr>\n",
       "<tr><td>2</td><td>21.3604</td><td>-23.157</td><td>-1.10377 .. -0.869287</td><td>1034.05 .. 283.654</td></tr>\n",
       "<tr><td>3</td><td>21.5772</td><td>-23.6956</td><td>-1.2122 .. -1.18499</td><td>1035.15 .. 303.622</td></tr>\n",
       "<tr><td>4</td><td>20.6498</td><td>-23.7076</td><td>-1.95988 .. -1.7997</td><td>1034.7 .. 308.063</td></tr>\n",
       "</table>"
      ],
      "text/plain": [
       "<Table length=5>\n",
       "TEMPLATEID  APPMAG  ABSMAG        SLOPES [5]        EMLINES [62,3]  \n",
       "  int64    float32 float32         float32             float32      \n",
       "---------- ------- -------- --------------------- ------------------\n",
       "         0 21.0729 -23.9567   -2.0321 .. -1.24335 1034.51 .. 299.575\n",
       "         1 20.2226 -25.0347 -1.40131 .. -0.926745 1034.26 .. 324.277\n",
       "         2 21.3604  -23.157 -1.10377 .. -0.869287 1034.05 .. 283.654\n",
       "         3 21.5772 -23.6956   -1.2122 .. -1.18499 1035.15 .. 303.622\n",
       "         4 20.6498 -23.7076   -1.95988 .. -1.7997  1034.7 .. 308.063"
      ]
     },
     "execution_count": 6,
     "metadata": {},
     "output_type": "execute_result"
    }
   ],
   "source": [
    "qmeta1"
   ]
  },
  {
   "cell_type": "code",
   "execution_count": 7,
   "metadata": {},
   "outputs": [
    {
     "data": {
      "text/html": [
       "&lt;Table length=5&gt;\n",
       "<table id=\"table4436537920\" class=\"table-striped table-bordered table-condensed\">\n",
       "<thead><tr><th>TEMPLATEID</th><th>APPMAG</th><th>ABSMAG</th><th>SLOPES [5]</th><th>EMLINES [62,3]</th></tr></thead>\n",
       "<thead><tr><th>int64</th><th>float32</th><th>float32</th><th>float32</th><th>float32</th></tr></thead>\n",
       "<tr><td>0</td><td>21.0729</td><td>-24.0633</td><td>-1.52902 .. -0.94984</td><td>1034.53 .. 338.432</td></tr>\n",
       "<tr><td>1</td><td>20.2226</td><td>-24.9824</td><td>-1.71612 .. -0.805615</td><td>1033.4 .. 329.419</td></tr>\n",
       "<tr><td>2</td><td>21.3604</td><td>-23.3479</td><td>-1.53257 .. -1.03665</td><td>1033.69 .. 303.859</td></tr>\n",
       "<tr><td>3</td><td>21.5772</td><td>-23.6533</td><td>-1.43084 .. -0.912449</td><td>1033.77 .. 296.21</td></tr>\n",
       "<tr><td>4</td><td>20.6498</td><td>-23.7077</td><td>-1.95988 .. -1.7997</td><td>1034.7 .. 308.063</td></tr>\n",
       "</table>"
      ],
      "text/plain": [
       "<Table length=5>\n",
       "TEMPLATEID  APPMAG  ABSMAG        SLOPES [5]        EMLINES [62,3]  \n",
       "  int64    float32 float32         float32             float32      \n",
       "---------- ------- -------- --------------------- ------------------\n",
       "         0 21.0729 -24.0633  -1.52902 .. -0.94984 1034.53 .. 338.432\n",
       "         1 20.2226 -24.9824 -1.71612 .. -0.805615  1033.4 .. 329.419\n",
       "         2 21.3604 -23.3479  -1.53257 .. -1.03665 1033.69 .. 303.859\n",
       "         3 21.5772 -23.6533 -1.43084 .. -0.912449  1033.77 .. 296.21\n",
       "         4 20.6498 -23.7077   -1.95988 .. -1.7997  1034.7 .. 308.063"
      ]
     },
     "execution_count": 7,
     "metadata": {},
     "output_type": "execute_result"
    }
   ],
   "source": [
    "qmeta2"
   ]
  },
  {
   "cell_type": "code",
   "execution_count": 8,
   "metadata": {},
   "outputs": [
    {
     "ename": "NameError",
     "evalue": "name 'stop' is not defined",
     "output_type": "error",
     "traceback": [
      "\u001b[0;31m---------------------------------------------------------------------------\u001b[0m",
      "\u001b[0;31mNameError\u001b[0m                                 Traceback (most recent call last)",
      "\u001b[0;32m<ipython-input-8-30d9529ff51c>\u001b[0m in \u001b[0;36m<module>\u001b[0;34m()\u001b[0m\n\u001b[0;32m----> 1\u001b[0;31m \u001b[0mstop\u001b[0m\u001b[0;34m\u001b[0m\u001b[0m\n\u001b[0m",
      "\u001b[0;31mNameError\u001b[0m: name 'stop' is not defined"
     ]
    }
   ],
   "source": [
    "stop"
   ]
  },
  {
   "cell_type": "code",
   "execution_count": null,
   "metadata": {
    "collapsed": true
   },
   "outputs": [],
   "source": [
    "from desisim.test.test_templates import TestTemplates"
   ]
  },
  {
   "cell_type": "code",
   "execution_count": null,
   "metadata": {
    "collapsed": true
   },
   "outputs": [],
   "source": [
    "tt = TestTemplates()\n",
    "tt.setUp()"
   ]
  },
  {
   "cell_type": "code",
   "execution_count": null,
   "metadata": {},
   "outputs": [],
   "source": [
    "tt.test_input_meta()"
   ]
  },
  {
   "cell_type": "code",
   "execution_count": null,
   "metadata": {
    "collapsed": true
   },
   "outputs": [],
   "source": [
    "stop"
   ]
  },
  {
   "cell_type": "code",
   "execution_count": null,
   "metadata": {
    "collapsed": true
   },
   "outputs": [],
   "source": [
    "import numpy as np\n",
    "import matplotlib.pyplot as plt\n",
    "%matplotlib inline\n",
    "\n",
    "from astropy import cosmology\n",
    "from simqso.sqgrids import *\n",
    "from simqso import sqbase\n",
    "from simqso.sqrun import buildSpectraBulk,buildQsoSpectrum,save_spectra,load_spectra\n",
    "from simqso.sqmodels import BOSS_DR9_PLEpivot,get_BossDr9_model_vars"
   ]
  },
  {
   "cell_type": "code",
   "execution_count": null,
   "metadata": {
    "collapsed": true
   },
   "outputs": [],
   "source": [
    "def doit(nqso=3, seed=1, input_qsos=None):\n",
    "\n",
    "    rand = np.random.RandomState(seed)\n",
    "    wave = sqbase.fixed_R_dispersion(500, 20e4, 1000)\n",
    "\n",
    "    cosmo = cosmology.core.FlatLambdaCDM(70.0, 0.3)\n",
    "    kcorr = sqbase.ContinuumKCorr('DECam-r', 1450, effWaveBand='SDSS-r')\n",
    "    \n",
    "    if input_qsos is None:\n",
    "        zin = rand.uniform(2, 4, nqso)\n",
    "        qsos = generateQlfPoints(BOSS_DR9_PLEpivot(cosmo=cosmo),\n",
    "                                 (17, 22), (2.0, 4.0),\n",
    "                                 kcorr=kcorr, zin=zin,\n",
    "                                 qlfseed=seed, gridseed=seed)\n",
    "    else:\n",
    "        M = AbsMagVar(FixedSampler(input_qsos.absMag), kcorr.restBand)\n",
    "        m = AppMagVar(FixedSampler(input_qsos.appMag), kcorr.obsBand)\n",
    "        z = RedshiftVar(FixedSampler(input_qsos.z))\n",
    "        qsos = QsoSimPoints([M, m, z], cosmo=cosmo, units='flux', seed=seed)\n",
    "\n",
    "    sedVars = get_BossDr9_model_vars(qsos, wave, noforest=False)\n",
    "    qsos.addVars(sedVars)\n",
    "    qsos.loadPhotoMap([('DECam', 'DECaLS'), ('WISE', 'AllWISE')])\n",
    "\n",
    "    _, spectra = buildSpectraBulk(wave, qsos, saveSpectra=True, maxIter=5, verbose=10)\n",
    "\n",
    "    return spectra, wave, qsos"
   ]
  },
  {
   "cell_type": "code",
   "execution_count": null,
   "metadata": {},
   "outputs": [],
   "source": [
    "spec1, wave, qsos = doit(seed=555)\n",
    "spec2, _, qsos2 = doit(seed=555, input_qsos=qsos)\n",
    "np.all(spec1 == spec2)"
   ]
  },
  {
   "cell_type": "code",
   "execution_count": null,
   "metadata": {},
   "outputs": [],
   "source": [
    "qsos.data"
   ]
  },
  {
   "cell_type": "code",
   "execution_count": null,
   "metadata": {},
   "outputs": [],
   "source": [
    "qsos2.data"
   ]
  },
  {
   "cell_type": "code",
   "execution_count": null,
   "metadata": {},
   "outputs": [],
   "source": [
    "plt.plot(wave, spec1[0, :])\n",
    "plt.plot(wave, spec2[0, :], alpha=0.5)\n",
    "plt.xlim(3000, 8000)"
   ]
  },
  {
   "cell_type": "code",
   "execution_count": null,
   "metadata": {},
   "outputs": [],
   "source": [
    "plt.plot(wave, spec1[0, :] / spec2[0, :])\n",
    "plt.xlim(3000, 8000)"
   ]
  },
  {
   "cell_type": "code",
   "execution_count": null,
   "metadata": {
    "collapsed": true
   },
   "outputs": [],
   "source": [
    "stop"
   ]
  },
  {
   "cell_type": "code",
   "execution_count": null,
   "metadata": {},
   "outputs": [],
   "source": [
    "spec1, wave, qsos = doit(seed=1)\n",
    "spec2, _, _ = doit(seed=1)\n",
    "spec3, _, _ = doit(seed=2)\n",
    "spec4, _, _ = doit(seed=1)"
   ]
  },
  {
   "cell_type": "code",
   "execution_count": null,
   "metadata": {
    "collapsed": true
   },
   "outputs": [],
   "source": [
    "assert(np.all(spec1 == spec2))"
   ]
  },
  {
   "cell_type": "code",
   "execution_count": null,
   "metadata": {},
   "outputs": [],
   "source": [
    "assert(np.all(spec3 != spec2))"
   ]
  },
  {
   "cell_type": "code",
   "execution_count": null,
   "metadata": {
    "collapsed": true
   },
   "outputs": [],
   "source": [
    "assert(np.all(spec4 == spec1))"
   ]
  },
  {
   "cell_type": "code",
   "execution_count": null,
   "metadata": {
    "collapsed": true
   },
   "outputs": [],
   "source": []
  }
 ],
 "metadata": {
  "anaconda-cloud": {},
  "kernelspec": {
   "display_name": "Python 3",
   "language": "python",
   "name": "python3"
  },
  "language_info": {
   "codemirror_mode": {
    "name": "ipython",
    "version": 3
   },
   "file_extension": ".py",
   "mimetype": "text/x-python",
   "name": "python",
   "nbconvert_exporter": "python",
   "pygments_lexer": "ipython3",
   "version": "3.5.3"
  }
 },
 "nbformat": 4,
 "nbformat_minor": 2
}
