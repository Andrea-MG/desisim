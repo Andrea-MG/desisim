{
 "cells": [
  {
   "cell_type": "markdown",
   "metadata": {},
   "source": [
    "# Simulate QSO spectra.\n",
    "\n",
    "The purpose of this notebook is to demonstrate how to simulate QSO spectra using [simqso](https://github.com/moustakas/simqso).  We also compare the results with the default (PCA-based) QSO template-generating code."
   ]
  },
  {
   "cell_type": "code",
   "execution_count": 1,
   "metadata": {
    "collapsed": true
   },
   "outputs": [],
   "source": [
    "import numpy as np\n",
    "import matplotlib.pyplot as plt\n",
    "from matplotlib.patches import Polygon"
   ]
  },
  {
   "cell_type": "code",
   "execution_count": 2,
   "metadata": {
    "collapsed": true
   },
   "outputs": [],
   "source": [
    "from desisim.templates import SIMQSO, QSO"
   ]
  },
  {
   "cell_type": "code",
   "execution_count": 3,
   "metadata": {
    "collapsed": true
   },
   "outputs": [],
   "source": [
    "import multiprocessing\n",
    "nproc = multiprocessing.cpu_count() // 2"
   ]
  },
  {
   "cell_type": "code",
   "execution_count": 4,
   "metadata": {
    "collapsed": true
   },
   "outputs": [],
   "source": [
    "plt.style.use('seaborn-talk')\n",
    "%matplotlib inline"
   ]
  },
  {
   "cell_type": "markdown",
   "metadata": {},
   "source": [
    "#### Specify the random seed so the results are reproducible."
   ]
  },
  {
   "cell_type": "code",
   "execution_count": 5,
   "metadata": {
    "collapsed": true
   },
   "outputs": [],
   "source": [
    "seed = 555\n",
    "rand = np.random.RandomState(seed)"
   ]
  },
  {
   "cell_type": "markdown",
   "metadata": {},
   "source": [
    "### Generate a handful of spectra using the default inputs and display them."
   ]
  },
  {
   "cell_type": "code",
   "execution_count": 6,
   "metadata": {
    "collapsed": true
   },
   "outputs": [],
   "source": [
    "nmodel = 10"
   ]
  },
  {
   "cell_type": "code",
   "execution_count": 7,
   "metadata": {
    "collapsed": true
   },
   "outputs": [],
   "source": [
    "simqso = SIMQSO()"
   ]
  },
  {
   "cell_type": "code",
   "execution_count": 14,
   "metadata": {},
   "outputs": [
    {
     "name": "stdout",
     "output_type": "stream",
     "text": [
      "0\n"
     ]
    },
    {
     "ename": "ValueError",
     "evalue": "Must have constant dloglam",
     "output_type": "error",
     "traceback": [
      "\u001b[0;31m---------------------------------------------------------------------------\u001b[0m",
      "\u001b[0;31mValueError\u001b[0m                                Traceback (most recent call last)",
      "\u001b[0;32m<timed exec>\u001b[0m in \u001b[0;36m<module>\u001b[0;34m()\u001b[0m\n",
      "\u001b[0;32m~/repos/desihub/desisim/py/desisim/templates.py\u001b[0m in \u001b[0;36mmake_templates\u001b[0;34m(self, nmodel, zrange, rmagrange, seed, redshift, input_meta, maxiter, lyaforest, nocolorcuts, return_qsometa, verbose)\u001b[0m\n\u001b[1;32m   2254\u001b[0m                                               \u001b[0mforestModels\u001b[0m\u001b[0;34m[\u001b[0m\u001b[0;34m'Worseck&Prochaska2011'\u001b[0m\u001b[0;34m]\u001b[0m\u001b[0;34m,\u001b[0m\u001b[0;34m\u001b[0m\u001b[0m\n\u001b[1;32m   2255\u001b[0m                                               len(qsos.z), zmax=qsos.z.max(), voigtcache=False)\n\u001b[0;32m-> 2256\u001b[0;31m                 \u001b[0mhiVar\u001b[0m \u001b[0;34m=\u001b[0m \u001b[0mHIAbsorptionVar\u001b[0m\u001b[0;34m(\u001b[0m\u001b[0migmGrid\u001b[0m\u001b[0;34m,\u001b[0m \u001b[0msubsample\u001b[0m\u001b[0;34m=\u001b[0m\u001b[0;32mFalse\u001b[0m\u001b[0;34m)\u001b[0m\u001b[0;34m\u001b[0m\u001b[0m\n\u001b[0m\u001b[1;32m   2257\u001b[0m                 \u001b[0mqsos\u001b[0m\u001b[0;34m.\u001b[0m\u001b[0maddVar\u001b[0m\u001b[0;34m(\u001b[0m\u001b[0mhiVar\u001b[0m\u001b[0;34m)\u001b[0m\u001b[0;34m\u001b[0m\u001b[0m\n\u001b[1;32m   2258\u001b[0m \u001b[0;34m\u001b[0m\u001b[0m\n",
      "\u001b[0;32m~/repos/simqso/simqso/hiforest.py\u001b[0m in \u001b[0;36m__init__\u001b[0;34m(self, wave, forestModel, numSightLines, **kwargs)\u001b[0m\n\u001b[1;32m    345\u001b[0m         \u001b[0mdloglam\u001b[0m \u001b[0;34m=\u001b[0m \u001b[0mnp\u001b[0m\u001b[0;34m.\u001b[0m\u001b[0mdiff\u001b[0m\u001b[0;34m(\u001b[0m\u001b[0mlogwave\u001b[0m\u001b[0;34m)\u001b[0m\u001b[0;34m\u001b[0m\u001b[0m\n\u001b[1;32m    346\u001b[0m         \u001b[0;32mif\u001b[0m \u001b[0;32mnot\u001b[0m \u001b[0mnp\u001b[0m\u001b[0;34m.\u001b[0m\u001b[0mallclose\u001b[0m\u001b[0;34m(\u001b[0m\u001b[0mdloglam\u001b[0m\u001b[0;34m,\u001b[0m\u001b[0mdloglam\u001b[0m\u001b[0;34m[\u001b[0m\u001b[0;36m0\u001b[0m\u001b[0;34m]\u001b[0m\u001b[0;34m)\u001b[0m\u001b[0;34m:\u001b[0m\u001b[0;34m\u001b[0m\u001b[0m\n\u001b[0;32m--> 347\u001b[0;31m             \u001b[0;32mraise\u001b[0m \u001b[0mValueError\u001b[0m\u001b[0;34m(\u001b[0m\u001b[0;34m\"Must have constant dloglam\"\u001b[0m\u001b[0;34m)\u001b[0m\u001b[0;34m\u001b[0m\u001b[0m\n\u001b[0m\u001b[1;32m    348\u001b[0m         \u001b[0mspecR\u001b[0m \u001b[0;34m=\u001b[0m \u001b[0mdloglam\u001b[0m\u001b[0;34m[\u001b[0m\u001b[0;36m0\u001b[0m\u001b[0;34m]\u001b[0m\u001b[0;34m**\u001b[0m\u001b[0;34m-\u001b[0m\u001b[0;36m1\u001b[0m\u001b[0;34m\u001b[0m\u001b[0m\n\u001b[1;32m    349\u001b[0m         \u001b[0mself\u001b[0m\u001b[0;34m.\u001b[0m\u001b[0mnRebin\u001b[0m \u001b[0;34m=\u001b[0m \u001b[0mnp\u001b[0m\u001b[0;34m.\u001b[0m\u001b[0mint\u001b[0m\u001b[0;34m(\u001b[0m\u001b[0mnp\u001b[0m\u001b[0;34m.\u001b[0m\u001b[0mceil\u001b[0m\u001b[0;34m(\u001b[0m\u001b[0mforestRmin\u001b[0m\u001b[0;34m/\u001b[0m\u001b[0mspecR\u001b[0m\u001b[0;34m)\u001b[0m\u001b[0;34m)\u001b[0m\u001b[0;34m\u001b[0m\u001b[0m\n",
      "\u001b[0;31mValueError\u001b[0m: Must have constant dloglam"
     ]
    }
   ],
   "source": [
    "%time flux, wave, meta = simqso.make_templates(nmodel, seed=seed, nocolorcuts=True)"
   ]
  },
  {
   "cell_type": "code",
   "execution_count": 12,
   "metadata": {},
   "outputs": [],
   "source": [
    "def qaplot_handful():\n",
    "    from matplotlib.ticker import FormatStrFormatter\n",
    "    fig, ax1 = plt.subplots()\n",
    "    for ii in range(nmodel):\n",
    "        ax1.plot(wave, flux[ii, :])\n",
    "    ax1.set_yscale('log')\n",
    "    #ax1.yaxis.set_major_formatter(FormatStrFormatter('%.0f'))\n",
    "    ax1.set_xlabel('Observed-Frame Wavelength ($\\AA$)')\n",
    "    ax1.set_ylabel(r'Flux ($10^{-17} erg\\ s^{-1}\\ cm^{-2}\\ \\AA^{-1}$)')"
   ]
  },
  {
   "cell_type": "code",
   "execution_count": 13,
   "metadata": {},
   "outputs": [
    {
     "data": {
      "image/png": "[encoded data removed]",
      "text/plain": [
       "<matplotlib.figure.Figure at 0x10d72c6d8>"
      ]
     },
     "metadata": {},
     "output_type": "display_data"
    }
   ],
   "source": [
    "qaplot_handful()"
   ]
  },
  {
   "cell_type": "code",
   "execution_count": 11,
   "metadata": {},
   "outputs": [
    {
     "ename": "NameError",
     "evalue": "name 'stop' is not defined",
     "output_type": "error",
     "traceback": [
      "\u001b[0;31m---------------------------------------------------------------------------\u001b[0m",
      "\u001b[0;31mNameError\u001b[0m                                 Traceback (most recent call last)",
      "\u001b[0;32m<ipython-input-11-30d9529ff51c>\u001b[0m in \u001b[0;36m<module>\u001b[0;34m()\u001b[0m\n\u001b[0;32m----> 1\u001b[0;31m \u001b[0mstop\u001b[0m\u001b[0;34m\u001b[0m\u001b[0m\n\u001b[0m",
      "\u001b[0;31mNameError\u001b[0m: name 'stop' is not defined"
     ]
    }
   ],
   "source": [
    "stop"
   ]
  },
  {
   "cell_type": "markdown",
   "metadata": {},
   "source": [
    "### Now make more spectra with the redshift priors specified."
   ]
  },
  {
   "cell_type": "code",
   "execution_count": null,
   "metadata": {
    "collapsed": true
   },
   "outputs": [],
   "source": [
    "nmodel = 500\n",
    "redshift = rand.uniform(2, 4, nmodel)"
   ]
  },
  {
   "cell_type": "code",
   "execution_count": null,
   "metadata": {},
   "outputs": [],
   "source": [
    "%time flux, wave, meta, qsometa = simqso.make_templates(nmodel, seed=seed, redshift=redshift, return_qsometa=True)"
   ]
  },
  {
   "cell_type": "code",
   "execution_count": null,
   "metadata": {},
   "outputs": [],
   "source": [
    "def qaplot_props():\n",
    "    bins = nmodel//15\n",
    "    fig, (ax1, ax2, ax3) = plt.subplots(1, 3, figsize=(12, 4), sharey=True)\n",
    "    _ = ax1.hist(meta['REDSHIFT'], bins=bins)\n",
    "    ax1.set_xlabel('Redshift')\n",
    "    ax1.set_ylabel('Number of Galaxies')\n",
    "    \n",
    "    _ = ax2.hist(meta['MAG'], bins=bins)\n",
    "    ax2.set_xlabel(r'$r_{\\rm DECaLS}$')\n",
    "    \n",
    "    _ = ax3.hist(qsometa['ABSMAG'], bins=bins)\n",
    "    ax3.set_xlabel(r'$M_{1450}$')\n",
    "    ax3.set_xlim(ax.get_xlim()[::-1])\n",
    "    plt.subplots_adjust(wspace=0.1)"
   ]
  },
  {
   "cell_type": "code",
   "execution_count": null,
   "metadata": {},
   "outputs": [],
   "source": [
    "qaplot_props()"
   ]
  },
  {
   "cell_type": "code",
   "execution_count": null,
   "metadata": {
    "collapsed": true
   },
   "outputs": [],
   "source": [
    "def qaplot_vsz():\n",
    "    from matplotlib.ticker import MaxNLocator\n",
    "    \n",
    "    fig, (ax1, ax2) = plt.subplots(1, 2, figsize=(10, 4))\n",
    "    ax1.scatter(meta['REDSHIFT'], meta['MAG'], edgecolor='k', alpha=0.9, s=50)\n",
    "    ax1.set_xlabel('Redshift')\n",
    "    ax1.set_ylabel(r'$r_{\\rm DECaLS}$')\n",
    "    ax1.yaxis.set_major_locator(MaxNLocator(integer=True))\n",
    "    \n",
    "    ax2.scatter(meta['REDSHIFT'], qsometa['ABSMAG'], edgecolor='k', alpha=0.9, s=50)\n",
    "    ax2.set_ylabel(r'$M_{1450}$')\n",
    "    ax2.set_xlabel('Redshift')\n",
    "    ax2.set_ylim(ax2.get_ylim()[::-1])\n",
    "\n",
    "    plt.subplots_adjust(wspace=0.3)"
   ]
  },
  {
   "cell_type": "code",
   "execution_count": null,
   "metadata": {},
   "outputs": [],
   "source": [
    "qaplot_vsz()"
   ]
  },
  {
   "cell_type": "code",
   "execution_count": null,
   "metadata": {
    "collapsed": true
   },
   "outputs": [],
   "source": [
    "def flux2colors(cat):\n",
    "    \"\"\"Convert DECam/WISE fluxes to magnitudes and colors.\"\"\"\n",
    "    colors = dict()\n",
    "    #with warnings.catch_warnings(): # ignore missing fluxes (e.g., for QSOs)\n",
    "    #    warnings.simplefilter('ignore')\n",
    "    colors['g'] = 22.5 - 2.5 * np.log10(cat['FLUX_G'])\n",
    "    colors['r'] = 22.5 - 2.5 * np.log10(cat['FLUX_R'])\n",
    "    colors['z'] = 22.5 - 2.5 * np.log10(cat['FLUX_Z'])\n",
    "    colors['gr'] = colors['g'] - colors['r']\n",
    "    colors['gz'] = colors['g'] - colors['z']\n",
    "    colors['rz'] = colors['r'] - colors['z']\n",
    "    colors['grz'] = 22.5-2.5*np.log10(cat['FLUX_G'] + 0.8 * cat['FLUX_R'] +  0.5 * cat['FLUX_G'] / 2.3)\n",
    "\n",
    "    with np.errstate(invalid='ignore'):\n",
    "        colors['W1'] = 22.5 - 2.5 * np.log10(cat['FLUX_W1'])\n",
    "        colors['W2'] = 22.5 - 2.5 * np.log10(cat['FLUX_W2'])\n",
    "        colors['W'] = 22.5 - 2.5 * np.log10(0.75 * cat['FLUX_W1'] + 0.25 * cat['FLUX_W2'])\n",
    "        colors['rW'] = colors['r'] - colors['W']\n",
    "        colors['W1W2'] = colors['W1'] - colors['W2']\n",
    "        colors['grzW'] = colors['grz'] - colors['W']\n",
    "\n",
    "    return colors"
   ]
  },
  {
   "cell_type": "code",
   "execution_count": null,
   "metadata": {
    "collapsed": true
   },
   "outputs": [],
   "source": [
    "def qso_colorbox(ax, plottype='gr-rz', verts=None):\n",
    "    \"\"\"Draw the QSO selection boxes.\"\"\"\n",
    "\n",
    "    xlim = ax.get_xlim()\n",
    "    ylim = ax.get_ylim()\n",
    "\n",
    "    if plottype == 'gr-rz':\n",
    "        verts = [(-0.3, 1.3),\n",
    "                 (1.1, 1.3),\n",
    "                 (1.1, ylim[0]-0.05),\n",
    "                 (-0.3, ylim[0]-0.05)\n",
    "                ]\n",
    "    \n",
    "    if plottype == 'r-W1W2':\n",
    "        verts = None\n",
    "        ax.axvline(x=22.7, ls='--', lw=2, color='k')\n",
    "        ax.axhline(y=-0.4, ls='--', lw=2, color='k')\n",
    "    \n",
    "    if plottype == 'gz-grzW':\n",
    "        gzaxis = np.linspace(-0.5, 2.0, 50)\n",
    "        ax.plot(gzaxis, np.polyval([1.0, -1.0], gzaxis), \n",
    "                 ls='--', lw=2, color='k')\n",
    "\n",
    "    if verts:\n",
    "        ax.add_patch(Polygon(verts, fill=False, ls='--', lw=2, color='k'))"
   ]
  },
  {
   "cell_type": "code",
   "execution_count": null,
   "metadata": {
    "collapsed": true
   },
   "outputs": [],
   "source": [
    "def qaplot_colorcolor():\n",
    "    fig, (ax1, ax2, ax3) = plt.subplots(1, 3, figsize=(14, 4))\n",
    "    ax1.scatter(colors['rz'], colors['gr'], edgecolor='k', alpha=0.9, s=20)\n",
    "    ax1.set_xlabel('$r - z$')\n",
    "    ax1.set_ylabel('$g - r$')\n",
    "    ax1.set_xlim(-0.5, 1.5)\n",
    "    ax1.set_ylim(-1.0, 1.5)\n",
    "    qso_colorbox(ax1, 'gr-rz')\n",
    "    \n",
    "    ax2.scatter(colors['r'], colors['W1W2'], edgecolor='k', alpha=0.9, s=20)\n",
    "    ax2.set_xlabel('$r$')\n",
    "    ax2.set_ylabel('$W_{1} - W_{2}$')\n",
    "    ax2.set_xlim(18, 23.5)\n",
    "    ax2.set_ylim(-0.5, 1)\n",
    "    qso_colorbox(ax2, 'r-W1W2')\n",
    "    \n",
    "    ax3.scatter(colors['gz'], colors['grzW'], edgecolor='k', alpha=0.9, s=20)\n",
    "    ax3.set_xlabel('$g - z$')\n",
    "    ax3.set_ylabel('$grz - W$')\n",
    "    ax3.set_xlim(-1, 1.5)\n",
    "    ax3.set_ylim(-1, 1.5)\n",
    "    qso_colorbox(ax3, 'gz-grzW')\n",
    "\n",
    "\n",
    "    plt.subplots_adjust(wspace=0.35)"
   ]
  },
  {
   "cell_type": "code",
   "execution_count": null,
   "metadata": {
    "collapsed": true
   },
   "outputs": [],
   "source": [
    "colors = flux2colors(meta)"
   ]
  },
  {
   "cell_type": "code",
   "execution_count": null,
   "metadata": {},
   "outputs": [],
   "source": [
    "qaplot_colorcolor()"
   ]
  },
  {
   "cell_type": "code",
   "execution_count": null,
   "metadata": {},
   "outputs": [],
   "source": [
    "stop"
   ]
  },
  {
   "cell_type": "code",
   "execution_count": null,
   "metadata": {
    "collapsed": true
   },
   "outputs": [],
   "source": [
    "minwave, maxwave = 1000, 10e4"
   ]
  },
  {
   "cell_type": "code",
   "execution_count": null,
   "metadata": {
    "collapsed": true
   },
   "outputs": [],
   "source": [
    "nmodel = 20\n",
    "redshift = rand.uniform(2, 4, nmodel)"
   ]
  },
  {
   "cell_type": "markdown",
   "metadata": {},
   "source": [
    "#### Generate spectra using both SIMQSO() and QSO()."
   ]
  },
  {
   "cell_type": "code",
   "execution_count": null,
   "metadata": {},
   "outputs": [],
   "source": [
    "simqso = SIMQSO(minwave=minwave, maxwave=maxwave, cdelt=2.0)"
   ]
  },
  {
   "cell_type": "code",
   "execution_count": null,
   "metadata": {},
   "outputs": [],
   "source": [
    "%time flux, wave, meta = simqso.make_templates(nmodel, seed=seed, redshift=redshift, nocolorcuts=True)"
   ]
  },
  {
   "cell_type": "code",
   "execution_count": null,
   "metadata": {},
   "outputs": [],
   "source": [
    "meta"
   ]
  },
  {
   "cell_type": "code",
   "execution_count": null,
   "metadata": {},
   "outputs": [],
   "source": [
    "stop"
   ]
  },
  {
   "cell_type": "code",
   "execution_count": null,
   "metadata": {},
   "outputs": [],
   "source": [
    "not True"
   ]
  },
  {
   "cell_type": "code",
   "execution_count": null,
   "metadata": {
    "collapsed": true
   },
   "outputs": [],
   "source": [
    "def plot_subset(nplot=12, ncol=4, xlim=None):\n",
    "    \"\"\"Plot a random sampling of the resulting templates.\"\"\"\n",
    "    \n",
    "    if xlim is None:\n",
    "        xlim = (minwave, maxwave)\n",
    "    \n",
    "    nspec, npix = flux.shape\n",
    "    nrow = np.ceil(nplot / ncol).astype('int')\n",
    "    these = rand.choice(nspec, nplot, replace=False)\n",
    "    these = np.sort(these)\n",
    "\n",
    "    fig, ax = plt.subplots(nrow, ncol, figsize=(3*ncol, 2.5*nrow), sharey=False, sharex=True)\n",
    "    for ii, (thisax, indx) in enumerate(zip(ax.flat, these)):\n",
    "        thisax.plot(wave, flux[indx, :])\n",
    "        thisax.xaxis.set_major_locator(plt.MaxNLocator(3))\n",
    "        \n",
    "        thisax.set_xlim(xlim)\n",
    "        ww = (wave > xlim[0]) * (wave < xlim[1])\n",
    "        ylim = (flux[indx, ww].min(), flux[indx, ww].max())\n",
    "        thisax.set_ylim(ylim)\n",
    "        thisax.set_yscale('log')\n",
    "        thisax.set_xscale('log')\n",
    "        \n",
    "        thisax.yaxis.set_ticklabels([])\n",
    "        #if xlim[1] > 1e4:\n",
    "        #    thisax.set_xscale('log')\n",
    "        #    thisax.set_yscale('log')\n",
    "        #if ii == 0:\n",
    "        #    thisax.legend(loc='upper left')\n",
    "    fig.subplots_adjust(wspace=0.05, hspace=0.05)"
   ]
  },
  {
   "cell_type": "code",
   "execution_count": null,
   "metadata": {},
   "outputs": [],
   "source": [
    "plot_subset()"
   ]
  },
  {
   "cell_type": "code",
   "execution_count": null,
   "metadata": {},
   "outputs": [],
   "source": [
    "stop"
   ]
  },
  {
   "cell_type": "code",
   "execution_count": null,
   "metadata": {
    "collapsed": true
   },
   "outputs": [],
   "source": [
    "qso = QSO(minwave=minwave, maxwave=maxwave, cdelt=2.0)"
   ]
  },
  {
   "cell_type": "code",
   "execution_count": null,
   "metadata": {},
   "outputs": [],
   "source": [
    "%time qflux, _, qmeta = qso.make_templates(nmodel, seed=seed, redshift=meta['REDSHIFT'], mag=meta['MAG'], nocolorcuts=True)"
   ]
  },
  {
   "cell_type": "code",
   "execution_count": null,
   "metadata": {
    "collapsed": true
   },
   "outputs": [],
   "source": [
    "def compare_templates(nplot=12, ncol=4, xlim=None):\n",
    "    \"\"\"Plot a random sampling of the basis templates.\"\"\"\n",
    "    \n",
    "    if xlim is None:\n",
    "        xlim = (2500, 6000)\n",
    "    \n",
    "    nspec, npix = flux.shape\n",
    "    nrow = np.ceil(nplot / ncol).astype('int')\n",
    "    these = rand.choice(nspec, nplot, replace=False)\n",
    "    these = np.sort(these)\n",
    "\n",
    "    fig, ax = plt.subplots(nrow, ncol, figsize=(3*ncol, 2.5*nrow), sharey=False, sharex=True)\n",
    "    for ii, (thisax, indx) in enumerate(zip(ax.flat, these)):\n",
    "        thisax.plot(wave, flux[indx, :], label='SIMQSO')\n",
    "        thisax.plot(wave, qflux[indx, :], alpha=0.7, label='QSO')\n",
    "        thisax.xaxis.set_major_locator(plt.MaxNLocator(3))\n",
    "        thisax.set_xlim(xlim)\n",
    "        ww = (wave > xlim[0]) * (wave < xlim[1])\n",
    "        ylim = (flux[indx, ww].min(), flux[indx, ww].max())\n",
    "        thisax.set_ylim(ylim)\n",
    "        thisax.yaxis.set_ticklabels([])\n",
    "        if xlim[1] > 1e4:\n",
    "            thisax.set_xscale('log')\n",
    "            thisax.set_yscale('log')\n",
    "        if ii == 0:\n",
    "            thisax.legend(loc='upper left')\n",
    "    fig.subplots_adjust(wspace=0.05, hspace=0.05)"
   ]
  },
  {
   "cell_type": "code",
   "execution_count": null,
   "metadata": {},
   "outputs": [],
   "source": [
    "compare_templates()"
   ]
  },
  {
   "cell_type": "code",
   "execution_count": null,
   "metadata": {
    "collapsed": true
   },
   "outputs": [],
   "source": [
    "compare_templates(xlim=(6000, maxwave))"
   ]
  },
  {
   "cell_type": "markdown",
   "metadata": {},
   "source": [
    "### Compare the two template sets in color-color and color-redshift space."
   ]
  },
  {
   "cell_type": "code",
   "execution_count": null,
   "metadata": {
    "collapsed": true
   },
   "outputs": [],
   "source": [
    "def flux2colors(cat):\n",
    "    \"\"\"Convert DECam/WISE fluxes to magnitudes and colors.\"\"\"\n",
    "    colors = dict()\n",
    "    #with warnings.catch_warnings(): # ignore missing fluxes (e.g., for QSOs)\n",
    "    #    warnings.simplefilter('ignore')\n",
    "    colors['g'] = 22.5 - 2.5 * np.log10(cat['FLUX_G'])\n",
    "    colors['r'] = 22.5 - 2.5 * np.log10(cat['FLUX_R'])\n",
    "    colors['z'] = 22.5 - 2.5 * np.log10(cat['FLUX_Z'])\n",
    "    colors['gr'] = colors['g'] - colors['r']\n",
    "    colors['gz'] = colors['g'] - colors['z']\n",
    "    colors['rz'] = colors['r'] - colors['z']\n",
    "    colors['grz'] = 22.5-2.5*np.log10(cat['FLUX_G'] + 0.8 * cat['FLUX_R'] +  0.5 * cat['FLUX_G'] / 2.3)\n",
    "\n",
    "    with np.errstate(invalid='ignore'):\n",
    "        colors['W'] = 22.5-2.5*np.log10(0.75 * cat['FLUX_W1'] + 0.25 * cat['FLUX_W2'])\n",
    "        colors['rW'] = colors['r'] - colors['W']\n",
    "    \n",
    "    return colors"
   ]
  },
  {
   "cell_type": "code",
   "execution_count": null,
   "metadata": {
    "collapsed": true
   },
   "outputs": [],
   "source": [
    "colors = flux2colors(meta)\n",
    "qcolors = flux2colors(qmeta)"
   ]
  },
  {
   "cell_type": "code",
   "execution_count": null,
   "metadata": {
    "collapsed": true
   },
   "outputs": [],
   "source": [
    "def qso_colorbox(ax, plottype='grz'):\n",
    "    \"\"\"Draw the QSO selection boxes.\"\"\"\n",
    "    rmaglim = 22.7\n",
    "    xlim = ax.get_xlim()\n",
    "    ylim = ax.get_ylim()\n",
    "    if plottype == 'grz-r':\n",
    "        verts = [(xlim[0]-0.05, 17.0),\n",
    "                 (22.7, 17.0),\n",
    "                 (22.7, ylim[1]+0.05),\n",
    "                 (xlim[0]-0.05, ylim[1]+0.05)\n",
    "                ]\n",
    "    if plottype == 'rW1-rz':\n",
    "        verts = None\n",
    "        ax.axvline(x=-0.3, ls='--', color='k')\n",
    "        ax.axvline(x=1.3, ls='--', color='k')\n",
    "\n",
    "    if plottype == 'gr-rz':\n",
    "        verts = [(-0.3, 1.3),\n",
    "                 (1.1, 1.3),\n",
    "                 (1.1, ylim[0]-0.05),\n",
    "                 (-0.3, ylim[0]-0.05)\n",
    "                ]\n",
    "    if verts:\n",
    "        ax.add_patch(Polygon(verts, fill=False, ls='--', color='k'))"
   ]
  },
  {
   "cell_type": "code",
   "execution_count": null,
   "metadata": {
    "collapsed": true
   },
   "outputs": [],
   "source": [
    "def qa_colorcolor():\n",
    "    fig, (ax1, ax2) = plt.subplots(1, 2, figsize=(12, 4))\n",
    "    ax1.scatter(colors['rz'], colors['gr'], s=14, label='SIMQSO')\n",
    "    ax1.scatter(qcolors['rz'], qcolors['gr'], s=14, label='QSO')\n",
    "    ax1.set_xlabel('$r - z$')\n",
    "    ax1.set_ylabel('$g - r$')\n",
    "    ax1.set_xlim(-1, 2.2)\n",
    "    ax1.set_ylim(-1, 2.0)\n",
    "    ax1.legend(loc='upper right')\n",
    "    qso_colorbox(ax1, 'gr-rz')\n",
    "    \n",
    "    ax2.scatter(colors['gz'], colors['rW'], s=14, label='SIMQSO')\n",
    "    ax2.set_xlabel('$g - z$')\n",
    "    ax2.set_ylabel('$r - W$')\n",
    "    ax2.set_xlim(-0.3, 2)\n",
    "    ax2.set_ylim(-1, 3)\n",
    "    ax2.legend(loc='upper right')\n",
    "    gzaxis = np.linspace(-0.5, 2.0, 50)\n",
    "    ax2.plot(gzaxis, np.polyval([1.0, -1.0], gzaxis))\n",
    "    #qso_colorbox(ax1, 'gr-rz')\n",
    "    plt.subplots_adjust(wspace=0.3)"
   ]
  },
  {
   "cell_type": "code",
   "execution_count": null,
   "metadata": {
    "collapsed": true
   },
   "outputs": [],
   "source": [
    "qa_colorcolor()"
   ]
  },
  {
   "cell_type": "code",
   "execution_count": null,
   "metadata": {
    "collapsed": true
   },
   "outputs": [],
   "source": [
    "from astropy.cosmology import Planck13\n",
    "from simqso.sqgrids import *\n",
    "from simqso import sqbase\n",
    "from simqso.sqrun import buildSpectraBulk,buildQsoSpectrum,save_spectra,load_spectra\n",
    "from simqso.sqmodels import BOSS_DR9_PLEpivot,get_BossDr9_model_vars\n",
    "wave = sqbase.fixed_R_dispersion(1000,20e4,1000)\n",
    "nqso = 10\n",
    "np.random.seed(12345)\n",
    "zin = 2.0 + np.random.rand(nqso)\n",
    "kcorr = sqbase.ContinuumKCorr('DECam-r',1450,effWaveBand='SDSS-r')\n",
    "qsos = generateQlfPoints(BOSS_DR9_PLEpivot(cosmo=Planck13),\n",
    "                         (17,22),(2.0,3.0),\n",
    "                         kcorr=kcorr,zin=zin,\n",
    "                         qlfseed=12345,gridseed=67890)\n",
    "sedVars = get_BossDr9_model_vars(qsos,wave,0,noforest=True)"
   ]
  },
  {
   "cell_type": "code",
   "execution_count": null,
   "metadata": {
    "collapsed": true
   },
   "outputs": [],
   "source": [
    "subDustVar = DustBlackbodyVar([ConstSampler(0.05),ConstSampler(1800.)],\n",
    "                               name='sublimdust')\n",
    "hotDustVar = DustBlackbodyVar([ConstSampler(0.1),ConstSampler(880.)],\n",
    "                               name='hotdust')"
   ]
  },
  {
   "cell_type": "code",
   "execution_count": null,
   "metadata": {},
   "outputs": [],
   "source": [
    "subDustVar.set_associated_var(sedVars[0])\n",
    "#hotDustVar.set_associated_var(contVar)"
   ]
  },
  {
   "cell_type": "code",
   "execution_count": null,
   "metadata": {},
   "outputs": [],
   "source": [
    "sedVars"
   ]
  },
  {
   "cell_type": "code",
   "execution_count": null,
   "metadata": {
    "collapsed": true
   },
   "outputs": [],
   "source": []
  },
  {
   "cell_type": "code",
   "execution_count": null,
   "metadata": {},
   "outputs": [],
   "source": [
    "from astropy.cosmology import Planck13\n",
    "from simqso.sqgrids import *\n",
    "from simqso import sqbase\n",
    "from simqso.sqrun import buildSpectraBulk,buildQsoSpectrum,save_spectra,load_spectra\n",
    "from simqso.sqmodels import BOSS_DR9_PLEpivot,get_BossDr9_model_vars\n",
    "wave = sqbase.fixed_R_dispersion(500,20e4,1000)\n",
    "nqso = 10\n",
    "np.random.seed(12345)\n",
    "zin = 2.0 + np.random.rand(nqso)\n",
    "kcorr = sqbase.ContinuumKCorr('DECam-r',1450,effWaveBand='SDSS-r')\n",
    "qsos = generateQlfPoints(BOSS_DR9_PLEpivot(cosmo=Planck13),\n",
    "                         (17,22),(2.0,3.0),\n",
    "                         kcorr=kcorr,zin=zin,\n",
    "                         qlfseed=1,gridseed=1)\n",
    "\n",
    "sedVars = get_BossDr9_model_vars(qsos,wave,noforest=False)\n",
    "subDustVar = DustBlackbodyVar([ConstSampler(0.05),ConstSampler(1800.)],\n",
    "                               name='sublimdust')\n",
    "hotDustVar = DustBlackbodyVar([ConstSampler(0.1),ConstSampler(880.)],\n",
    "                               name='hotdust')\n",
    "subDustVar.set_associated_var(sedVars[0])\n",
    "hotDustVar.set_associated_var(sedVars[0])\n",
    "    \n",
    "qsos.addVars(sedVars)\n",
    "\n",
    "qsos.loadPhotoMap([('DECam', 'DECaLS'), ('WISE', 'AllWISE')])\n",
    "_,spectra = buildSpectraBulk(wave,qsos,saveSpectra=True,maxIter=3)\n",
    "\n",
    "# do it again\n",
    "sedVars = get_BossDr9_model_vars(qsos,wave,noforest=False)\n",
    "subDustVar = DustBlackbodyVar([ConstSampler(0.05),ConstSampler(1800.)],\n",
    "                               name='sublimdust')\n",
    "hotDustVar = DustBlackbodyVar([ConstSampler(0.1),ConstSampler(880.)],\n",
    "                               name='hotdust')\n",
    "subDustVar.set_associated_var(sedVars[0])\n",
    "hotDustVar.set_associated_var(sedVars[0])\n",
    "    \n",
    "qsos.addVars(sedVars)\n",
    "\n",
    "qsos.loadPhotoMap([('DECam', 'DECaLS'), ('WISE', 'AllWISE')])\n",
    "_,spectra = buildSpectraBulk(wave,qsos,saveSpectra=True,maxIter=3)\n",
    "\n"
   ]
  },
  {
   "cell_type": "code",
   "execution_count": null,
   "metadata": {
    "collapsed": true
   },
   "outputs": [],
   "source": []
  },
  {
   "cell_type": "code",
   "execution_count": null,
   "metadata": {
    "collapsed": true
   },
   "outputs": [],
   "source": []
  }
 ],
 "metadata": {
  "anaconda-cloud": {},
  "kernelspec": {
   "display_name": "Python 3",
   "language": "python",
   "name": "python3"
  },
  "language_info": {
   "codemirror_mode": {
    "name": "ipython",
    "version": 3
   },
   "file_extension": ".py",
   "mimetype": "text/x-python",
   "name": "python",
   "nbconvert_exporter": "python",
   "pygments_lexer": "ipython3",
   "version": "3.5.3"
  }
 },
 "nbformat": 4,
 "nbformat_minor": 2
}
