{
 "cells": [
  {
   "cell_type": "markdown",
   "metadata": {},
   "source": [
    "# Simulate QSO spectra.\n",
    "\n",
    "The purpose of this notebook is to simulate a bunch of QSO spectra using [simqso](https://github.com/moustakas/simqso) and the default (PCA-based) QSO template-generating code."
   ]
  },
  {
   "cell_type": "code",
   "execution_count": 24,
   "metadata": {
    "collapsed": true
   },
   "outputs": [],
   "source": [
    "import numpy as np\n",
    "import matplotlib.pyplot as plt\n",
    "from matplotlib.patches import Polygon"
   ]
  },
  {
   "cell_type": "code",
   "execution_count": 25,
   "metadata": {},
   "outputs": [],
   "source": [
    "from desisim.templates import SIMQSO, QSO"
   ]
  },
  {
   "cell_type": "code",
   "execution_count": 26,
   "metadata": {
    "collapsed": true
   },
   "outputs": [],
   "source": [
    "import multiprocessing\n",
    "nproc = multiprocessing.cpu_count() // 2"
   ]
  },
  {
   "cell_type": "code",
   "execution_count": 27,
   "metadata": {},
   "outputs": [],
   "source": [
    "plt.style.use('seaborn-talk')\n",
    "%matplotlib inline"
   ]
  },
  {
   "cell_type": "markdown",
   "metadata": {},
   "source": [
    "### Specify the random seed and the magnitude and redshift priors."
   ]
  },
  {
   "cell_type": "code",
   "execution_count": 28,
   "metadata": {
    "collapsed": true
   },
   "outputs": [],
   "source": [
    "seed = 1\n",
    "rand = np.random.RandomState(seed)"
   ]
  },
  {
   "cell_type": "code",
   "execution_count": 29,
   "metadata": {},
   "outputs": [],
   "source": [
    "nmodel = 100\n",
    "mag = rand.uniform(18, 20, nmodel) # r-band\n",
    "redshift = rand.uniform(2, 4, nmodel)"
   ]
  },
  {
   "cell_type": "code",
   "execution_count": 30,
   "metadata": {
    "collapsed": true
   },
   "outputs": [],
   "source": [
    "minwave, maxwave = 2500, 10e4"
   ]
  },
  {
   "cell_type": "markdown",
   "metadata": {},
   "source": [
    "#### Generate spectra using both SIMQSO() and QSO()."
   ]
  },
  {
   "cell_type": "code",
   "execution_count": 31,
   "metadata": {},
   "outputs": [
    {
     "name": "stdout",
     "output_type": "stream",
     "text": [
      "ToDo: Update to LegacySurvey filters!! What is 1450?\n"
     ]
    }
   ],
   "source": [
    "simqso = SIMQSO(minwave=minwave, maxwave=maxwave, cdelt=2.0)"
   ]
  },
  {
   "cell_type": "code",
   "execution_count": 32,
   "metadata": {},
   "outputs": [
    {
     "name": "stdout",
     "output_type": "stream",
     "text": [
      "Need to be able to input apparent magnitudes and random seed.\n",
      "simulating  100  quasar spectra\n",
      "units are  flux\n",
      "buildSpectra iteration  1  out of  5\n",
      "--> delta mag mean = -0.2642560, rms = 0.1144007, |max| = 0.5911803\n",
      "buildSpectra iteration  2  out of  5\n",
      "--> delta mag mean = -0.0342631, rms = 0.0278673, |max| = 0.1093157\n",
      "buildSpectra iteration  3  out of  5\n",
      "--> delta mag mean = -0.0017136, rms = 0.0021222, |max| = 0.0089323\n",
      "CPU times: user 4.59 s, sys: 155 ms, total: 4.75 s\n",
      "Wall time: 4.84 s\n"
     ]
    }
   ],
   "source": [
    "%time flux, wave, meta = simqso.make_templates(nmodel, seed=seed, redshift=redshift, mag=mag, nocolorcuts=True)"
   ]
  },
  {
   "cell_type": "code",
   "execution_count": 33,
   "metadata": {},
   "outputs": [
    {
     "data": {
      "text/html": [
       "&lt;Table length=100&gt;\n",
       "<table id=\"table4859026736\" class=\"table-striped table-bordered table-condensed\">\n",
       "<thead><tr><th>OBJTYPE</th><th>SUBTYPE</th><th>TEMPLATEID</th><th>SEED</th><th>REDSHIFT</th><th>MAG</th><th>FLUX_G</th><th>FLUX_R</th><th>FLUX_Z</th><th>FLUX_W1</th><th>FLUX_W2</th><th>OIIFLUX</th><th>HBETAFLUX</th><th>EWOII</th><th>EWHBETA</th><th>D4000</th><th>VDISP</th><th>OIIDOUBLET</th><th>OIIIHBETA</th><th>OIIHBETA</th><th>NIIHBETA</th><th>SIIHBETA</th><th>ZMETAL</th><th>AGE</th><th>TEFF</th><th>LOGG</th><th>FEH</th></tr></thead>\n",
       "<thead><tr><th></th><th></th><th></th><th></th><th></th><th></th><th>nanomaggies</th><th>nanomaggies</th><th>nanomaggies</th><th>nanomaggies</th><th>nanomaggies</th><th>erg / (cm2 s)</th><th>erg / (cm2 s)</th><th>Angstrom</th><th>Angstrom</th><th></th><th>km / s</th><th></th><th>dex</th><th>dex</th><th>dex</th><th>dex</th><th></th><th>Gyr</th><th>K</th><th>m / s2</th><th></th></tr></thead>\n",
       "<thead><tr><th>str10</th><th>str10</th><th>int64</th><th>int64</th><th>float64</th><th>float64</th><th>float32</th><th>float32</th><th>float32</th><th>float32</th><th>float32</th><th>float32</th><th>float32</th><th>float32</th><th>float32</th><th>float32</th><th>float32</th><th>float32</th><th>float32</th><th>float32</th><th>float32</th><th>float32</th><th>float32</th><th>float32</th><th>float32</th><th>float32</th><th>float32</th></tr></thead>\n",
       "<tr><td>QSO</td><td>LYA</td><td>0</td><td>1791095845</td><td>2.65328980354</td><td>18.8340440094</td><td>29.2232</td><td>29.2673</td><td>29.2709</td><td>25.0161</td><td>39.5804</td><td>-1.0</td><td>-1.0</td><td>-1.0</td><td>-1.0</td><td>-1.0</td><td>-1.0</td><td>-1.0</td><td>-1.0</td><td>-1.0</td><td>-1.0</td><td>-1.0</td><td>-1.0</td><td>-1.0</td><td>-1.0</td><td>-1.0</td><td>-1.0</td></tr>\n",
       "<tr><td>QSO</td><td>LYA</td><td>1</td><td>4282876139</td><td>3.05411620452</td><td>19.4406489869</td><td>13.1498</td><td>16.7394</td><td>16.9422</td><td>26.503</td><td>41.6537</td><td>-1.0</td><td>-1.0</td><td>-1.0</td><td>-1.0</td><td>-1.0</td><td>-1.0</td><td>-1.0</td><td>-1.0</td><td>-1.0</td><td>-1.0</td><td>-1.0</td><td>-1.0</td><td>-1.0</td><td>-1.0</td><td>-1.0</td><td>-1.0</td></tr>\n",
       "<tr><td>QSO</td><td>LYA</td><td>2</td><td>3093770124</td><td>3.77188419862</td><td>18.0002287496</td><td>26.9248</td><td>63.0824</td><td>79.6601</td><td>189.135</td><td>236.387</td><td>-1.0</td><td>-1.0</td><td>-1.0</td><td>-1.0</td><td>-1.0</td><td>-1.0</td><td>-1.0</td><td>-1.0</td><td>-1.0</td><td>-1.0</td><td>-1.0</td><td>-1.0</td><td>-1.0</td><td>-1.0</td><td>-1.0</td><td>-1.0</td></tr>\n",
       "<tr><td>QSO</td><td>LYA</td><td>3</td><td>4005303368</td><td>2.71453952</td><td>18.6046651453</td><td>36.4436</td><td>36.1521</td><td>32.1799</td><td>35.5109</td><td>50.959</td><td>-1.0</td><td>-1.0</td><td>-1.0</td><td>-1.0</td><td>-1.0</td><td>-1.0</td><td>-1.0</td><td>-1.0</td><td>-1.0</td><td>-1.0</td><td>-1.0</td><td>-1.0</td><td>-1.0</td><td>-1.0</td><td>-1.0</td><td>-1.0</td></tr>\n",
       "<tr><td>QSO</td><td>LYA</td><td>4</td><td>491263</td><td>3.81707030184</td><td>18.2935117816</td><td>19.4927</td><td>48.1499</td><td>52.6289</td><td>79.773</td><td>67.555</td><td>-1.0</td><td>-1.0</td><td>-1.0</td><td>-1.0</td><td>-1.0</td><td>-1.0</td><td>-1.0</td><td>-1.0</td><td>-1.0</td><td>-1.0</td><td>-1.0</td><td>-1.0</td><td>-1.0</td><td>-1.0</td><td>-1.0</td><td>-1.0</td></tr>\n",
       "<tr><td>QSO</td><td>LYA</td><td>5</td><td>550290313</td><td>3.24672023158</td><td>18.1846771895</td><td>45.3821</td><td>53.2267</td><td>48.8669</td><td>66.6574</td><td>90.9422</td><td>-1.0</td><td>-1.0</td><td>-1.0</td><td>-1.0</td><td>-1.0</td><td>-1.0</td><td>-1.0</td><td>-1.0</td><td>-1.0</td><td>-1.0</td><td>-1.0</td><td>-1.0</td><td>-1.0</td><td>-1.0</td><td>-1.0</td><td>-1.0</td></tr>\n",
       "<tr><td>QSO</td><td>LYA</td><td>6</td><td>1298508491</td><td>2.03164248569</td><td>18.3725204228</td><td>47.787</td><td>44.7705</td><td>55.9107</td><td>101.073</td><td>147.909</td><td>-1.0</td><td>-1.0</td><td>-1.0</td><td>-1.0</td><td>-1.0</td><td>-1.0</td><td>-1.0</td><td>-1.0</td><td>-1.0</td><td>-1.0</td><td>-1.0</td><td>-1.0</td><td>-1.0</td><td>-1.0</td><td>-1.0</td><td>-1.0</td></tr>\n",
       "<tr><td>QSO</td><td>LYA</td><td>7</td><td>4290846341</td><td>3.85887446749</td><td>18.6911214541</td><td>14.8817</td><td>33.385</td><td>34.2628</td><td>46.9068</td><td>56.3791</td><td>-1.0</td><td>-1.0</td><td>-1.0</td><td>-1.0</td><td>-1.0</td><td>-1.0</td><td>-1.0</td><td>-1.0</td><td>-1.0</td><td>-1.0</td><td>-1.0</td><td>-1.0</td><td>-1.0</td><td>-1.0</td><td>-1.0</td><td>-1.0</td></tr>\n",
       "<tr><td>QSO</td><td>LYA</td><td>8</td><td>630311759</td><td>3.38179383503</td><td>18.7935349485</td><td>22.6503</td><td>30.3799</td><td>28.4057</td><td>38.7909</td><td>45.9792</td><td>-1.0</td><td>-1.0</td><td>-1.0</td><td>-1.0</td><td>-1.0</td><td>-1.0</td><td>-1.0</td><td>-1.0</td><td>-1.0</td><td>-1.0</td><td>-1.0</td><td>-1.0</td><td>-1.0</td><td>-1.0</td><td>-1.0</td><td>-1.0</td></tr>\n",
       "<tr><td>...</td><td>...</td><td>...</td><td>...</td><td>...</td><td>...</td><td>...</td><td>...</td><td>...</td><td>...</td><td>...</td><td>...</td><td>...</td><td>...</td><td>...</td><td>...</td><td>...</td><td>...</td><td>...</td><td>...</td><td>...</td><td>...</td><td>...</td><td>...</td><td>...</td><td>...</td><td>...</td></tr>\n",
       "<tr><td>QSO</td><td>LYA</td><td>90</td><td>1923688040</td><td>2.52659354097</td><td>18.2294919459</td><td>57.5359</td><td>51.0744</td><td>66.5158</td><td>80.3984</td><td>117.344</td><td>-1.0</td><td>-1.0</td><td>-1.0</td><td>-1.0</td><td>-1.0</td><td>-1.0</td><td>-1.0</td><td>-1.0</td><td>-1.0</td><td>-1.0</td><td>-1.0</td><td>-1.0</td><td>-1.0</td><td>-1.0</td><td>-1.0</td><td>-1.0</td></tr>\n",
       "<tr><td>QSO</td><td>LYA</td><td>91</td><td>2015364118</td><td>2.13192218137</td><td>19.8989785174</td><td>10.4789</td><td>10.9751</td><td>16.182</td><td>30.3814</td><td>43.2663</td><td>-1.0</td><td>-1.0</td><td>-1.0</td><td>-1.0</td><td>-1.0</td><td>-1.0</td><td>-1.0</td><td>-1.0</td><td>-1.0</td><td>-1.0</td><td>-1.0</td><td>-1.0</td><td>-1.0</td><td>-1.0</td><td>-1.0</td><td>-1.0</td></tr>\n",
       "<tr><td>QSO</td><td>LYA</td><td>92</td><td>3902387977</td><td>3.47013192658</td><td>18.899824267</td><td>19.9203</td><td>27.5467</td><td>27.8351</td><td>52.7979</td><td>62.846</td><td>-1.0</td><td>-1.0</td><td>-1.0</td><td>-1.0</td><td>-1.0</td><td>-1.0</td><td>-1.0</td><td>-1.0</td><td>-1.0</td><td>-1.0</td><td>-1.0</td><td>-1.0</td><td>-1.0</td><td>-1.0</td><td>-1.0</td><td>-1.0</td></tr>\n",
       "<tr><td>QSO</td><td>LYA</td><td>93</td><td>413056707</td><td>3.54435605909</td><td>19.1567792288</td><td>9.67795</td><td>21.7414</td><td>28.0692</td><td>103.078</td><td>133.737</td><td>-1.0</td><td>-1.0</td><td>-1.0</td><td>-1.0</td><td>-1.0</td><td>-1.0</td><td>-1.0</td><td>-1.0</td><td>-1.0</td><td>-1.0</td><td>-1.0</td><td>-1.0</td><td>-1.0</td><td>-1.0</td><td>-1.0</td><td>-1.0</td></tr>\n",
       "<tr><td>QSO</td><td>LYA</td><td>94</td><td>1261063143</td><td>3.81563170501</td><td>18.8162736055</td><td>9.8671</td><td>29.7502</td><td>31.8308</td><td>78.1785</td><td>87.5586</td><td>-1.0</td><td>-1.0</td><td>-1.0</td><td>-1.0</td><td>-1.0</td><td>-1.0</td><td>-1.0</td><td>-1.0</td><td>-1.0</td><td>-1.0</td><td>-1.0</td><td>-1.0</td><td>-1.0</td><td>-1.0</td><td>-1.0</td><td>-1.0</td></tr>\n",
       "<tr><td>QSO</td><td>LYA</td><td>95</td><td>3879945342</td><td>3.86394413839</td><td>18.4740539605</td><td>14.4234</td><td>40.7735</td><td>36.8971</td><td>62.6683</td><td>75.1005</td><td>-1.0</td><td>-1.0</td><td>-1.0</td><td>-1.0</td><td>-1.0</td><td>-1.0</td><td>-1.0</td><td>-1.0</td><td>-1.0</td><td>-1.0</td><td>-1.0</td><td>-1.0</td><td>-1.0</td><td>-1.0</td><td>-1.0</td><td>-1.0</td></tr>\n",
       "<tr><td>QSO</td><td>LYA</td><td>96</td><td>1235985687</td><td>2.02790314595</td><td>19.8067590411</td><td>11.9975</td><td>11.948</td><td>15.8476</td><td>28.0575</td><td>48.1818</td><td>-1.0</td><td>-1.0</td><td>-1.0</td><td>-1.0</td><td>-1.0</td><td>-1.0</td><td>-1.0</td><td>-1.0</td><td>-1.0</td><td>-1.0</td><td>-1.0</td><td>-1.0</td><td>-1.0</td><td>-1.0</td><td>-1.0</td><td>-1.0</td></tr>\n",
       "<tr><td>QSO</td><td>LYA</td><td>97</td><td>513207677</td><td>2.46872417224</td><td>19.1473589733</td><td>27.7823</td><td>21.9309</td><td>24.1202</td><td>26.6435</td><td>40.2502</td><td>-1.0</td><td>-1.0</td><td>-1.0</td><td>-1.0</td><td>-1.0</td><td>-1.0</td><td>-1.0</td><td>-1.0</td><td>-1.0</td><td>-1.0</td><td>-1.0</td><td>-1.0</td><td>-1.0</td><td>-1.0</td><td>-1.0</td><td>-1.0</td></tr>\n",
       "<tr><td>QSO</td><td>LYA</td><td>98</td><td>558468452</td><td>3.233556714</td><td>18.0057406541</td><td>47.5667</td><td>62.763</td><td>70.0054</td><td>148.558</td><td>183.422</td><td>-1.0</td><td>-1.0</td><td>-1.0</td><td>-1.0</td><td>-1.0</td><td>-1.0</td><td>-1.0</td><td>-1.0</td><td>-1.0</td><td>-1.0</td><td>-1.0</td><td>-1.0</td><td>-1.0</td><td>-1.0</td><td>-1.0</td><td>-1.0</td></tr>\n",
       "<tr><td>QSO</td><td>LYA</td><td>99</td><td>2253996187</td><td>3.89803264138</td><td>19.2342898272</td><td>7.04223</td><td>20.2434</td><td>23.4592</td><td>62.132</td><td>65.1173</td><td>-1.0</td><td>-1.0</td><td>-1.0</td><td>-1.0</td><td>-1.0</td><td>-1.0</td><td>-1.0</td><td>-1.0</td><td>-1.0</td><td>-1.0</td><td>-1.0</td><td>-1.0</td><td>-1.0</td><td>-1.0</td><td>-1.0</td><td>-1.0</td></tr>\n",
       "</table>"
      ],
      "text/plain": [
       "<Table length=100>\n",
       "OBJTYPE SUBTYPE TEMPLATEID    SEED    ...   AGE     TEFF    LOGG    FEH  \n",
       "                                      ...   Gyr      K     m / s2        \n",
       " str10   str10    int64      int64    ... float32 float32 float32 float32\n",
       "------- ------- ---------- ---------- ... ------- ------- ------- -------\n",
       "    QSO     LYA          0 1791095845 ...    -1.0    -1.0    -1.0    -1.0\n",
       "    QSO     LYA          1 4282876139 ...    -1.0    -1.0    -1.0    -1.0\n",
       "    QSO     LYA          2 3093770124 ...    -1.0    -1.0    -1.0    -1.0\n",
       "    QSO     LYA          3 4005303368 ...    -1.0    -1.0    -1.0    -1.0\n",
       "    QSO     LYA          4     491263 ...    -1.0    -1.0    -1.0    -1.0\n",
       "    QSO     LYA          5  550290313 ...    -1.0    -1.0    -1.0    -1.0\n",
       "    QSO     LYA          6 1298508491 ...    -1.0    -1.0    -1.0    -1.0\n",
       "    QSO     LYA          7 4290846341 ...    -1.0    -1.0    -1.0    -1.0\n",
       "    QSO     LYA          8  630311759 ...    -1.0    -1.0    -1.0    -1.0\n",
       "    ...     ...        ...        ... ...     ...     ...     ...     ...\n",
       "    QSO     LYA         90 1923688040 ...    -1.0    -1.0    -1.0    -1.0\n",
       "    QSO     LYA         91 2015364118 ...    -1.0    -1.0    -1.0    -1.0\n",
       "    QSO     LYA         92 3902387977 ...    -1.0    -1.0    -1.0    -1.0\n",
       "    QSO     LYA         93  413056707 ...    -1.0    -1.0    -1.0    -1.0\n",
       "    QSO     LYA         94 1261063143 ...    -1.0    -1.0    -1.0    -1.0\n",
       "    QSO     LYA         95 3879945342 ...    -1.0    -1.0    -1.0    -1.0\n",
       "    QSO     LYA         96 1235985687 ...    -1.0    -1.0    -1.0    -1.0\n",
       "    QSO     LYA         97  513207677 ...    -1.0    -1.0    -1.0    -1.0\n",
       "    QSO     LYA         98  558468452 ...    -1.0    -1.0    -1.0    -1.0\n",
       "    QSO     LYA         99 2253996187 ...    -1.0    -1.0    -1.0    -1.0"
      ]
     },
     "execution_count": 33,
     "metadata": {},
     "output_type": "execute_result"
    }
   ],
   "source": [
    "meta"
   ]
  },
  {
   "cell_type": "code",
   "execution_count": null,
   "metadata": {
    "collapsed": true
   },
   "outputs": [],
   "source": [
    "qso = QSO(minwave=minwave, maxwave=maxwave, cdelt=2.0)"
   ]
  },
  {
   "cell_type": "code",
   "execution_count": null,
   "metadata": {},
   "outputs": [],
   "source": [
    "%time qflux, _, qmeta = qso.make_templates(nmodel, seed=seed, redshift=redshift, mag=mag, nocolorcuts=True)"
   ]
  },
  {
   "cell_type": "code",
   "execution_count": null,
   "metadata": {},
   "outputs": [],
   "source": [
    "def compare_templates(nplot=12, ncol=4, xlim=None):\n",
    "    \"\"\"Plot a random sampling of the basis templates.\"\"\"\n",
    "    \n",
    "    if xlim is None:\n",
    "        xlim = (2500, 6000)\n",
    "    \n",
    "    nspec, npix = flux.shape\n",
    "    nrow = np.ceil(nplot / ncol).astype('int')\n",
    "    these = rand.choice(nspec, nplot, replace=False)\n",
    "    these = np.sort(these)\n",
    "\n",
    "    fig, ax = plt.subplots(nrow, ncol, figsize=(3*ncol, 2.5*nrow), sharey=False, sharex=True)\n",
    "    for ii, (thisax, indx) in enumerate(zip(ax.flat, these)):\n",
    "        thisax.plot(wave, flux[indx, :], label='SIMQSO')\n",
    "        thisax.plot(wave, qflux[indx, :], alpha=0.7, label='QSO')\n",
    "        thisax.xaxis.set_major_locator(plt.MaxNLocator(3))\n",
    "        thisax.set_xlim(xlim)\n",
    "        ww = (wave > xlim[0]) * (wave < xlim[1])\n",
    "        ylim = (flux[indx, ww].min(), flux[indx, ww].max())\n",
    "        thisax.set_ylim(ylim)\n",
    "        thisax.yaxis.set_ticklabels([])\n",
    "        if xlim[1] > 1e4:\n",
    "            thisax.set_xscale('log')\n",
    "            thisax.set_yscale('log')\n",
    "        if ii == 0:\n",
    "            thisax.legend(loc='upper left')\n",
    "    fig.subplots_adjust(wspace=0.05, hspace=0.05)"
   ]
  },
  {
   "cell_type": "code",
   "execution_count": null,
   "metadata": {},
   "outputs": [],
   "source": [
    "compare_templates()"
   ]
  },
  {
   "cell_type": "code",
   "execution_count": null,
   "metadata": {},
   "outputs": [],
   "source": [
    "compare_templates(xlim=(6000, maxwave))"
   ]
  },
  {
   "cell_type": "markdown",
   "metadata": {},
   "source": [
    "### Compare the two template sets in color-color and color-redshift space."
   ]
  },
  {
   "cell_type": "code",
   "execution_count": null,
   "metadata": {
    "collapsed": true
   },
   "outputs": [],
   "source": [
    "def flux2colors(cat):\n",
    "    \"\"\"Convert DECam/WISE fluxes to magnitudes and colors.\"\"\"\n",
    "    colors = dict()\n",
    "    #with warnings.catch_warnings(): # ignore missing fluxes (e.g., for QSOs)\n",
    "    #    warnings.simplefilter('ignore')\n",
    "    colors['g'] = 22.5 - 2.5 * np.log10(cat['FLUX_G'])\n",
    "    colors['r'] = 22.5 - 2.5 * np.log10(cat['FLUX_R'])\n",
    "    colors['z'] = 22.5 - 2.5 * np.log10(cat['FLUX_Z'])\n",
    "    colors['gr'] = colors['g'] - colors['r']\n",
    "    colors['gz'] = colors['g'] - colors['z']\n",
    "    colors['rz'] = colors['r'] - colors['z']\n",
    "    colors['grz'] = 22.5-2.5*np.log10(cat['FLUX_G'] + 0.8 * cat['FLUX_R'] +  0.5 * cat['FLUX_G'] / 2.3)\n",
    "\n",
    "    with np.errstate(invalid='ignore'):\n",
    "        colors['W'] = 22.5-2.5*np.log10(0.75 * cat['FLUX_W1'] + 0.25 * cat['FLUX_W2'])\n",
    "        colors['rW'] = colors['r'] - colors['W']\n",
    "    \n",
    "    return colors"
   ]
  },
  {
   "cell_type": "code",
   "execution_count": null,
   "metadata": {},
   "outputs": [],
   "source": [
    "colors = flux2colors(meta)\n",
    "qcolors = flux2colors(qmeta)"
   ]
  },
  {
   "cell_type": "code",
   "execution_count": null,
   "metadata": {
    "collapsed": true
   },
   "outputs": [],
   "source": [
    "def qso_colorbox(ax, plottype='grz'):\n",
    "    \"\"\"Draw the QSO selection boxes.\"\"\"\n",
    "    rmaglim = 22.7\n",
    "    xlim = ax.get_xlim()\n",
    "    ylim = ax.get_ylim()\n",
    "    if plottype == 'grz-r':\n",
    "        verts = [(xlim[0]-0.05, 17.0),\n",
    "                 (22.7, 17.0),\n",
    "                 (22.7, ylim[1]+0.05),\n",
    "                 (xlim[0]-0.05, ylim[1]+0.05)\n",
    "                ]\n",
    "    if plottype == 'rW1-rz':\n",
    "        verts = None\n",
    "        ax.axvline(x=-0.3, ls='--', color='k')\n",
    "        ax.axvline(x=1.3, ls='--', color='k')\n",
    "\n",
    "    if plottype == 'gr-rz':\n",
    "        verts = [(-0.3, 1.3),\n",
    "                 (1.1, 1.3),\n",
    "                 (1.1, ylim[0]-0.05),\n",
    "                 (-0.3, ylim[0]-0.05)\n",
    "                ]\n",
    "    if verts:\n",
    "        ax.add_patch(Polygon(verts, fill=False, ls='--', color='k'))"
   ]
  },
  {
   "cell_type": "code",
   "execution_count": null,
   "metadata": {},
   "outputs": [],
   "source": [
    "def qa_colorcolor():\n",
    "    fig, (ax1, ax2) = plt.subplots(1, 2, figsize=(12, 4))\n",
    "    ax1.scatter(colors['rz'], colors['gr'], s=14, label='SIMQSO')\n",
    "    ax1.scatter(qcolors['rz'], qcolors['gr'], s=14, label='QSO')\n",
    "    ax1.set_xlabel('$r - z$')\n",
    "    ax1.set_ylabel('$g - r$')\n",
    "    ax1.set_xlim(-1, 2.2)\n",
    "    ax1.set_ylim(-1, 2.0)\n",
    "    ax1.legend(loc='upper right')\n",
    "    qso_colorbox(ax1, 'gr-rz')\n",
    "    \n",
    "    ax2.scatter(colors['gz'], colors['rW'], s=14, label='SIMQSO')\n",
    "    ax2.set_xlabel('$g - z$')\n",
    "    ax2.set_ylabel('$r - W$')\n",
    "    ax2.set_xlim(-0.3, 2)\n",
    "    ax2.set_ylim(-1, 3)\n",
    "    ax2.legend(loc='upper right')\n",
    "    gzaxis = np.linspace(-0.5, 2.0, 50)\n",
    "    ax2.plot(gzaxis, np.polyval([1.0, -1.0], gzaxis))\n",
    "    #qso_colorbox(ax1, 'gr-rz')\n",
    "    plt.subplots_adjust(wspace=0.3)"
   ]
  },
  {
   "cell_type": "code",
   "execution_count": null,
   "metadata": {},
   "outputs": [],
   "source": [
    "qa_colorcolor()"
   ]
  },
  {
   "cell_type": "code",
   "execution_count": null,
   "metadata": {
    "collapsed": true
   },
   "outputs": [],
   "source": []
  }
 ],
 "metadata": {
  "anaconda-cloud": {},
  "kernelspec": {
   "display_name": "Python 3",
   "language": "python",
   "name": "python3"
  },
  "language_info": {
   "codemirror_mode": {
    "name": "ipython",
    "version": 3
   },
   "file_extension": ".py",
   "mimetype": "text/x-python",
   "name": "python",
   "nbconvert_exporter": "python",
   "pygments_lexer": "ipython3",
   "version": "3.5.3"
  }
 },
 "nbformat": 4,
 "nbformat_minor": 2
}
