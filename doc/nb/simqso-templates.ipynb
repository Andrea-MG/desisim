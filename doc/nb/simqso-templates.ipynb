{
 "cells": [
  {
   "cell_type": "markdown",
   "metadata": {},
   "source": [
    "# Simulate QSO spectra.\n",
    "\n",
    "The purpose of this notebook is to simulate a bunch of QSO spectra using [simqso](https://github.com/moustakas/simqso) and the default (PCA-based) QSO template-generating code."
   ]
  },
  {
   "cell_type": "code",
   "execution_count": 1,
   "metadata": {
    "collapsed": true
   },
   "outputs": [],
   "source": [
    "import numpy as np\n",
    "import matplotlib.pyplot as plt\n",
    "from matplotlib.patches import Polygon"
   ]
  },
  {
   "cell_type": "code",
   "execution_count": 2,
   "metadata": {
    "collapsed": true
   },
   "outputs": [],
   "source": [
    "from desisim.templates import SIMQSO, QSO"
   ]
  },
  {
   "cell_type": "code",
   "execution_count": 3,
   "metadata": {
    "collapsed": true
   },
   "outputs": [],
   "source": [
    "import multiprocessing\n",
    "nproc = multiprocessing.cpu_count() // 2"
   ]
  },
  {
   "cell_type": "code",
   "execution_count": 4,
   "metadata": {
    "collapsed": true
   },
   "outputs": [],
   "source": [
    "plt.style.use('seaborn-talk')\n",
    "%matplotlib inline"
   ]
  },
  {
   "cell_type": "markdown",
   "metadata": {},
   "source": [
    "### Specify the random seed and the magnitude and redshift priors."
   ]
  },
  {
   "cell_type": "code",
   "execution_count": 5,
   "metadata": {
    "collapsed": true
   },
   "outputs": [],
   "source": [
    "seed = 1\n",
    "rand = np.random.RandomState(seed)"
   ]
  },
  {
   "cell_type": "code",
   "execution_count": 6,
   "metadata": {
    "collapsed": true
   },
   "outputs": [],
   "source": [
    "nmodel = 100\n",
    "mag = rand.uniform(18, 20, nmodel) # r-band\n",
    "redshift = rand.uniform(2, 4, nmodel)"
   ]
  },
  {
   "cell_type": "code",
   "execution_count": 7,
   "metadata": {
    "collapsed": true
   },
   "outputs": [],
   "source": [
    "minwave, maxwave = 2500, 10e4"
   ]
  },
  {
   "cell_type": "markdown",
   "metadata": {},
   "source": [
    "#### Generate spectra using both SIMQSO() and QSO()."
   ]
  },
  {
   "cell_type": "code",
   "execution_count": 8,
   "metadata": {},
   "outputs": [
    {
     "name": "stdout",
     "output_type": "stream",
     "text": [
      "ToDo: Update to LegacySurvey filters!! What is 1450?\n"
     ]
    }
   ],
   "source": [
    "simqso = SIMQSO(minwave=minwave, maxwave=maxwave, cdelt=2.0)"
   ]
  },
  {
   "cell_type": "code",
   "execution_count": 9,
   "metadata": {},
   "outputs": [
    {
     "name": "stdout",
     "output_type": "stream",
     "text": [
      "> /Users/ioannis/repos/desihub/desisim/py/desisim/templates.py(2221)make_templates()\n",
      "-> qsos = QsoSimPoints([mag, redshift], cosmo=self.cosmo, units='flux')\n",
      "(Pdb) mag\n",
      "array([ 18.83404401,  19.44064899,  18.00022875,  18.60466515,\n",
      "        18.29351178,  18.18467719,  18.37252042,  18.69112145,\n",
      "        18.79353495,  19.07763347,  18.83838903,  19.370439  ,\n",
      "        18.4089045 ,  19.75623487,  18.05477519,  19.34093502,\n",
      "        18.8346096 ,  19.11737966,  18.28077388,  18.39620298,\n",
      "        19.60148914,  19.93652315,  18.62684836,  19.38464523,\n",
      "        19.7527783 ,  19.78921333,  18.17008842,  18.07810957,\n",
      "        18.33966084,  19.75628501,  18.19669367,  18.84221525,\n",
      "        19.91577906,  19.06633057,  19.38375423,  18.63103126,\n",
      "        19.37300186,  19.66925134,  18.03657655,  19.50028863,\n",
      "        19.97772218,  19.49633131,  18.56088798,  19.57855866,\n",
      "        18.20645201,  18.89578705,  19.81719101,  18.5872283 ,\n",
      "        18.57555068,  18.26005714,  18.03873392,  19.35767107,\n",
      "        18.42325623,  18.53109332,  18.98314632,  18.10672509,\n",
      "        19.14823521,  18.29345715,  19.17861107,  19.39951672,\n",
      "        18.20466886,  18.82811198,  19.38880032,  18.82835854,\n",
      "        18.09990692,  19.07179281,  19.32758929,  19.02977822,\n",
      "        19.88918951,  19.17311008,  19.80680383,  18.27494941,\n",
      "        18.27855269,  19.61478258,  18.79535367,  18.33070839,\n",
      "        19.85501716,  18.69553172,  19.50162421,  19.45199597,\n",
      "        19.76661218,  19.24734441,  19.50188487,  18.69779668,\n",
      "        18.53985578,  19.79177244,  18.85618238,  19.92968009,\n",
      "        19.326883  ,  19.24339144,  18.22949195,  19.89897852,\n",
      "        18.89982427,  19.15677923,  18.81627361,  18.47405396,\n",
      "        19.80675904,  19.14735897,  18.00574065,  19.23428983])\n",
      "(Pdb) redshift\n",
      "array([ 2.6532898 ,  3.0541162 ,  3.7718842 ,  2.71453952,  3.8170703 ,\n",
      "        3.24672023,  2.03164249,  3.85887447,  3.38179384,  3.9946457 ,\n",
      "        2.34468102,  2.2742715 ,  3.86519093,  3.39363632,  2.13200035,\n",
      "        3.51092611,  3.50775238,  3.84604907,  3.42304952,  2.24854192,\n",
      "        2.03976027,  2.05242197,  2.05661298,  2.49242214,  3.7200559 ,\n",
      "        3.07766213,  3.10564396,  3.68406178,  2.24834663,  2.55836736,\n",
      "        3.17151854,  3.9391915 ,  3.12206044,  2.03729458,  3.60126535,\n",
      "        2.46594855,  3.61421039,  2.77572129,  3.72708371,  3.49424329,\n",
      "        3.11248047,  2.27291045,  2.11983538,  2.24268691,  2.08910376,\n",
      "        2.21498826,  2.45141868,  3.42597796,  3.11943396,  2.02511196,\n",
      "        2.14394856,  3.93455266,  3.13620092,  2.40658647,  2.50465149,\n",
      "        3.48765171,  2.39085896,  3.16271785,  3.94003998,  3.6936576 ,\n",
      "        2.47969552,  2.98753943,  3.23991144,  3.6579618 ,  2.31358279,\n",
      "        2.0371524 ,  2.14004429,  2.97269022,  3.21265892,  3.13770287,\n",
      "        2.63472482,  3.97723231,  3.15949044,  2.76028235,  3.10189644,\n",
      "        3.49066886,  3.33846579,  2.52983912,  2.13266967,  2.7401684 ,\n",
      "        3.25943501,  2.42034802,  3.50551111,  2.13307296,  2.5206302 ,\n",
      "        3.60950913,  2.38686857,  3.27892176,  3.04934062,  3.84961594,\n",
      "        2.52659354,  2.13192218,  3.47013193,  3.54435606,  3.81563171,\n",
      "        3.86394414,  2.02790315,  2.46872417,  3.23355671,  3.89803264])\n",
      "(Pdb) QsoSimPoints([mag, redshift], cosmo=self.cosmo, units='flux')\n",
      "*** AttributeError: 'numpy.ndarray' object has no attribute 'name'\n",
      "(Pdb) q\n"
     ]
    },
    {
     "ename": "BdbQuit",
     "evalue": "",
     "output_type": "error",
     "traceback": [
      "\u001b[0;31m---------------------------------------------------------------------------\u001b[0m",
      "\u001b[0;31mBdbQuit\u001b[0m                                   Traceback (most recent call last)",
      "\u001b[0;32m<timed exec>\u001b[0m in \u001b[0;36m<module>\u001b[0;34m()\u001b[0m\n",
      "\u001b[0;32m~/repos/desihub/desisim/py/desisim/templates.py\u001b[0m in \u001b[0;36mmake_templates\u001b[0;34m(self, nmodel, zrange, rmagrange, seed, redshift, mag, input_meta, maxiter, lyaforest, nocolorcuts, restframe, verbose)\u001b[0m\n\u001b[1;32m   2219\u001b[0m \u001b[0;34m\u001b[0m\u001b[0m\n\u001b[1;32m   2220\u001b[0m             \u001b[0mstop\u001b[0m\u001b[0;34m\u001b[0m\u001b[0m\n\u001b[0;32m-> 2221\u001b[0;31m \u001b[0;34m\u001b[0m\u001b[0m\n\u001b[0m\u001b[1;32m   2222\u001b[0m             \u001b[0;32mfrom\u001b[0m \u001b[0msimqso\u001b[0m\u001b[0;34m.\u001b[0m\u001b[0msqgrids\u001b[0m \u001b[0;32mimport\u001b[0m \u001b[0mQsoSimPoints\u001b[0m\u001b[0;34m\u001b[0m\u001b[0m\n\u001b[1;32m   2223\u001b[0m             \u001b[0mM\u001b[0m \u001b[0;34m=\u001b[0m \u001b[0mAbsMagVar\u001b[0m\u001b[0;34m(\u001b[0m\u001b[0mFixedSampler\u001b[0m\u001b[0;34m(\u001b[0m\u001b[0mlinspace\u001b[0m\u001b[0;34m(\u001b[0m\u001b[0;34m-\u001b[0m\u001b[0;36m27\u001b[0m\u001b[0;34m,\u001b[0m\u001b[0;34m-\u001b[0m\u001b[0;36m25\u001b[0m\u001b[0;34m,\u001b[0m\u001b[0mnqso\u001b[0m\u001b[0;34m)\u001b[0m\u001b[0;34m[\u001b[0m\u001b[0;34m:\u001b[0m\u001b[0;34m:\u001b[0m\u001b[0;34m-\u001b[0m\u001b[0;36m1\u001b[0m\u001b[0;34m]\u001b[0m\u001b[0;34m)\u001b[0m\u001b[0;34m,\u001b[0m\u001b[0mrestWave\u001b[0m\u001b[0;34m=\u001b[0m\u001b[0;36m1450\u001b[0m\u001b[0;34m)\u001b[0m\u001b[0;34m\u001b[0m\u001b[0m\n",
      "\u001b[0;32m~/repos/desihub/desisim/py/desisim/templates.py\u001b[0m in \u001b[0;36mmake_templates\u001b[0;34m(self, nmodel, zrange, rmagrange, seed, redshift, mag, input_meta, maxiter, lyaforest, nocolorcuts, restframe, verbose)\u001b[0m\n\u001b[1;32m   2219\u001b[0m \u001b[0;34m\u001b[0m\u001b[0m\n\u001b[1;32m   2220\u001b[0m             \u001b[0mstop\u001b[0m\u001b[0;34m\u001b[0m\u001b[0m\n\u001b[0;32m-> 2221\u001b[0;31m \u001b[0;34m\u001b[0m\u001b[0m\n\u001b[0m\u001b[1;32m   2222\u001b[0m             \u001b[0;32mfrom\u001b[0m \u001b[0msimqso\u001b[0m\u001b[0;34m.\u001b[0m\u001b[0msqgrids\u001b[0m \u001b[0;32mimport\u001b[0m \u001b[0mQsoSimPoints\u001b[0m\u001b[0;34m\u001b[0m\u001b[0m\n\u001b[1;32m   2223\u001b[0m             \u001b[0mM\u001b[0m \u001b[0;34m=\u001b[0m \u001b[0mAbsMagVar\u001b[0m\u001b[0;34m(\u001b[0m\u001b[0mFixedSampler\u001b[0m\u001b[0;34m(\u001b[0m\u001b[0mlinspace\u001b[0m\u001b[0;34m(\u001b[0m\u001b[0;34m-\u001b[0m\u001b[0;36m27\u001b[0m\u001b[0;34m,\u001b[0m\u001b[0;34m-\u001b[0m\u001b[0;36m25\u001b[0m\u001b[0;34m,\u001b[0m\u001b[0mnqso\u001b[0m\u001b[0;34m)\u001b[0m\u001b[0;34m[\u001b[0m\u001b[0;34m:\u001b[0m\u001b[0;34m:\u001b[0m\u001b[0;34m-\u001b[0m\u001b[0;36m1\u001b[0m\u001b[0;34m]\u001b[0m\u001b[0;34m)\u001b[0m\u001b[0;34m,\u001b[0m\u001b[0mrestWave\u001b[0m\u001b[0;34m=\u001b[0m\u001b[0;36m1450\u001b[0m\u001b[0;34m)\u001b[0m\u001b[0;34m\u001b[0m\u001b[0m\n",
      "\u001b[0;32m/usr/local/anaconda3/envs/desi/lib/python3.5/bdb.py\u001b[0m in \u001b[0;36mtrace_dispatch\u001b[0;34m(self, frame, event, arg)\u001b[0m\n\u001b[1;32m     46\u001b[0m             \u001b[0;32mreturn\u001b[0m \u001b[0;31m# None\u001b[0m\u001b[0;34m\u001b[0m\u001b[0m\n\u001b[1;32m     47\u001b[0m         \u001b[0;32mif\u001b[0m \u001b[0mevent\u001b[0m \u001b[0;34m==\u001b[0m \u001b[0;34m'line'\u001b[0m\u001b[0;34m:\u001b[0m\u001b[0;34m\u001b[0m\u001b[0m\n\u001b[0;32m---> 48\u001b[0;31m             \u001b[0;32mreturn\u001b[0m \u001b[0mself\u001b[0m\u001b[0;34m.\u001b[0m\u001b[0mdispatch_line\u001b[0m\u001b[0;34m(\u001b[0m\u001b[0mframe\u001b[0m\u001b[0;34m)\u001b[0m\u001b[0;34m\u001b[0m\u001b[0m\n\u001b[0m\u001b[1;32m     49\u001b[0m         \u001b[0;32mif\u001b[0m \u001b[0mevent\u001b[0m \u001b[0;34m==\u001b[0m \u001b[0;34m'call'\u001b[0m\u001b[0;34m:\u001b[0m\u001b[0;34m\u001b[0m\u001b[0m\n\u001b[1;32m     50\u001b[0m             \u001b[0;32mreturn\u001b[0m \u001b[0mself\u001b[0m\u001b[0;34m.\u001b[0m\u001b[0mdispatch_call\u001b[0m\u001b[0;34m(\u001b[0m\u001b[0mframe\u001b[0m\u001b[0;34m,\u001b[0m \u001b[0marg\u001b[0m\u001b[0;34m)\u001b[0m\u001b[0;34m\u001b[0m\u001b[0m\n",
      "\u001b[0;32m/usr/local/anaconda3/envs/desi/lib/python3.5/bdb.py\u001b[0m in \u001b[0;36mdispatch_line\u001b[0;34m(self, frame)\u001b[0m\n\u001b[1;32m     65\u001b[0m         \u001b[0;32mif\u001b[0m \u001b[0mself\u001b[0m\u001b[0;34m.\u001b[0m\u001b[0mstop_here\u001b[0m\u001b[0;34m(\u001b[0m\u001b[0mframe\u001b[0m\u001b[0;34m)\u001b[0m \u001b[0;32mor\u001b[0m \u001b[0mself\u001b[0m\u001b[0;34m.\u001b[0m\u001b[0mbreak_here\u001b[0m\u001b[0;34m(\u001b[0m\u001b[0mframe\u001b[0m\u001b[0;34m)\u001b[0m\u001b[0;34m:\u001b[0m\u001b[0;34m\u001b[0m\u001b[0m\n\u001b[1;32m     66\u001b[0m             \u001b[0mself\u001b[0m\u001b[0;34m.\u001b[0m\u001b[0muser_line\u001b[0m\u001b[0;34m(\u001b[0m\u001b[0mframe\u001b[0m\u001b[0;34m)\u001b[0m\u001b[0;34m\u001b[0m\u001b[0m\n\u001b[0;32m---> 67\u001b[0;31m             \u001b[0;32mif\u001b[0m \u001b[0mself\u001b[0m\u001b[0;34m.\u001b[0m\u001b[0mquitting\u001b[0m\u001b[0;34m:\u001b[0m \u001b[0;32mraise\u001b[0m \u001b[0mBdbQuit\u001b[0m\u001b[0;34m\u001b[0m\u001b[0m\n\u001b[0m\u001b[1;32m     68\u001b[0m         \u001b[0;32mreturn\u001b[0m \u001b[0mself\u001b[0m\u001b[0;34m.\u001b[0m\u001b[0mtrace_dispatch\u001b[0m\u001b[0;34m\u001b[0m\u001b[0m\n\u001b[1;32m     69\u001b[0m \u001b[0;34m\u001b[0m\u001b[0m\n",
      "\u001b[0;31mBdbQuit\u001b[0m: "
     ]
    }
   ],
   "source": [
    "%time flux, wave, meta = simqso.make_templates(nmodel, seed=seed, redshift=redshift, mag=mag, nocolorcuts=True)"
   ]
  },
  {
   "cell_type": "code",
   "execution_count": 10,
   "metadata": {},
   "outputs": [
    {
     "ename": "NameError",
     "evalue": "name 'stop' is not defined",
     "output_type": "error",
     "traceback": [
      "\u001b[0;31m---------------------------------------------------------------------------\u001b[0m",
      "\u001b[0;31mNameError\u001b[0m                                 Traceback (most recent call last)",
      "\u001b[0;32m<ipython-input-10-30d9529ff51c>\u001b[0m in \u001b[0;36m<module>\u001b[0;34m()\u001b[0m\n\u001b[0;32m----> 1\u001b[0;31m \u001b[0mstop\u001b[0m\u001b[0;34m\u001b[0m\u001b[0m\n\u001b[0m",
      "\u001b[0;31mNameError\u001b[0m: name 'stop' is not defined"
     ]
    }
   ],
   "source": [
    "stop"
   ]
  },
  {
   "cell_type": "code",
   "execution_count": null,
   "metadata": {},
   "outputs": [],
   "source": [
    "meta"
   ]
  },
  {
   "cell_type": "code",
   "execution_count": null,
   "metadata": {
    "collapsed": true
   },
   "outputs": [],
   "source": [
    "qso = QSO(minwave=minwave, maxwave=maxwave, cdelt=2.0)"
   ]
  },
  {
   "cell_type": "code",
   "execution_count": null,
   "metadata": {},
   "outputs": [],
   "source": [
    "%time qflux, _, qmeta = qso.make_templates(nmodel, seed=seed, redshift=redshift, mag=mag, nocolorcuts=True)"
   ]
  },
  {
   "cell_type": "code",
   "execution_count": null,
   "metadata": {
    "collapsed": true
   },
   "outputs": [],
   "source": [
    "def compare_templates(nplot=12, ncol=4, xlim=None):\n",
    "    \"\"\"Plot a random sampling of the basis templates.\"\"\"\n",
    "    \n",
    "    if xlim is None:\n",
    "        xlim = (2500, 6000)\n",
    "    \n",
    "    nspec, npix = flux.shape\n",
    "    nrow = np.ceil(nplot / ncol).astype('int')\n",
    "    these = rand.choice(nspec, nplot, replace=False)\n",
    "    these = np.sort(these)\n",
    "\n",
    "    fig, ax = plt.subplots(nrow, ncol, figsize=(3*ncol, 2.5*nrow), sharey=False, sharex=True)\n",
    "    for ii, (thisax, indx) in enumerate(zip(ax.flat, these)):\n",
    "        thisax.plot(wave, flux[indx, :], label='SIMQSO')\n",
    "        thisax.plot(wave, qflux[indx, :], alpha=0.7, label='QSO')\n",
    "        thisax.xaxis.set_major_locator(plt.MaxNLocator(3))\n",
    "        thisax.set_xlim(xlim)\n",
    "        ww = (wave > xlim[0]) * (wave < xlim[1])\n",
    "        ylim = (flux[indx, ww].min(), flux[indx, ww].max())\n",
    "        thisax.set_ylim(ylim)\n",
    "        thisax.yaxis.set_ticklabels([])\n",
    "        if xlim[1] > 1e4:\n",
    "            thisax.set_xscale('log')\n",
    "            thisax.set_yscale('log')\n",
    "        if ii == 0:\n",
    "            thisax.legend(loc='upper left')\n",
    "    fig.subplots_adjust(wspace=0.05, hspace=0.05)"
   ]
  },
  {
   "cell_type": "code",
   "execution_count": null,
   "metadata": {},
   "outputs": [],
   "source": [
    "compare_templates()"
   ]
  },
  {
   "cell_type": "code",
   "execution_count": null,
   "metadata": {},
   "outputs": [],
   "source": [
    "compare_templates(xlim=(6000, maxwave))"
   ]
  },
  {
   "cell_type": "markdown",
   "metadata": {},
   "source": [
    "### Compare the two template sets in color-color and color-redshift space."
   ]
  },
  {
   "cell_type": "code",
   "execution_count": null,
   "metadata": {
    "collapsed": true
   },
   "outputs": [],
   "source": [
    "def flux2colors(cat):\n",
    "    \"\"\"Convert DECam/WISE fluxes to magnitudes and colors.\"\"\"\n",
    "    colors = dict()\n",
    "    #with warnings.catch_warnings(): # ignore missing fluxes (e.g., for QSOs)\n",
    "    #    warnings.simplefilter('ignore')\n",
    "    colors['g'] = 22.5 - 2.5 * np.log10(cat['FLUX_G'])\n",
    "    colors['r'] = 22.5 - 2.5 * np.log10(cat['FLUX_R'])\n",
    "    colors['z'] = 22.5 - 2.5 * np.log10(cat['FLUX_Z'])\n",
    "    colors['gr'] = colors['g'] - colors['r']\n",
    "    colors['gz'] = colors['g'] - colors['z']\n",
    "    colors['rz'] = colors['r'] - colors['z']\n",
    "    colors['grz'] = 22.5-2.5*np.log10(cat['FLUX_G'] + 0.8 * cat['FLUX_R'] +  0.5 * cat['FLUX_G'] / 2.3)\n",
    "\n",
    "    with np.errstate(invalid='ignore'):\n",
    "        colors['W'] = 22.5-2.5*np.log10(0.75 * cat['FLUX_W1'] + 0.25 * cat['FLUX_W2'])\n",
    "        colors['rW'] = colors['r'] - colors['W']\n",
    "    \n",
    "    return colors"
   ]
  },
  {
   "cell_type": "code",
   "execution_count": null,
   "metadata": {
    "collapsed": true
   },
   "outputs": [],
   "source": [
    "colors = flux2colors(meta)\n",
    "qcolors = flux2colors(qmeta)"
   ]
  },
  {
   "cell_type": "code",
   "execution_count": null,
   "metadata": {
    "collapsed": true
   },
   "outputs": [],
   "source": [
    "def qso_colorbox(ax, plottype='grz'):\n",
    "    \"\"\"Draw the QSO selection boxes.\"\"\"\n",
    "    rmaglim = 22.7\n",
    "    xlim = ax.get_xlim()\n",
    "    ylim = ax.get_ylim()\n",
    "    if plottype == 'grz-r':\n",
    "        verts = [(xlim[0]-0.05, 17.0),\n",
    "                 (22.7, 17.0),\n",
    "                 (22.7, ylim[1]+0.05),\n",
    "                 (xlim[0]-0.05, ylim[1]+0.05)\n",
    "                ]\n",
    "    if plottype == 'rW1-rz':\n",
    "        verts = None\n",
    "        ax.axvline(x=-0.3, ls='--', color='k')\n",
    "        ax.axvline(x=1.3, ls='--', color='k')\n",
    "\n",
    "    if plottype == 'gr-rz':\n",
    "        verts = [(-0.3, 1.3),\n",
    "                 (1.1, 1.3),\n",
    "                 (1.1, ylim[0]-0.05),\n",
    "                 (-0.3, ylim[0]-0.05)\n",
    "                ]\n",
    "    if verts:\n",
    "        ax.add_patch(Polygon(verts, fill=False, ls='--', color='k'))"
   ]
  },
  {
   "cell_type": "code",
   "execution_count": null,
   "metadata": {
    "collapsed": true
   },
   "outputs": [],
   "source": [
    "def qa_colorcolor():\n",
    "    fig, (ax1, ax2) = plt.subplots(1, 2, figsize=(12, 4))\n",
    "    ax1.scatter(colors['rz'], colors['gr'], s=14, label='SIMQSO')\n",
    "    ax1.scatter(qcolors['rz'], qcolors['gr'], s=14, label='QSO')\n",
    "    ax1.set_xlabel('$r - z$')\n",
    "    ax1.set_ylabel('$g - r$')\n",
    "    ax1.set_xlim(-1, 2.2)\n",
    "    ax1.set_ylim(-1, 2.0)\n",
    "    ax1.legend(loc='upper right')\n",
    "    qso_colorbox(ax1, 'gr-rz')\n",
    "    \n",
    "    ax2.scatter(colors['gz'], colors['rW'], s=14, label='SIMQSO')\n",
    "    ax2.set_xlabel('$g - z$')\n",
    "    ax2.set_ylabel('$r - W$')\n",
    "    ax2.set_xlim(-0.3, 2)\n",
    "    ax2.set_ylim(-1, 3)\n",
    "    ax2.legend(loc='upper right')\n",
    "    gzaxis = np.linspace(-0.5, 2.0, 50)\n",
    "    ax2.plot(gzaxis, np.polyval([1.0, -1.0], gzaxis))\n",
    "    #qso_colorbox(ax1, 'gr-rz')\n",
    "    plt.subplots_adjust(wspace=0.3)"
   ]
  },
  {
   "cell_type": "code",
   "execution_count": null,
   "metadata": {},
   "outputs": [],
   "source": [
    "qa_colorcolor()"
   ]
  },
  {
   "cell_type": "code",
   "execution_count": null,
   "metadata": {
    "collapsed": true
   },
   "outputs": [],
   "source": []
  }
 ],
 "metadata": {
  "anaconda-cloud": {},
  "kernelspec": {
   "display_name": "Python 3",
   "language": "python",
   "name": "python3"
  },
  "language_info": {
   "codemirror_mode": {
    "name": "ipython",
    "version": 3
   },
   "file_extension": ".py",
   "mimetype": "text/x-python",
   "name": "python",
   "nbconvert_exporter": "python",
   "pygments_lexer": "ipython3",
   "version": "3.5.3"
  }
 },
 "nbformat": 4,
 "nbformat_minor": 2
}
